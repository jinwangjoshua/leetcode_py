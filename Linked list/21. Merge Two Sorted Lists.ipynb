{
 "cells": [
  {
   "cell_type": "code",
   "execution_count": null,
   "metadata": {},
   "outputs": [],
   "source": [
    "\"\"\"\n",
    "Merge two sorted linked lists and return it as a new list. \n",
    "The new list should be made by splicing together the nodes of the first two lists.\n",
    "\n",
    "Example:\n",
    "\n",
    "Input: 1->2->4, 1->3->4\n",
    "Output: 1->1->2->3->4->4\n",
    "\"\"\""
   ]
  },
  {
   "cell_type": "code",
   "execution_count": 6,
   "metadata": {},
   "outputs": [],
   "source": [
    "# Definition for singly-linked list.\n",
    "class ListNode:\n",
    "    def __init__(self, x):\n",
    "        self.val = x\n",
    "        self.next = None\n",
    "\n",
    "\n",
    "class Solution(object):\n",
    "    def mergeTwoLists(self, l1, l2):\n",
    "        if not l1:   #l1若none\n",
    "            return l2\n",
    "        if not l2:\n",
    "            return l1\n",
    "        \n",
    "        merged_head = None\n",
    "        if(l1.val <= l2.val):\n",
    "            merged_head = l1\n",
    "            merged_head.next = self.mergeTwoLists(l1.next, l2)\n",
    "        else:\n",
    "            merged_head = l2\n",
    "            merged_head.next = self.mergeTwoLists(l1, l2.next)\n",
    "        return merged_head\n",
    "  \n"
   ]
  },
  {
   "cell_type": "code",
   "execution_count": 7,
   "metadata": {},
   "outputs": [],
   "source": [
    "class ListNode:\n",
    "    def __init__(self, x):\n",
    "        self.val = x\n",
    "        self.next = None\n",
    "# Recursive way.\n",
    "\n",
    "class Solution(object):\n",
    "    def merge(self, li1, li2):\n",
    "        if not li1:\n",
    "            return li2\n",
    "        if not li2:\n",
    "            return li1\n",
    "        \n",
    "        merge_head = None\n",
    "        if (li1.val <= li2.val):\n",
    "            merge_head = li1\n",
    "            merge_head.next = self.merge(li1.next, li2)\n",
    "        else:\n",
    "            merge_head = li2\n",
    "            merge_head.next = self.merge(li1, li2.next)\n",
    "        return merge_head"
   ]
  },
  {
   "cell_type": "code",
   "execution_count": null,
   "metadata": {},
   "outputs": [],
   "source": []
  },
  {
   "cell_type": "code",
   "execution_count": null,
   "metadata": {},
   "outputs": [],
   "source": []
  }
 ],
 "metadata": {
  "kernelspec": {
   "display_name": "Python 3",
   "language": "python",
   "name": "python3"
  },
  "language_info": {
   "codemirror_mode": {
    "name": "ipython",
    "version": 3
   },
   "file_extension": ".py",
   "mimetype": "text/x-python",
   "name": "python",
   "nbconvert_exporter": "python",
   "pygments_lexer": "ipython3",
   "version": "3.6.3"
  }
 },
 "nbformat": 4,
 "nbformat_minor": 2
}
