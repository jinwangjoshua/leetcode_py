{
 "cells": [
  {
   "cell_type": "code",
   "execution_count": null,
   "metadata": {},
   "outputs": [],
   "source": [
    "\"\"\"\n",
    "Write a program to find the node at which the intersection of two singly linked lists begins.\n",
    "\n",
    "\n",
    "For example, the following two linked lists:\n",
    "\n",
    "A:          a1 → a2\n",
    "                   ↘\n",
    "                     c1 → c2 → c3\n",
    "                   ↗            \n",
    "B:     b1 → b2 → b3\n",
    "begin to intersect at node c1.\n",
    "\n",
    "\n",
    "Notes:\n",
    "\n",
    "If the two linked lists have no intersection at all, return null.\n",
    "The linked lists must retain their original structure after the function returns.\n",
    "You may assume there are no cycles anywhere in the entire linked structure.\n",
    "Your code should preferably run in O(n) time and use only O(1) memory.\n",
    "\"\"\""
   ]
  },
  {
   "cell_type": "code",
   "execution_count": 17,
   "metadata": {},
   "outputs": [],
   "source": [
    "#这道题有两种解法\n",
    "#容易想到的第一种解法，先求出AB两个链表的长度，求出长度的差值，然后较长的那个从减掉长处的那部分开始，两个链表同时递增，遇到相同的节点既就是交叉节点。\n",
    "# Definition for singly-linked list.\n",
    "# class ListNode:\n",
    "#     def __init__(self, x):\n",
    "#         self.val = x\n",
    "#         self.next = None\n",
    "\n",
    "class Solution:\n",
    "    # @param headA: the first list\n",
    "    # @param headB: the second list\n",
    "    # @return: a ListNode\n",
    "    def getIntersectionNode(self, headA, headB):\n",
    "        # Write your code here\n",
    "        lenA, lenB = 0, 0\n",
    "        node1, node2 = headA, headB\n",
    "        while node1 is not None:\n",
    "            lenA += 1\n",
    "            node1 = node1.next\n",
    "        while node2 is not None:\n",
    "            lenB += 1\n",
    "            node2 = node2.next\n",
    "        \n",
    "        node1, node2 = headA, headB\n",
    "        while lenA > lenB:   #好处在于已经说了是后面交叉，前面一定不交叉\n",
    "            node1 = node1.next\n",
    "            lenA -= 1\n",
    "        while lenB > lenA:\n",
    "            node2 = node2.next\n",
    "            lenB -=1\n",
    "        while node1 is not node2:\n",
    "            node1 = node1.next\n",
    "            node2 = node2.next\n",
    "        return node1\n",
    "###这个比较正常"
   ]
  },
  {
   "cell_type": "code",
   "execution_count": 18,
   "metadata": {},
   "outputs": [],
   "source": [
    "\"\"\"\n",
    "第二种解法，则是利用带环链表的问题，我们将第一个表的尾与第二个链表的头相连，自然就成了带环链表，\n",
    "然后的问题就是求出带环链表的环起始节点了，这个可以参考问题带环链表II.\n",
    "由于题目要求不改变表结构，所以最后恢复表结构即可。\n",
    "\n",
    "\n",
    "\"\"\"\n",
    "\n",
    "# Definition for singly-linked list.\n",
    "# class ListNode(object):\n",
    "#     def __init__(self, x):\n",
    "#         self.val = x\n",
    "#         self.next = None\n",
    "\n",
    "class Solution:\n",
    "    # @param two ListNodes\n",
    "    # @return the intersected ListNode\n",
    "    def getIntersectionNode(self, headA, headB):\n",
    "        if headA is None or headB is None:\n",
    "            return None\n",
    "\n",
    "        pa = headA # 2 pointers\n",
    "        pb = headB\n",
    "\n",
    "        while pa is not pb:\n",
    "            # if either pointer hits the end, switch head and continue the second traversal, \n",
    "            # if not hit the end, just move on to next\n",
    "            pa = headB if pa is None else pa.next\n",
    "            pb = headA if pb is None else pb.next\n",
    "        #这个有点玄学，好像默认两个链表除了交叉部分其他没有地方commen\n",
    "        return pa # only 2 ways to get out of the loop, they meet or the both hit the end=None\n",
    "        "
   ]
  },
  {
   "cell_type": "code",
   "execution_count": 19,
   "metadata": {},
   "outputs": [],
   "source": [
    "b=4 if 3==5 else 3==3"
   ]
  },
  {
   "cell_type": "code",
   "execution_count": 20,
   "metadata": {},
   "outputs": [
    {
     "data": {
      "text/plain": [
       "True"
      ]
     },
     "execution_count": 20,
     "metadata": {},
     "output_type": "execute_result"
    }
   ],
   "source": [
    "b"
   ]
  },
  {
   "cell_type": "code",
   "execution_count": null,
   "metadata": {},
   "outputs": [],
   "source": []
  }
 ],
 "metadata": {
  "kernelspec": {
   "display_name": "Python 3",
   "language": "python",
   "name": "python3"
  },
  "language_info": {
   "codemirror_mode": {
    "name": "ipython",
    "version": 3
   },
   "file_extension": ".py",
   "mimetype": "text/x-python",
   "name": "python",
   "nbconvert_exporter": "python",
   "pygments_lexer": "ipython3",
   "version": "3.6.3"
  }
 },
 "nbformat": 4,
 "nbformat_minor": 2
}
