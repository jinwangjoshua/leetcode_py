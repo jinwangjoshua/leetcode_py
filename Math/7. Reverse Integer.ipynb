{
 "cells": [
  {
   "cell_type": "code",
   "execution_count": null,
   "metadata": {},
   "outputs": [],
   "source": [
    "\"\"\"\n",
    "Given a 32-bit signed integer, reverse digits of an integer.\n",
    "\n",
    "Example 1:\n",
    "\n",
    "Input: 123\n",
    "Output: 321\n",
    "Example 2:\n",
    "\n",
    "Input: -123\n",
    "Output: -321\n",
    "Example 3:\n",
    "\n",
    "Input: 120\n",
    "Output: 21\n",
    "Note:\n",
    "Assume we are dealing with an environment \n",
    "which could only store integers within the 32-bit signed integer range: [−231,  231 − 1].\n",
    "For the purpose of this problem, assume that your function returns 0 when the reversed integer overflows.\n",
    "\n",
    "本题的几个坑： \n",
    "1. 原整数是以0结尾的，该如何处理？——比如x=10或x=100，那么都返回1。 \n",
    "2. 原整数反转后溢出怎么办？——比如x=1000000003，反转溢出，那么规定溢出的结果都返回0。\n",
    "\n",
    "\n",
    "\"\"\""
   ]
  },
  {
   "cell_type": "code",
   "execution_count": 109,
   "metadata": {},
   "outputs": [
    {
     "data": {
      "text/plain": [
       "-43321"
      ]
     },
     "execution_count": 109,
     "metadata": {},
     "output_type": "execute_result"
    }
   ],
   "source": [
    "# 思路1\n",
    "# 利用Python的字符串反转操作来实现对整数的反转，反转后的字符串要重新转换为整数。同上面一样，要注意正负和溢出情况。\n",
    "class  Solution(object):\n",
    "    def reverse(self, x):\n",
    "        \"\"\"\n",
    "        :type x: int\n",
    "        :rtype: int\n",
    "        \"\"\"\n",
    "        if x >= 0:\n",
    "            x = int(str(x)[::-1])  \n",
    "        else:\n",
    "            x = - int(str(-x)[::-1])\n",
    "        \n",
    "        if x < (1<<31) and x >= -(1<<31) :\n",
    "            return x\n",
    "        else:\n",
    "            return 0\n",
    "    \n",
    "Solution().reverse(-12334)"
   ]
  },
  {
   "cell_type": "code",
   "execution_count": 110,
   "metadata": {},
   "outputs": [],
   "source": [
    "def reverse(self, x):\n",
    "    if x >=0:\n",
    "        x = int(str(x)[::-1])\n",
    "    else:\n",
    "        x= -int(str(x)[::-1])\n",
    "        \n",
    "    if x < (1<<31) and x>= -(1<<31):\n",
    "        return x\n",
    "    else:\n",
    "        return 0"
   ]
  },
  {
   "cell_type": "code",
   "execution_count": 114,
   "metadata": {},
   "outputs": [
    {
     "name": "stdout",
     "output_type": "stream",
     "text": [
      "12334\n",
      "1233\n",
      "123\n",
      "12\n",
      "1\n",
      "0\n"
     ]
    },
    {
     "data": {
      "text/plain": [
       "-543321"
      ]
     },
     "execution_count": 114,
     "metadata": {},
     "output_type": "execute_result"
    }
   ],
   "source": [
    "#思路2\n",
    "# 循环通过对10取模得到尾部数字，一步步乘10构造新的翻转后的整数即可。然而要注意首先判断原数字的正负，最后还要判断结果是否溢出。\n",
    "\n",
    "class Solution(object):\n",
    "    def reverse(self, x):\n",
    "        \"\"\"\n",
    "        :type x: int\n",
    "        :rtype: int\n",
    "        \"\"\"\n",
    "        flag = 1 if x >= 0 else -1\n",
    "        new_x, x = 0, abs(x)\n",
    "        \n",
    "        while x:\n",
    "            new_x = 10 * new_x + x % 10\n",
    "            x //= 10   #取整除 - 返回商的整数部分\n",
    "            print(x)\n",
    "        new_x = flag * new_x\n",
    "        \n",
    "        if new_x < (1<<31) and new_x >= -(1<<31):\n",
    "            return new_x\n",
    "        else:\n",
    "            return 0\n",
    "Solution().reverse(-123345)"
   ]
  },
  {
   "cell_type": "code",
   "execution_count": 117,
   "metadata": {},
   "outputs": [
    {
     "data": {
      "text/plain": [
       "-543321"
      ]
     },
     "execution_count": 117,
     "metadata": {},
     "output_type": "execute_result"
    }
   ],
   "source": [
    "def reverse(x):\n",
    "    sign = 1 if x>=0 else -1\n",
    "    new_x, x = 0, abs(x)\n",
    "    while x:\n",
    "        new_x = new_x *10 + x%10\n",
    "        x = x // 10\n",
    "    new_x = sign * new_x\n",
    "    if new_x < (1<<31) and new_x >= -(1<<31):\n",
    "        return new_x\n",
    "    else:\n",
    "        return 0\n",
    "reverse(-123345)"
   ]
  },
  {
   "cell_type": "code",
   "execution_count": null,
   "metadata": {},
   "outputs": [],
   "source": []
  },
  {
   "cell_type": "code",
   "execution_count": null,
   "metadata": {},
   "outputs": [],
   "source": []
  }
 ],
 "metadata": {
  "kernelspec": {
   "display_name": "Python 3",
   "language": "python",
   "name": "python3"
  },
  "language_info": {
   "codemirror_mode": {
    "name": "ipython",
    "version": 3
   },
   "file_extension": ".py",
   "mimetype": "text/x-python",
   "name": "python",
   "nbconvert_exporter": "python",
   "pygments_lexer": "ipython3",
   "version": "3.6.3"
  }
 },
 "nbformat": 4,
 "nbformat_minor": 2
}
