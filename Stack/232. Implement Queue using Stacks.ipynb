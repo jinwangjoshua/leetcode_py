{
 "cells": [
  {
   "cell_type": "code",
   "execution_count": null,
   "metadata": {},
   "outputs": [],
   "source": [
    "\"\"\"Implement the following operations of a queue using stacks.\n",
    "\n",
    "push(x) -- Push element x to the back of queue.\n",
    "pop() -- Removes the element from in front of queue.\n",
    "peek() -- Get the front element.\n",
    "empty() -- Return whether the queue is empty.\n",
    "Example:\n",
    "\n",
    "MyQueue queue = new MyQueue();\n",
    "\n",
    "queue.push(1);\n",
    "queue.push(2);  \n",
    "queue.peek();  // returns 1\n",
    "queue.pop();   // returns 1\n",
    "queue.empty(); // returns false\n",
    "Notes:\n",
    "\n",
    "You must use only standard operations of a stack -- which means only push to top, peek/pop from top, size, and is empty operations are valid.\n",
    "Depending on your language, stack may not be supported natively. You may simulate a stack by using a list or deque (double-ended queue), as long as you use only standard operations of a stack.\n",
    "You may assume that all operations are valid (for example, no pop or peek operations will be called on an empty queue).\"\"\""
   ]
  },
  {
   "cell_type": "code",
   "execution_count": null,
   "metadata": {},
   "outputs": [],
   "source": [
    "# 双栈法：\n",
    "# 维护两个栈inStack与outStack，其中inStack接收push操作新增的元素，outStack为pop/peek操作提供服务\n",
    "\n",
    "# 由于栈具有后进先出（Last In First Out）的性质，栈A中的元素依次弹出并压入空栈B之后，栈A中元素的顺序会被逆转\n",
    "\n",
    "# 当执行pop或者peek操作时，如果outStack中元素为空，则将inStack中的所有元素弹出并压入outStack，然后对outStack执行相应操作\n",
    "\n",
    "# 由于元素至多只会从inStack向outStack移动一次，因此peek/pop操作的平摊开销为O(1)\n",
    "\n",
    "# Python代码：\n",
    "class Queue:\n",
    "    # initialize your data structure here.\n",
    "    def __init__(self):\n",
    "        self.inStack = []\n",
    "        self.outStack = []\n",
    "\n",
    "    # @param x, an integer\n",
    "    # @return nothing\n",
    "    def push(self, x):\n",
    "        self.inStack.append(x)\n",
    "\n",
    "    # @return nothing\n",
    "    def pop(self):\n",
    "        self.peek()\n",
    "        self.outStack.pop()\n",
    "\n",
    "    # @return an integer\n",
    "    def peek(self):\n",
    "        if not self.outStack:\n",
    "            while self.inStack:\n",
    "                self.outStack.append(self.inStack.pop())\n",
    "        return self.outStack[-1]\n",
    "\n",
    "    # @return an boolean\n",
    "    def empty(self):\n",
    "        return len(self.inStack) + len(self.outStack) == 0"
   ]
  },
  {
   "cell_type": "code",
   "execution_count": 20,
   "metadata": {},
   "outputs": [],
   "source": [
    "# 单栈法：\n",
    "# 在执行push操作时，使用辅助栈swap，将栈中元素顺序按照push顺序的逆序存储。\n",
    "\n",
    "# 此时，push操作的时间复杂度为O(n)，其余操作的时间复杂度为O(1)\n",
    "\n",
    "# Python代码：\n",
    "class Queue:\n",
    "    # initialize your data structure here.\n",
    "    def __init__(self):\n",
    "        self.stack = []\n",
    "\n",
    "    # @param x, an integer\n",
    "    # @return nothing\n",
    "    def push(self, x):  #每次进来一个都插到最前面\n",
    "        swap = []\n",
    "        while self.stack:\n",
    "            swap.append(self.stack.pop())\n",
    "        swap.append(x)\n",
    "        while swap:\n",
    "            self.stack.append(swap.pop())\n",
    "\n",
    "    # @return nothing\n",
    "    def pop(self):\n",
    "        return self.stack.pop()\n",
    "\n",
    "    # @return an integer\n",
    "    def peek(self):\n",
    "        return self.stack[-1]\n",
    "\n",
    "    # @return an boolean\n",
    "    def empty(self):\n",
    "        return len(self.stack) == 0"
   ]
  },
  {
   "cell_type": "code",
   "execution_count": null,
   "metadata": {},
   "outputs": [],
   "source": [
    "class Queue:\n",
    "    def __init__(self):\n",
    "        self.stack = []\n",
    "    def push(self, x):\n",
    "        swap = []\n",
    "        while self.stack:\n",
    "            swap.append(self.stack.pop())\n",
    "        swap.append(x)\n",
    "        while swap:\n",
    "            self.stack.append(swap.pop())\n",
    "            \n",
    "    def pop(self):\n",
    "        return self.stack.pop()\n",
    "    def peek(self):\n",
    "        return self.stack[-1]\n",
    "    def empty(self):\n",
    "        return len(self.stack) == 0\n",
    "        \n",
    "        "
   ]
  },
  {
   "cell_type": "code",
   "execution_count": null,
   "metadata": {},
   "outputs": [],
   "source": []
  },
  {
   "cell_type": "code",
   "execution_count": 19,
   "metadata": {},
   "outputs": [
    {
     "name": "stdout",
     "output_type": "stream",
     "text": [
      "[4]\n",
      "[4, 3]\n",
      "[4, 3, 1]\n"
     ]
    },
    {
     "data": {
      "text/plain": [
       "[5, 1, 3, 4]"
      ]
     },
     "execution_count": 19,
     "metadata": {},
     "output_type": "execute_result"
    }
   ],
   "source": [
    "stack = [1,3,4]\n",
    "swap = []\n",
    "while stack:\n",
    "    swap.append(stack.pop())\n",
    "    print(swap)\n",
    "swap.append(5)\n",
    "while swap:\n",
    "    stack.append(swap.pop())\n",
    "stack"
   ]
  },
  {
   "cell_type": "code",
   "execution_count": null,
   "metadata": {},
   "outputs": [],
   "source": []
  },
  {
   "cell_type": "code",
   "execution_count": null,
   "metadata": {},
   "outputs": [],
   "source": []
  }
 ],
 "metadata": {
  "kernelspec": {
   "display_name": "Python 3",
   "language": "python",
   "name": "python3"
  },
  "language_info": {
   "codemirror_mode": {
    "name": "ipython",
    "version": 3
   },
   "file_extension": ".py",
   "mimetype": "text/x-python",
   "name": "python",
   "nbconvert_exporter": "python",
   "pygments_lexer": "ipython3",
   "version": "3.6.3"
  }
 },
 "nbformat": 4,
 "nbformat_minor": 2
}
