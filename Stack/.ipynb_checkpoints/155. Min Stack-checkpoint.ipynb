{
 "cells": [
  {
   "cell_type": "code",
   "execution_count": null,
   "metadata": {},
   "outputs": [],
   "source": [
    "\"\"\"Design a stack that supports push, pop, top, and retrieving the minimum element in constant time.\n",
    "\n",
    "push(x) -- Push element x onto stack.\n",
    "pop() -- Removes the element on top of the stack.\n",
    "top() -- Get the top element.\n",
    "getMin() -- Retrieve the minimum element in the stack.\n",
    "Example:\n",
    "MinStack minStack = new MinStack();\n",
    "minStack.push(-2);\n",
    "minStack.push(0);\n",
    "minStack.push(-3);\n",
    "minStack.getMin();   --> Returns -3.\n",
    "minStack.pop();\n",
    "minStack.top();      --> Returns 0.\n",
    "minStack.getMin();   --> Returns -2.\n",
    "\n",
    "\n",
    "只是想要一个有最小值方法的栈不要想多了！！！\n",
    "\"\"\""
   ]
  },
  {
   "cell_type": "code",
   "execution_count": null,
   "metadata": {},
   "outputs": [],
   "source": [
    "class MinStack:\n",
    "    # @param x, an integer\n",
    "    # @return an integer\n",
    "    def __init__(self):\n",
    "        self.nodes = [] #元素栈\n",
    "        self.minNodes = [] #最小值栈\n",
    "\n",
    "    def push(self, x):\n",
    "        self.nodes.append(x)\n",
    "        if len(self.minNodes):\n",
    "            x = min(self.minNodes[-1], x)\n",
    "        self.minNodes.append(x)\n",
    "\n",
    "    def pop(self):\n",
    "        self.minNodes.pop()\n",
    "        return self.nodes.pop()\n",
    "\n",
    "    def top(self):\n",
    "        return self.nodes[-1]\n",
    "\n",
    "    def getMin(self):\n",
    "        return self.minNodes[-1]"
   ]
  },
  {
   "cell_type": "code",
   "execution_count": 1,
   "metadata": {},
   "outputs": [],
   "source": [
    "class MinStack:\n",
    "  # @param x, an integer\n",
    "  # @return an integer\n",
    "  def __init__(self):\n",
    "    self.stack = []\n",
    "    self.minStack = [] #最小值栈 \n",
    "\n",
    "  def push(self, x):\n",
    "    self.stack.append(x)\n",
    "    #如果 最小值栈为空，或者新增值 <= 最小值栈顶的值\n",
    "    if len(self.minStack) == 0 or x <= self.minStack[-1]:\n",
    "      #x入最小值栈\n",
    "      self.minStack.append(x)\n",
    "\n",
    "  def pop(self):\n",
    "    #如果 栈顶值 == 最小值栈顶值\n",
    "    if self.top() == self.getMin():\n",
    "        #最小值栈顶元素弹出\n",
    "        self.minStack.pop()\n",
    "    return self.stack.pop()\n",
    "\n",
    "  def top(self):\n",
    "    return self.stack[-1]\n",
    "\n",
    "  def getMin(self):\n",
    "    return self.minStack[-1]"
   ]
  },
  {
   "cell_type": "code",
   "execution_count": 6,
   "metadata": {},
   "outputs": [],
   "source": [
    "minStack = MinStack();\n",
    "minStack.push(-2);\n",
    "minStack.push(0);\n",
    "minStack.push(-1);\n",
    "# minStack.getMin();   --> Returns -3.\n",
    "# minStack.pop();\n",
    "# minStack.top();      --> Returns 0.\n",
    "# minStack.getMin();   --> Returns -2."
   ]
  },
  {
   "cell_type": "code",
   "execution_count": 11,
   "metadata": {},
   "outputs": [
    {
     "data": {
      "text/plain": [
       "-2"
      ]
     },
     "execution_count": 11,
     "metadata": {},
     "output_type": "execute_result"
    }
   ],
   "source": [
    "minStack.pop()"
   ]
  },
  {
   "cell_type": "code",
   "execution_count": null,
   "metadata": {},
   "outputs": [],
   "source": []
  },
  {
   "cell_type": "code",
   "execution_count": null,
   "metadata": {},
   "outputs": [],
   "source": []
  },
  {
   "cell_type": "code",
   "execution_count": null,
   "metadata": {},
   "outputs": [],
   "source": []
  }
 ],
 "metadata": {
  "kernelspec": {
   "display_name": "Python 3",
   "language": "python",
   "name": "python3"
  },
  "language_info": {
   "codemirror_mode": {
    "name": "ipython",
    "version": 3
   },
   "file_extension": ".py",
   "mimetype": "text/x-python",
   "name": "python",
   "nbconvert_exporter": "python",
   "pygments_lexer": "ipython3",
   "version": "3.6.3"
  }
 },
 "nbformat": 4,
 "nbformat_minor": 2
}
