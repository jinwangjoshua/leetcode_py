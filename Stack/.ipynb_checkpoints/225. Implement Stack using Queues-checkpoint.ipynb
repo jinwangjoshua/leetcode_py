{
 "cells": [
  {
   "cell_type": "code",
   "execution_count": null,
   "metadata": {},
   "outputs": [],
   "source": [
    "\"\"\"Implement the following operations of a stack using queues.\n",
    "\n",
    "push(x) -- Push element x onto stack.\n",
    "pop() -- Removes the element on top of the stack.\n",
    "top() -- Get the top element.\n",
    "empty() -- Return whether the stack is empty.\n",
    "Example:\n",
    "\n",
    "MyStack stack = new MyStack();\n",
    "\n",
    "stack.push(1);\n",
    "stack.push(2);  \n",
    "stack.top();   // returns 2\n",
    "stack.pop();   // returns 2\n",
    "stack.empty(); // returns false\n",
    "Notes:\n",
    "\n",
    "You must use only standard operations of a queue -- which means only push to back, peek/pop from front, size, and is empty operations are valid.\n",
    "Depending on your language, queue may not be supported natively. You may simulate a queue by using a list or deque (double-ended queue), as long as you use only standard operations of a queue.\n",
    "You may assume that all operations are valid (for example, no pop or top operations will be called on an empty stack).\"\"\""
   ]
  },
  {
   "cell_type": "code",
   "execution_count": 1,
   "metadata": {},
   "outputs": [],
   "source": [
    "class Stack:\n",
    "    # initialize your data structure here.\n",
    "    def __init__(self):\n",
    "        self.queue = []\n",
    "\n",
    "    # @param x, an integer\n",
    "    # @return nothing\n",
    "    def push(self, x):\n",
    "        self.queue.append(x)\n",
    "\n",
    "    # @return nothing\n",
    "    def pop(self):\n",
    "        for x in range(len(self.queue) - 1):\n",
    "            self.queue.append(self.queue.pop(0))#真变态，为了实现后进先出，就两次先进先出\n",
    "        self.queue.pop(0)\n",
    "\n",
    "    # @return an integer\n",
    "    def top(self):\n",
    "        top = None\n",
    "        for x in range(len(self.queue)):\n",
    "            top = self.queue.pop(0)\n",
    "            self.queue.append(top)\n",
    "        return top\n",
    "\n",
    "    # @return an boolean\n",
    "    def empty(self):\n",
    "        return self.queue == []"
   ]
  },
  {
   "cell_type": "code",
   "execution_count": null,
   "metadata": {},
   "outputs": [],
   "source": [
    "class stack:\n",
    "    def __init__(self):\n",
    "        self.queue = []\n",
    "    def push(self, num):\n",
    "        self.queue.append(num)\n",
    "    def pop(self):\n",
    "        for x in range(len(queue)-1):\n",
    "            self.queue.append(self.queue.pop(0))\n",
    "        self.queue.pop(0)   #其实就是为了把其他都挪开\n",
    "    def top(self):\n",
    "        top= None\n",
    "        for x in range(len(self.queue)):\n",
    "            top = self.queue.pop(0)\n",
    "            self.queue.append(top)\n",
    "        return top\n",
    "    def empty(self):\n",
    "        return self.queue == []\n",
    "        \n",
    "        \n",
    "\"\"\"解题思路：\n",
    "push(x) -- 使用queue的push to back操作.\n",
    "pop() -- 将queue中除队尾外的所有元素pop from front然后push to back，最后执行一次pop from front\n",
    "top() -- 将queue中所有元素pop from front然后push to back，使用辅助变量top记录每次弹出的元素，返回top\n",
    "empty() -- 使用queue的is empty操作.\"\"\""
   ]
  },
  {
   "cell_type": "code",
   "execution_count": null,
   "metadata": {},
   "outputs": [],
   "source": []
  },
  {
   "cell_type": "code",
   "execution_count": null,
   "metadata": {},
   "outputs": [],
   "source": []
  },
  {
   "cell_type": "code",
   "execution_count": null,
   "metadata": {},
   "outputs": [],
   "source": []
  },
  {
   "cell_type": "code",
   "execution_count": null,
   "metadata": {},
   "outputs": [],
   "source": []
  }
 ],
 "metadata": {
  "kernelspec": {
   "display_name": "Python 3",
   "language": "python",
   "name": "python3"
  },
  "language_info": {
   "codemirror_mode": {
    "name": "ipython",
    "version": 3
   },
   "file_extension": ".py",
   "mimetype": "text/x-python",
   "name": "python",
   "nbconvert_exporter": "python",
   "pygments_lexer": "ipython3",
   "version": "3.6.3"
  }
 },
 "nbformat": 4,
 "nbformat_minor": 2
}
