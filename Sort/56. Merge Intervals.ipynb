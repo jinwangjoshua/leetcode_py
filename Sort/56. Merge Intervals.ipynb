{
 "cells": [
  {
   "cell_type": "code",
   "execution_count": null,
   "metadata": {},
   "outputs": [],
   "source": [
    "# Given a collection of intervals, merge all overlapping intervals.\n",
    "\n",
    "# Example 1:\n",
    "\n",
    "# Input: [[1,3],[2,6],[8,10],[15,18]]\n",
    "# Output: [[1,6],[8,10],[15,18]]\n",
    "# Explanation: Since intervals [1,3] and [2,6] overlaps, merge them into [1,6].\n",
    "# Example 2:\n",
    "\n",
    "# Input: [[1,4],[4,5]]\n",
    "# Output: [[1,5]]\n",
    "# Explanation: Intervals [1,4] and [4,5] are considerred overlapping."
   ]
  },
  {
   "cell_type": "code",
   "execution_count": null,
   "metadata": {},
   "outputs": [],
   "source": [
    "# Definition for an interval.\n",
    "# class Interval:\n",
    "#     def __init__(self, s=0, e=0):\n",
    "#         self.start = s\n",
    "#         self.end = e\n",
    "\n",
    "class Solution:\n",
    "    # @param intervals, a list of Interval\n",
    "    # @return a list of Interval\n",
    "    def merge(self, intervals):\n",
    "        intervals = sorted(intervals, key=lambda x: x.start)\n",
    "        result = []\n",
    "        for interval in intervals:\n",
    "            if len(result) == 0 or result[-1].end < interval.start:\n",
    "                result.append(interval)\n",
    "            else:\n",
    "                result[-1].end = max(result[-1].end, interval.end)\n",
    "        return result"
   ]
  },
  {
   "cell_type": "code",
   "execution_count": null,
   "metadata": {},
   "outputs": [],
   "source": [
    "class Solution:\n",
    "    def merge(self, intervals):\n",
    "        intervals = sorted(intervals, key=lambda x :x.start)\n",
    "        result = []\n",
    "        for interval in intervals:\n",
    "            if len(result) == 0 or result[-1].end < interval.start:\n",
    "                result.append(interval)\n",
    "            else:\n",
    "                result[-1].end = max(result[-1].end, interval.end)\n",
    "        return result"
   ]
  },
  {
   "cell_type": "code",
   "execution_count": null,
   "metadata": {},
   "outputs": [],
   "source": []
  },
  {
   "cell_type": "code",
   "execution_count": null,
   "metadata": {},
   "outputs": [],
   "source": []
  },
  {
   "cell_type": "code",
   "execution_count": null,
   "metadata": {},
   "outputs": [],
   "source": []
  },
  {
   "cell_type": "code",
   "execution_count": null,
   "metadata": {},
   "outputs": [],
   "source": []
  },
  {
   "cell_type": "code",
   "execution_count": null,
   "metadata": {},
   "outputs": [],
   "source": []
  }
 ],
 "metadata": {
  "kernelspec": {
   "display_name": "Python 3",
   "language": "python",
   "name": "python3"
  },
  "language_info": {
   "codemirror_mode": {
    "name": "ipython",
    "version": 3
   },
   "file_extension": ".py",
   "mimetype": "text/x-python",
   "name": "python",
   "nbconvert_exporter": "python",
   "pygments_lexer": "ipython3",
   "version": "3.6.3"
  }
 },
 "nbformat": 4,
 "nbformat_minor": 2
}
