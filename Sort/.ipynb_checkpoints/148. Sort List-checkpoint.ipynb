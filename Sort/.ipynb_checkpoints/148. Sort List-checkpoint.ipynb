{
 "cells": [
  {
   "cell_type": "code",
   "execution_count": null,
   "metadata": {},
   "outputs": [],
   "source": [
    "\"\"\"Sort a linked list in O(n log n) time using constant space complexity.\n",
    "\n",
    "Example 1:\n",
    "\n",
    "Input: 4->2->1->3\n",
    "Output: 1->2->3->4\n",
    "Example 2:\n",
    "\n",
    "Input: -1->5->3->4->0\n",
    "Output: -1->0->3->4->5\n",
    "\n",
    "链表排序， 时间复杂度， 空间复杂度\n",
    "\n",
    "题目大意：\n",
    "使用常数空间复杂度，对一个链表执行O(n log n）时间复杂度的排序\n",
    "\n",
    "解题思路：\n",
    "归并排序，链表的中点可以通过“快慢指针”法求得。\n",
    "\"\"\""
   ]
  },
  {
   "cell_type": "code",
   "execution_count": null,
   "metadata": {},
   "outputs": [],
   "source": [
    "# Definition for singly-linked list.\n",
    "# class ListNode:\n",
    "#     def __init__(self, x):\n",
    "#         self.val = x\n",
    "#         self.next = None\n",
    "\n",
    "class Solution:\n",
    "    # @param head, a ListNode\n",
    "    # @return a ListNode\n",
    "    def sortList(self, head): \n",
    "        if head is None or head.next is None:\n",
    "            return head\n",
    "        mid = self.getMiddle(head)   #call merge\n",
    "        rHead = mid.next\n",
    "        mid.next = None\n",
    "        return self.merge(self.sortList(head), self.sortList(rHead))   #call merge\n",
    "    def merge(self, lHead, rHead):  #merge，仅仅使用开头的链表\n",
    "        dummyNode = ListNode(0)\n",
    "        dummyHead = dummyNode\n",
    "        while lHead and rHead:\n",
    "            if lHead.val < rHead.val:\n",
    "                dummyHead.next = lHead\n",
    "                lHead = lHead.next\n",
    "            else:\n",
    "                dummyHead.next = rHead\n",
    "                rHead = rHead.next\n",
    "            dummyHead = dummyHead.next\n",
    "        if lHead:#如果还剩的话\n",
    "            dummyHead.next = lHead\n",
    "        elif rHead:\n",
    "            dummyHead.next = rHead\n",
    "        return dummyNode.next\n",
    "    def getMiddle(self, head):   # 用快慢指针，快速指针是慢速两倍，当快速到底的时候，慢速刚好到中间\n",
    "        if head is None:\n",
    "            return head\n",
    "        slow = head\n",
    "        fast = head\n",
    "        while fast.next and fast.next.next:\n",
    "            slow = slow.next\n",
    "            fast = fast.next.next\n",
    "        return slow"
   ]
  },
  {
   "cell_type": "code",
   "execution_count": null,
   "metadata": {},
   "outputs": [],
   "source": [
    "\n"
   ]
  },
  {
   "cell_type": "code",
   "execution_count": null,
   "metadata": {},
   "outputs": [],
   "source": []
  },
  {
   "cell_type": "code",
   "execution_count": null,
   "metadata": {},
   "outputs": [],
   "source": []
  },
  {
   "cell_type": "code",
   "execution_count": null,
   "metadata": {},
   "outputs": [],
   "source": []
  },
  {
   "cell_type": "code",
   "execution_count": null,
   "metadata": {},
   "outputs": [],
   "source": []
  },
  {
   "cell_type": "code",
   "execution_count": null,
   "metadata": {},
   "outputs": [],
   "source": []
  },
  {
   "cell_type": "code",
   "execution_count": null,
   "metadata": {},
   "outputs": [],
   "source": []
  }
 ],
 "metadata": {
  "kernelspec": {
   "display_name": "Python 3",
   "language": "python",
   "name": "python3"
  },
  "language_info": {
   "codemirror_mode": {
    "name": "ipython",
    "version": 3
   },
   "file_extension": ".py",
   "mimetype": "text/x-python",
   "name": "python",
   "nbconvert_exporter": "python",
   "pygments_lexer": "ipython3",
   "version": "3.6.3"
  }
 },
 "nbformat": 4,
 "nbformat_minor": 2
}
