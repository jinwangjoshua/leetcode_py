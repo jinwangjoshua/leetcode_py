{
 "cells": [
  {
   "cell_type": "code",
   "execution_count": null,
   "metadata": {},
   "outputs": [],
   "source": [
    "\"\"\"Given an array with n objects colored red, white or blue, sort them in-place so that objects of the same color are adjacent, with the colors in the order red, white and blue.\n",
    "\n",
    "Here, we will use the integers 0, 1, and 2 to represent the color red, white, and blue respectively.\n",
    "\n",
    "Note: You are not suppose to use the library's sort function for this problem.\n",
    "\n",
    "Example:\n",
    "\n",
    "Input: [2,0,2,1,1,0]\n",
    "Output: [0,0,1,1,2,2]\n",
    "Follow up:\n",
    "\n",
    "A rather straight forward solution is a two-pass algorithm using counting sort.\n",
    "First, iterate the array counting number of 0's, 1's, and 2's, then overwrite array with total number of 0's, then 1's and followed by 2's.\n",
    "Could you come up with a one-pass algorithm using only constant space?\"\"\""
   ]
  },
  {
   "cell_type": "code",
   "execution_count": 5,
   "metadata": {},
   "outputs": [
    {
     "data": {
      "text/plain": [
       "[0, 0, 1, 1, 2, 2]"
      ]
     },
     "execution_count": 5,
     "metadata": {},
     "output_type": "execute_result"
    }
   ],
   "source": [
    "\n",
    "#有一个变态的方法，就是空间占用有点大\n",
    "class Solution:\n",
    "    def sortColors(self, nums):\n",
    "        \"\"\"\n",
    "        :type nums: List[int]\n",
    "        :rtype: void Do not return anything, modify nums in-place instead.\n",
    "        \"\"\"\n",
    "        if len(nums) <= 1:\n",
    "            return nums\n",
    "        new0 = [x for x in nums if x==0]\n",
    "        new1 = [x for x in nums if x==1]\n",
    "        new2 = [x for x in nums if x==2]\n",
    "        nums = new0 + new1 +new2\n",
    "        \n",
    "                \n",
    "     \n",
    "        \n",
    "Solution().sortColors([2,0,2,1,1,0])       "
   ]
  },
  {
   "cell_type": "code",
   "execution_count": 8,
   "metadata": {},
   "outputs": [
    {
     "name": "stdout",
     "output_type": "stream",
     "text": [
      "[2, 0, 2, 1, 1, 0]\n",
      "[2, 2, 2, 1, 1, 0]\n",
      "[0, 2, 2, 1, 1, 0]\n",
      "[0, 2, 2, 2, 1, 0]\n",
      "[0, 1, 2, 2, 2, 0]\n",
      "[0, 1, 1, 2, 2, 2]\n"
     ]
    },
    {
     "data": {
      "text/plain": [
       "[0, 0, 1, 1, 2, 2]"
      ]
     },
     "execution_count": 8,
     "metadata": {},
     "output_type": "execute_result"
    }
   ],
   "source": [
    "# 这个很有意思，也有普适性：新的list，全是2，不是2吗那就全是1\n",
    "class Solution:\n",
    "    \"\"\"\n",
    "    @param: nums: A list of integer which is 0, 1 or 2 \n",
    "    @return: nothing\n",
    "    \"\"\"\n",
    "    def sortColors(self, nums):\n",
    "        # write your code here\n",
    "        i = 0\n",
    "        j = 0\n",
    "        for n in range(len(nums)):\n",
    "            v = nums[n]\n",
    "            nums[n] = 2\n",
    "            print(nums)\n",
    "            if v < 2:\n",
    "                nums[j] = 1\n",
    "                j += 1\n",
    "            if v == 0:\n",
    "                nums[i] = 0\n",
    "                i += 1\n",
    "        return nums\n",
    "                \n",
    "Solution().sortColors([2,0,2,1,1,0])       "
   ]
  },
  {
   "cell_type": "code",
   "execution_count": 11,
   "metadata": {},
   "outputs": [
    {
     "data": {
      "text/plain": [
       "[0, 0, 1, 1, 2, 2]"
      ]
     },
     "execution_count": 11,
     "metadata": {},
     "output_type": "execute_result"
    }
   ],
   "source": [
    "#因为只有三个颜色；可以把0都往最前面插。把2都往最后面插，1自然剩下来在最中间。 过一遍应该就可以了\n",
    "#我的想法自己做不出来，别人做的很漂亮\n",
    "\n",
    "class Solution:\n",
    "    \"\"\"\n",
    "    @param: nums: A list of integer which is 0, 1 or 2\n",
    "    @return: nothing\n",
    "    \"\"\"\n",
    "    def sortColors(self, nums):\n",
    "        if not nums or len(nums) == 0:\n",
    "            return\n",
    "\n",
    "        i, left, right = 0, 0, len(nums) - 1\n",
    "        while i <= right:\n",
    "            if nums[i] == 0:\n",
    "                nums[left], nums[i] = nums[i], nums[left]\n",
    "                left += 1\n",
    "                i += 1\n",
    "            elif nums[i] == 1:\n",
    "                i += 1\n",
    "            else:\n",
    "                nums[i], nums[right] = nums[right], nums[i]\n",
    "                right -= 1\n",
    "       \n",
    "                \n",
    "Solution().sortColors([2,0,2,1,1,0])       "
   ]
  },
  {
   "cell_type": "code",
   "execution_count": 12,
   "metadata": {},
   "outputs": [],
   "source": [
    "class Solution:\n",
    "    def sortColors(self, nums):\n",
    "        if len(nums) <= 1:\n",
    "            return \n",
    "        i, left, right = 0, 0 , len(nums)-1\n",
    "        while i <= right:\n",
    "            if nums[i] == 0:\n",
    "                nums[left],nums[i] = nums[i], nums[left]\n",
    "                left += 1\n",
    "                i += 1\n",
    "                \n",
    "            elif nums[i] == 1:\n",
    "                i += 1\n",
    "            else: #==2\n",
    "                nums[right],nums[i] = nums[i], nums[right]\n",
    "                right -=1\n",
    "                #这里不用再加一了，因为还要再判断一下这个不是2的数字是0还是1，有可能还要再移动"
   ]
  },
  {
   "cell_type": "code",
   "execution_count": null,
   "metadata": {},
   "outputs": [],
   "source": [
    "#直接排序！！！\n",
    "\n",
    "class Solution:\n",
    "    def sort(self, A, flag, index):\n",
    "        start, end = index, len(A) - 1\n",
    "        while start <= end:\n",
    "            while start <= end and A[start] == flag:\n",
    "                start += 1\n",
    "            while start <= end and A[end] != flag:\n",
    "                end -= 1\n",
    "            if start <= end:\n",
    "                A[start], A[end] = A[end], A[start]\n",
    "                start += 1\n",
    "                end -= 1\n",
    "        return start\n",
    "    \n",
    "    # @param A a list of integers\n",
    "    # @return nothing, sort in place\n",
    "    def sortColors(self, A):\n",
    "        self.sort(A, 1, self.sort(A, 0, 0))"
   ]
  },
  {
   "cell_type": "code",
   "execution_count": null,
   "metadata": {},
   "outputs": [],
   "source": []
  },
  {
   "cell_type": "code",
   "execution_count": null,
   "metadata": {},
   "outputs": [],
   "source": []
  }
 ],
 "metadata": {
  "kernelspec": {
   "display_name": "Python 3",
   "language": "python",
   "name": "python3"
  },
  "language_info": {
   "codemirror_mode": {
    "name": "ipython",
    "version": 3
   },
   "file_extension": ".py",
   "mimetype": "text/x-python",
   "name": "python",
   "nbconvert_exporter": "python",
   "pygments_lexer": "ipython3",
   "version": "3.6.3"
  }
 },
 "nbformat": 4,
 "nbformat_minor": 2
}
