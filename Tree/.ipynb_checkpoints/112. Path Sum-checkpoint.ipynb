{
 "cells": [
  {
   "cell_type": "code",
   "execution_count": null,
   "metadata": {},
   "outputs": [],
   "source": [
    "\"\"\"Given a binary tree and a sum, determine if the tree has a root-to-leaf path such that adding up all the values along the path equals the given sum.\n",
    "\n",
    "Note: A leaf is a node with no children.\n",
    "\n",
    "Example:\n",
    "\n",
    "Given the below binary tree and sum = 22,\n",
    "\n",
    "      5\n",
    "     / \\\n",
    "    4   8\n",
    "   /   / \\\n",
    "  11  13  4\n",
    " /  \\      \\\n",
    "7    2      1\n",
    "return true, as there exist a root-to-leaf path 5->4->11->2 which sum is 22.\"\"\""
   ]
  },
  {
   "cell_type": "code",
   "execution_count": null,
   "metadata": {},
   "outputs": [],
   "source": [
    "#我的naive思路，一直减下去，看看最终是不是0；因为必须是连续的道路\n",
    "\"\"\"\n",
    "class TreeNode:\n",
    "    def __init__(self, x):\n",
    "        self.val = x\n",
    "        self.left = None\n",
    "        self.right = None\n",
    "\"\"\"\n",
    "\n",
    "class Solution:\n",
    "    def hasPathSum(self, root, sum1):\n",
    "        \"\"\"\n",
    "        :type root: TreeNode\n",
    "        :type sum: int\n",
    "        :rtype: bool\n",
    "        \"\"\"\n",
    "        if not root:\n",
    "            return False\n",
    "        sum1 = sum1 - root.val\n",
    "        if sum1 == 0 and root.left is None and root.right:\n",
    "            return True\n",
    "\n",
    "        \n",
    "        return self.hasPathSum(root.left, sum1) or self.hasPathSum(root.right, sum1)\n",
    "        \n",
    "        \n",
    "        "
   ]
  },
  {
   "cell_type": "code",
   "execution_count": null,
   "metadata": {},
   "outputs": [],
   "source": [
    "#这个算bfs，和我一样\n",
    "\n",
    "class Solution:\n",
    "    def hasPathSum(self, root, sum):\n",
    "        \"\"\"\n",
    "        dfs\n",
    "        :param root: TreeNode\n",
    "        :param sum: int\n",
    "        :return: boolean\n",
    "        \"\"\"\n",
    "        # trivial\n",
    "        if not root:\n",
    "            return False\n",
    "\n",
    "        # don't prune, possible negative\n",
    "        # if sum<0:\n",
    "        #    return False\n",
    "\n",
    "        sum = sum-root.val\n",
    "\n",
    "        # terminal condition\n",
    "        if sum==0 and root.left is None and root.right is None:   #sum == 0 并且 是leaf\n",
    "            return True\n",
    "\n",
    "        # dfs without pre-checking\n",
    "        return self.hasPathSum(root.left, sum) or self.hasPathSum(root.right, sum)"
   ]
  },
  {
   "cell_type": "code",
   "execution_count": null,
   "metadata": {},
   "outputs": [],
   "source": [
    "###dfs方法\n",
    "\n",
    "\"\"\"\n",
    "Definition of TreeNode:\n",
    "class TreeNode:\n",
    "    def __init__(self, val):\n",
    "        self.val = val\n",
    "        self.left, self.right = None, None\n",
    "\"\"\"\n",
    "class Solution:\n",
    "    # @param {TreeNode} root the root of binary tree\n",
    "    # @param {int} target an integer\n",
    "    # @return {int[][]} all valid paths\n",
    "    def binaryTreePathSum(self, root, target):\n",
    "        # Write your code here\n",
    "        result = []\n",
    "        path = []\n",
    "        self.dfs(root, path, result, 0,  target)\n",
    "\n",
    "        return result\n",
    "\n",
    "    def dfs(self, root, path, result, len, target):\n",
    "        if root is None:\n",
    "            return\n",
    "        path.append(root.val)\n",
    "        len += root.val\n",
    "\n",
    "        if root.left is None and root.right is None and len == target:\n",
    "            result.append(path[:])\n",
    "\n",
    "        self.dfs(root.left, path, result, len, target)\n",
    "        self.dfs(root.right, path, result, len, target)\n",
    "\n",
    "        path.pop()\n"
   ]
  },
  {
   "cell_type": "code",
   "execution_count": null,
   "metadata": {},
   "outputs": [],
   "source": [
    "# L1=L 意思是将L1也指向L的内存地址,\n",
    "\n",
    "# L1=L[:] 意思是, 复制L的内容并指向新的内存地址."
   ]
  },
  {
   "cell_type": "code",
   "execution_count": null,
   "metadata": {},
   "outputs": [],
   "source": []
  }
 ],
 "metadata": {
  "kernelspec": {
   "display_name": "Python 3",
   "language": "python",
   "name": "python3"
  },
  "language_info": {
   "codemirror_mode": {
    "name": "ipython",
    "version": 3
   },
   "file_extension": ".py",
   "mimetype": "text/x-python",
   "name": "python",
   "nbconvert_exporter": "python",
   "pygments_lexer": "ipython3",
   "version": "3.6.3"
  }
 },
 "nbformat": 4,
 "nbformat_minor": 2
}
