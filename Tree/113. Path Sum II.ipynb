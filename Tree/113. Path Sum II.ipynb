{
 "cells": [
  {
   "cell_type": "code",
   "execution_count": null,
   "metadata": {},
   "outputs": [],
   "source": [
    "\"\"\"Given a binary tree and a sum, find all root-to-leaf paths where each path's sum equals the given sum.\n",
    "\n",
    "Note: A leaf is a node with no children.\n",
    "\n",
    "Example:\n",
    "\n",
    "Given the below binary tree and sum = 22,\n",
    "\n",
    "      5\n",
    "     / \\\n",
    "    4   8\n",
    "   /   / \\\n",
    "  11  13  4\n",
    " /  \\    / \\\n",
    "7    2  5   1\n",
    "Return:\n",
    "\n",
    "[\n",
    "   [5,4,11,2],\n",
    "   [5,8,4,5]\n",
    "]\n",
    "\"\"\""
   ]
  },
  {
   "cell_type": "code",
   "execution_count": null,
   "metadata": {},
   "outputs": [],
   "source": [
    "# Definition for a binary tree node.\n",
    "# class TreeNode:\n",
    "#     def __init__(self, x):\n",
    "#         self.val = x\n",
    "#         self.left = None\n",
    "#         self.right = None\n",
    "\n",
    "class Solution:\n",
    "    def pathSum(self, root, sum):\n",
    "        \"\"\"\n",
    "        :param root: TreeNode\n",
    "        :param sum: integer\n",
    "        :return: a list of lists of integers\n",
    "        \"\"\"\n",
    "        result = []\n",
    "        self.accumulatePathSum(root, sum, [], result)\n",
    "        return result\n",
    "\n",
    "    def accumulatePathSum(self, root, sum, cur_path, result):\n",
    "        \"\"\"\n",
    "        DFS\n",
    "        Similar to previous path sum\n",
    "        \"\"\"\n",
    "        # trivial\n",
    "        if not root:\n",
    "            return\n",
    "\n",
    "        sum = sum - root.val\n",
    "        cur_path.append(root.val)\n",
    "        # terminal condition\n",
    "        if sum==0 and root.left is None and root.right is None:\n",
    "            result.append(list(cur_path))  # new copy\n",
    "            return\n",
    "\n",
    "        # dfs with pre-checking\n",
    "        if root.left: \n",
    "            self.accumulatePathSum(root.left, sum, list(cur_path), result)  # new copy\n",
    "        if root.right: \n",
    "            self.accumulatePathSum(root.right, sum, list(cur_path), result)  # new copy"
   ]
  },
  {
   "cell_type": "code",
   "execution_count": null,
   "metadata": {},
   "outputs": [],
   "source": [
    "class Solution:\n",
    "    def pathSum(self, root, sum):\n",
    "        result = []\n",
    "        self.accumulatePathSum(root, sum, cur_path, result)\n",
    "        return result\n",
    "    \n",
    "    def accumulate(self, root, sum, cur_path, result):\n",
    "        if not root:\n",
    "            return\n",
    "        sum = sum -root,val\n",
    "        cur_path.append(root.val)\n",
    "        if sum == 0 and root,left is None and root.right is None:\n",
    "            result.append(list(cur_path))\n",
    "            return\n",
    "        if root.left:\n",
    "            self.accumulatePathSum(root.left, sum, list(cur_path), result)\n",
    "        if root.right:\n",
    "            self.accumulatePathSum(root.right, sum, list(cur_path), result)"
   ]
  },
  {
   "cell_type": "code",
   "execution_count": null,
   "metadata": {},
   "outputs": [],
   "source": []
  },
  {
   "cell_type": "code",
   "execution_count": null,
   "metadata": {},
   "outputs": [],
   "source": []
  },
  {
   "cell_type": "code",
   "execution_count": null,
   "metadata": {},
   "outputs": [],
   "source": []
  },
  {
   "cell_type": "code",
   "execution_count": null,
   "metadata": {},
   "outputs": [],
   "source": []
  },
  {
   "cell_type": "code",
   "execution_count": null,
   "metadata": {},
   "outputs": [],
   "source": []
  },
  {
   "cell_type": "code",
   "execution_count": null,
   "metadata": {},
   "outputs": [],
   "source": []
  }
 ],
 "metadata": {
  "kernelspec": {
   "display_name": "Python 3",
   "language": "python",
   "name": "python3"
  },
  "language_info": {
   "codemirror_mode": {
    "name": "ipython",
    "version": 3
   },
   "file_extension": ".py",
   "mimetype": "text/x-python",
   "name": "python",
   "nbconvert_exporter": "python",
   "pygments_lexer": "ipython3",
   "version": "3.6.3"
  }
 },
 "nbformat": 4,
 "nbformat_minor": 2
}
