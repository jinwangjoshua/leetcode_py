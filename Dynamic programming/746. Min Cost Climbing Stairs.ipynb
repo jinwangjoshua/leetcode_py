{
 "cells": [
  {
   "cell_type": "code",
   "execution_count": null,
   "metadata": {},
   "outputs": [],
   "source": [
    "\"\"\"On a staircase, the i-th step has some non-negative cost cost[i] assigned (0 indexed).\n",
    "\n",
    "Once you pay the cost, you can either climb one or two steps. You need to find minimum cost to reach the top of the floor, and you can either start from the step with index 0, or the step with index 1.\n",
    "\n",
    "Example 1:\n",
    "Input: cost = [10, 15, 20]\n",
    "Output: 15\n",
    "Explanation: Cheapest is start on cost[1], pay that cost and go to the top.\n",
    "Example 2:\n",
    "Input: cost = [1, 100, 1, 1, 1, 100, 1, 1, 100, 1]\n",
    "Output: 6\n",
    "Explanation: Cheapest is start on cost[0], and only step on 1s, skipping cost[3].\"\"\""
   ]
  },
  {
   "cell_type": "code",
   "execution_count": 3,
   "metadata": {},
   "outputs": [
    {
     "name": "stdout",
     "output_type": "stream",
     "text": [
      "[0, 0, 1]\n",
      "[0, 0, 1, 3]\n",
      "[0, 0, 1, 3, 5]\n",
      "[0, 0, 1, 3, 5, 8]\n",
      "[0, 0, 1, 3, 5, 8, 8]\n",
      "[0, 0, 1, 3, 5, 8, 8, 10]\n"
     ]
    },
    {
     "data": {
      "text/plain": [
       "11"
      ]
     },
     "execution_count": 3,
     "metadata": {},
     "output_type": "execute_result"
    }
   ],
   "source": [
    "\"\"\"非常初级的动态规划的问题。\n",
    "需要做的是另外找一个列表保存节点的路径的代价，\n",
    "某个节点的路径的代价等于前两个节点的路径的代价和前两个节点对应的代价之和。\n",
    "最后返回的结果是倒数两个节点的代价和节点值之和的最小值。\n",
    "\n",
    "\"\"\"\n",
    "\n",
    "class Solution(object):\n",
    "    def minCostClimbingStairs(self, cost):\n",
    "        \"\"\"\n",
    "        :type cost: List[int]\n",
    "        :rtype: int\n",
    "        \"\"\"\n",
    "        costed = [0, 0]\n",
    "        for i in range(2, len(cost)):\n",
    "            costed.append(min(costed[i - 1] + cost[i - 1], costed[i - 2] + cost[i - 2]))\n",
    "        \n",
    "            print(costed)\n",
    "        return min(costed[-1] + cost[-1], costed[-2] + cost[-2])\n",
    "    \n",
    "Solution().minCostClimbingStairs([1,3,4,6,3,2,5,1])"
   ]
  },
  {
   "cell_type": "code",
   "execution_count": null,
   "metadata": {},
   "outputs": [],
   "source": [
    "def minCostClimbingStairs(self, cost):\n",
    "    costed = [0,0]\n",
    "    for i in range(2, len(cost)):\n",
    "        costed.append(min(costed[i-1]+cost[i-1], costed[i-1]+cost[i-2]))\n",
    "    return min(cost[-1] + cost[-1], costed[-2]+cost[-2])"
   ]
  },
  {
   "cell_type": "code",
   "execution_count": null,
   "metadata": {},
   "outputs": [],
   "source": []
  },
  {
   "cell_type": "code",
   "execution_count": null,
   "metadata": {},
   "outputs": [],
   "source": []
  },
  {
   "cell_type": "code",
   "execution_count": null,
   "metadata": {},
   "outputs": [],
   "source": []
  },
  {
   "cell_type": "code",
   "execution_count": null,
   "metadata": {},
   "outputs": [],
   "source": []
  },
  {
   "cell_type": "code",
   "execution_count": null,
   "metadata": {},
   "outputs": [],
   "source": []
  }
 ],
 "metadata": {
  "kernelspec": {
   "display_name": "Python 3",
   "language": "python",
   "name": "python3"
  },
  "language_info": {
   "codemirror_mode": {
    "name": "ipython",
    "version": 3
   },
   "file_extension": ".py",
   "mimetype": "text/x-python",
   "name": "python",
   "nbconvert_exporter": "python",
   "pygments_lexer": "ipython3",
   "version": "3.6.3"
  }
 },
 "nbformat": 4,
 "nbformat_minor": 2
}
