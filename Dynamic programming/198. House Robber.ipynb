{
 "cells": [
  {
   "cell_type": "code",
   "execution_count": null,
   "metadata": {},
   "outputs": [],
   "source": [
    "\"\"\"You are a professional robber planning to rob houses along a street. Each house has a certain amount of money stashed, the only constraint stopping you from robbing each of them is that adjacent houses have security system connected and it will automatically contact the police if two adjacent houses were broken into on the same night.\n",
    "\n",
    "Given a list of non-negative integers representing the amount of money of each house, determine the maximum amount of money you can rob tonight without alerting the police.\n",
    "\n",
    "Example 1:\n",
    "\n",
    "Input: [1,2,3,1]\n",
    "Output: 4\n",
    "Explanation: Rob house 1 (money = 1) and then rob house 3 (money = 3).\n",
    "             Total amount you can rob = 1 + 3 = 4.\n",
    "Example 2:\n",
    "\n",
    "Input: [2,7,9,3,1]\n",
    "Output: 12\n",
    "Explanation: Rob house 1 (money = 2), rob house 3 (money = 9) and rob house 5 (money = 1).\n",
    "             Total amount you can rob = 2 + 9 + 1 = 12.\"\"\""
   ]
  },
  {
   "cell_type": "code",
   "execution_count": null,
   "metadata": {},
   "outputs": [],
   "source": [
    "#动态规划\n",
    "class Solution:\n",
    "    def rob(self, nums):\n",
    "        \"\"\"\n",
    "        DP\n",
    "        O(n)\n",
    "        Let F_i be max value END AT or BEFORE i\n",
    "        F_i = max(F_{i-1}, F_{i-2} + A[i])\n",
    "        Notes:\n",
    "        If change the definition of F_i\n",
    "        Let F_i be mex value END AT i\n",
    "        F_i = max(F_{i-2-k}+A[i] for k \\in [0, i-2]),\n",
    "        Then time complexity is quadratic\n",
    "        \"\"\"\n",
    "        n = len(nums)\n",
    "        f = [0 for _ in range(n+2)]\n",
    "        for i in range(2, n+2):\n",
    "            f[i] = max(\n",
    "                f[i-1],\n",
    "                f[i-2] + nums[i-2]\n",
    "            )\n",
    "\n",
    "        return f[-1]"
   ]
  },
  {
   "cell_type": "code",
   "execution_count": 5,
   "metadata": {},
   "outputs": [
    {
     "name": "stdout",
     "output_type": "stream",
     "text": [
      "0 0\n",
      "2 0\n",
      "1 2\n",
      "3 2\n"
     ]
    },
    {
     "data": {
      "text/plain": [
       "4"
      ]
     },
     "execution_count": 5,
     "metadata": {},
     "output_type": "execute_result"
    }
   ],
   "source": [
    "class Solution:\n",
    "    # @param A: A list of non-negative integers.\n",
    "    # return: an integer\n",
    "    def rob(self, A):\n",
    "        # write your code here\n",
    "        result = 0\n",
    "        f, g, f1, g1 = 0, 0, 0, 0\n",
    "        for x in A:\n",
    "            print(f,g)\n",
    "            f1 = g + x\n",
    "            g1 = max(f, g)\n",
    "            g, f = g1, f1\n",
    "            \n",
    "        return max(f, g)\n",
    "    \n",
    "Solution().rob([2,1,1,2])"
   ]
  },
  {
   "cell_type": "code",
   "execution_count": null,
   "metadata": {},
   "outputs": [],
   "source": []
  },
  {
   "cell_type": "code",
   "execution_count": null,
   "metadata": {},
   "outputs": [],
   "source": []
  },
  {
   "cell_type": "code",
   "execution_count": null,
   "metadata": {},
   "outputs": [],
   "source": []
  },
  {
   "cell_type": "code",
   "execution_count": null,
   "metadata": {},
   "outputs": [],
   "source": []
  }
 ],
 "metadata": {
  "kernelspec": {
   "display_name": "Python 3",
   "language": "python",
   "name": "python3"
  },
  "language_info": {
   "codemirror_mode": {
    "name": "ipython",
    "version": 3
   },
   "file_extension": ".py",
   "mimetype": "text/x-python",
   "name": "python",
   "nbconvert_exporter": "python",
   "pygments_lexer": "ipython3",
   "version": "3.6.3"
  }
 },
 "nbformat": 4,
 "nbformat_minor": 2
}
