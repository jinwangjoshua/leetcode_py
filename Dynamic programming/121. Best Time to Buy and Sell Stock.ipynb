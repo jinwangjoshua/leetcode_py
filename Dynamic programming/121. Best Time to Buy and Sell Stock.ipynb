{
 "cells": [
  {
   "cell_type": "code",
   "execution_count": 1,
   "metadata": {},
   "outputs": [
    {
     "data": {
      "text/plain": [
       "'Say you have an array for which the ith element is the price of a given stock on day i.\\n\\nIf you were only permitted to complete at most one transaction (i.e., buy one and sell one share of the stock), design an algorithm to find the maximum profit.\\n\\nNote that you cannot sell a stock before you buy one.\\n\\nExample 1:\\n\\nInput: [7,1,5,3,6,4]\\nOutput: 5\\nExplanation: Buy on day 2 (price = 1) and sell on day 5 (price = 6), profit = 6-1 = 5.\\n             Not 7-1 = 6, as selling price needs to be larger than buying price.\\nExample 2:\\n\\nInput: [7,6,4,3,1]\\nOutput: 0\\nExplanation: In this case, no transaction is done, i.e. max profit = 0.\\n感觉像是在找最大差值\\n\\n'"
      ]
     },
     "execution_count": 1,
     "metadata": {},
     "output_type": "execute_result"
    }
   ],
   "source": [
    "\"\"\"Say you have an array for which the ith element is the price of a given stock on day i.\n",
    "\n",
    "If you were only permitted to complete at most one transaction (i.e., buy one and sell one share of the stock), design an algorithm to find the maximum profit.\n",
    "\n",
    "Note that you cannot sell a stock before you buy one.\n",
    "\n",
    "Example 1:\n",
    "\n",
    "Input: [7,1,5,3,6,4]\n",
    "Output: 5\n",
    "Explanation: Buy on day 2 (price = 1) and sell on day 5 (price = 6), profit = 6-1 = 5.\n",
    "             Not 7-1 = 6, as selling price needs to be larger than buying price.\n",
    "Example 2:\n",
    "\n",
    "Input: [7,6,4,3,1]\n",
    "Output: 0\n",
    "Explanation: In this case, no transaction is done, i.e. max profit = 0.\n",
    "感觉像是在找最大差值\n",
    "\"\"\""
   ]
  },
  {
   "cell_type": "code",
   "execution_count": 5,
   "metadata": {},
   "outputs": [
    {
     "data": {
      "text/plain": [
       "6"
      ]
     },
     "execution_count": 5,
     "metadata": {},
     "output_type": "execute_result"
    }
   ],
   "source": [
    "#动态规划\n",
    "class Solution(object):\n",
    "    def maxProfit(self, A):\n",
    "        \"\"\"\n",
    "        Maximum subarray sum\n",
    "        DP version\n",
    "        Let F[i] be the maximum subarray sum ending at A[i-1]\n",
    "        \"\"\"\n",
    "        if len(A) <= 1:\n",
    "            return 0\n",
    "\n",
    "        n = len(A)\n",
    "        F = [0 for _ in range(n+1)]\n",
    "        maxa = 0\n",
    "        for i in range(2, n+1):\n",
    "            F[i] = max(F[i-1] + A[i-1] - A[i-2], 0)  # revert the previous transaction\n",
    "            maxa = max(maxa, F[i])\n",
    "\n",
    "        return maxa\n",
    "    \n",
    "Solution().maxProfit([1,3,5,7,3])"
   ]
  },
  {
   "cell_type": "code",
   "execution_count": null,
   "metadata": {},
   "outputs": [],
   "source": []
  },
  {
   "cell_type": "code",
   "execution_count": null,
   "metadata": {},
   "outputs": [],
   "source": []
  },
  {
   "cell_type": "code",
   "execution_count": null,
   "metadata": {},
   "outputs": [],
   "source": [
    "#这个还是找出最大最小不是动态规划\n",
    "\n",
    "class Solution:\n",
    "    \"\"\"\n",
    "    @param: prices: Given an integer array\n",
    "    @return: Maximum profit\n",
    "    \"\"\"\n",
    "    def maxProfit(self, prices):\n",
    "        # remember i <= j , it means you can sell and buy stock on same day.\n",
    "        # find the max profit = max(prices[j] - prices[i]) , j >= i\n",
    "        if len(prices) == 0:\n",
    "            return 0\n",
    "\n",
    "        min_price = prices[0]    #用来记录以前最小\n",
    "        max_profit= 0\n",
    "        for price in prices:\n",
    "            min_price = min(price, min_price)\n",
    "            max_profit = max(price - min_price, max_profit)\n",
    "        return max_profit"
   ]
  },
  {
   "cell_type": "code",
   "execution_count": null,
   "metadata": {},
   "outputs": [],
   "source": [
    "def maxProfit(prices):\n",
    "    if len(prices) == 0:\n",
    "        return 0 \n",
    "    min_price = prices[0]\n",
    "    max_price = 0\n",
    "    for price in prices:\n",
    "        min_price = min(min_price, price)\n",
    "        max_price = max(price-min_price, max_profit)\n",
    "    return max_price\n",
    "    "
   ]
  },
  {
   "cell_type": "code",
   "execution_count": null,
   "metadata": {},
   "outputs": [],
   "source": [
    "\n"
   ]
  },
  {
   "cell_type": "code",
   "execution_count": null,
   "metadata": {},
   "outputs": [],
   "source": []
  },
  {
   "cell_type": "code",
   "execution_count": null,
   "metadata": {},
   "outputs": [],
   "source": []
  }
 ],
 "metadata": {
  "kernelspec": {
   "display_name": "Python 3",
   "language": "python",
   "name": "python3"
  },
  "language_info": {
   "codemirror_mode": {
    "name": "ipython",
    "version": 3
   },
   "file_extension": ".py",
   "mimetype": "text/x-python",
   "name": "python",
   "nbconvert_exporter": "python",
   "pygments_lexer": "ipython3",
   "version": "3.6.3"
  }
 },
 "nbformat": 4,
 "nbformat_minor": 2
}
