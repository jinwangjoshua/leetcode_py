{
 "cells": [
  {
   "cell_type": "code",
   "execution_count": null,
   "metadata": {},
   "outputs": [],
   "source": [
    "\"\"\"You are climbing a stair case. It takes n steps to reach to the top.\n",
    "\n",
    "Each time you can either climb 1 or 2 steps. In how many distinct ways can you climb to the top?\n",
    "\n",
    "Note: Given n will be a positive integer.\n",
    "\n",
    "Example 1:\n",
    "\n",
    "Input: 2\n",
    "Output: 2\n",
    "Explanation: There are two ways to climb to the top.\n",
    "1. 1 step + 1 step\n",
    "2. 2 steps\n",
    "Example 2:\n",
    "\n",
    "Input: 3\n",
    "Output: 3\n",
    "Explanation: There are three ways to climb to the top.\n",
    "1. 1 step + 1 step + 1 step\n",
    "2. 1 step + 2 steps\n",
    "3. 2 steps + 1 step\"\"\""
   ]
  },
  {
   "cell_type": "code",
   "execution_count": 37,
   "metadata": {},
   "outputs": [],
   "source": [
    "# class Solution:\n",
    "#     def climbStairs(self, n):\n",
    "#         \"\"\"\n",
    "#         :type n: int\n",
    "#         :rtype: int\n",
    "#         \"\"\"\n",
    "#         if n==1:\n",
    "#             return 1\n",
    "#         elif n==2:\n",
    "#             return 2\n",
    "# #         for i in range(3, n):\n",
    "#         else:\n",
    "#             return self.climbStairs(n-1) + self.climbStairs(n-2)   #这是错的，意思是对的\n",
    "\n",
    "        \n",
    "# Solution().climbStairs(100)"
   ]
  },
  {
   "cell_type": "code",
   "execution_count": 41,
   "metadata": {},
   "outputs": [
    {
     "data": {
      "text/plain": [
       "10946"
      ]
     },
     "execution_count": 41,
     "metadata": {},
     "output_type": "execute_result"
    }
   ],
   "source": [
    "#方法就是直接写出dp的表达式\n",
    "\n",
    "class Solution:\n",
    "    def climbStairs_save_memory(self, n):\n",
    "        \"\"\"\n",
    "        DP. The transition function should be:\n",
    "        f(n) = f(n-1) + f(n-2)  n>2;\n",
    "        or = 1   n=1\n",
    "        or  = 2   n=2\n",
    "        :param n: an integer, number of stairs\n",
    "        :return: an integer, number of different combinations\n",
    "        \"\"\"\n",
    "        f_n_minus_2 = 1  # f(1)\n",
    "        f_n_minus_1 = 2  # f(2)\n",
    "        if n==1: return f_n_minus_2\n",
    "        if n==2: return f_n_minus_1\n",
    "        fn = 0\n",
    "        for i in range(2, n):   #为何从2开始\n",
    "            fn = f_n_minus_1 +f_n_minus_2\n",
    "            # for next iteration, n = n+1\n",
    "            f_n_minus_2 = f_n_minus_1\n",
    "            f_n_minus_1 = fn\n",
    "        return fn\n",
    "    \n",
    "Solution().climbStairs_save_memory(20)"
   ]
  },
  {
   "cell_type": "code",
   "execution_count": null,
   "metadata": {},
   "outputs": [],
   "source": [
    "\n",
    "\n",
    "class Solution:\n",
    "    def climbStairs(self, n):\n",
    "        f_n_2 = 1\n",
    "        f_n_1 = 2\n",
    "        if n==0 or n==1 or n==2:\n",
    "            return n\n",
    "        f_n = 0\n",
    "        for i in range(2,n):\n",
    "            f_n = f_n_1 + f_n_2\n",
    "            f_n_2= f_n_1\n",
    "            f_n_1=f_n\n",
    "        return f_n\n",
    "        \n",
    "        "
   ]
  },
  {
   "cell_type": "code",
   "execution_count": null,
   "metadata": {},
   "outputs": [],
   "source": []
  }
 ],
 "metadata": {
  "kernelspec": {
   "display_name": "Python 3",
   "language": "python",
   "name": "python3"
  },
  "language_info": {
   "codemirror_mode": {
    "name": "ipython",
    "version": 3
   },
   "file_extension": ".py",
   "mimetype": "text/x-python",
   "name": "python",
   "nbconvert_exporter": "python",
   "pygments_lexer": "ipython3",
   "version": "3.6.3"
  }
 },
 "nbformat": 4,
 "nbformat_minor": 2
}
