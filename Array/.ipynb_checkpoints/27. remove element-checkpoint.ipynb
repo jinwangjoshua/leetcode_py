{
 "cells": [
  {
   "cell_type": "code",
   "execution_count": 1,
   "metadata": {},
   "outputs": [
    {
     "data": {
      "text/plain": [
       "\"Given an array nums and a value val, remove all instances of that value in-place and return the new length.\\n\\nDo not allocate extra space for another array, you must do this by modifying the input array in-place with O(1) extra memory.\\n\\nThe order of elements can be changed. It doesn't matter what you leave beyond the new length.\\n\\nExample 1:\\n\\nGiven nums = [3,2,2,3], val = 3,\\n\\nYour function should return length = 2, with the first two elements of nums being 2.\\n\\nIt doesn't matter what you leave beyond the returned length.\\nExample 2:\\n\\nGiven nums = [0,1,2,2,3,0,4,2], val = 2,\\n\\nYour function should return length = 5, with the first five elements of nums containing 0, 1, 3, 0, and 4.\\n\\nNote that the order of those five elements can be arbitrary.\\n\\nIt doesn't matter what values are set beyond the returned length.\\nClarification:\\n\\nConfused why the returned value is an integer but your answer is an array?\\n\\nNote that the input array is passed in by reference, which means modification to the input array will be known to the caller as well.\\n\\nInternally you can think of this:\\n\\n// nums is passed in by reference. (i.e., without making a copy)\\nint len = removeElement(nums, val);\\n\\n// any modification to nums in your function would be known by the caller.\\n// using the length returned by your function, it prints the first len elements.\\nfor (int i = 0; i < len; i++) {\\n    print(nums[i]);\""
      ]
     },
     "execution_count": 1,
     "metadata": {},
     "output_type": "execute_result"
    }
   ],
   "source": [
    "\"\"\"Given an array nums and a value val, remove all instances of that value in-place and return the new length.\n",
    "\n",
    "Do not allocate extra space for another array, you must do this by modifying the input array in-place with O(1) extra memory.\n",
    "\n",
    "The order of elements can be changed. It doesn't matter what you leave beyond the new length.\n",
    "\n",
    "Example 1:\n",
    "\n",
    "Given nums = [3,2,2,3], val = 3,\n",
    "\n",
    "Your function should return length = 2, with the first two elements of nums being 2.\n",
    "\n",
    "It doesn't matter what you leave beyond the returned length.\n",
    "Example 2:\n",
    "\n",
    "Given nums = [0,1,2,2,3,0,4,2], val = 2,\n",
    "\n",
    "Your function should return length = 5, with the first five elements of nums containing 0, 1, 3, 0, and 4.\n",
    "\n",
    "Note that the order of those five elements can be arbitrary.\n",
    "\n",
    "It doesn't matter what values are set beyond the returned length.\n",
    "Clarification:\n",
    "\n",
    "Confused why the returned value is an integer but your answer is an array?\n",
    "\n",
    "Note that the input array is passed in by reference, which means modification to the input array will be known to the caller as well.\n",
    "\n",
    "Internally you can think of this:\n",
    "\n",
    "// nums is passed in by reference. (i.e., without making a copy)\n",
    "int len = removeElement(nums, val);\n",
    "\n",
    "// any modification to nums in your function would be known by the caller.\n",
    "// using the length returned by your function, it prints the first len elements.\n",
    "for (int i = 0; i < len; i++) {\n",
    "    print(nums[i]);\"\"\""
   ]
  },
  {
   "cell_type": "code",
   "execution_count": null,
   "metadata": {},
   "outputs": [],
   "source": []
  },
  {
   "cell_type": "code",
   "execution_count": 29,
   "metadata": {},
   "outputs": [
    {
     "name": "stdout",
     "output_type": "stream",
     "text": [
      "[0, 1, 2, 2, 2, 2, 3, 0, 4, 2]\n",
      "[0, 1, 2, 2, 2, 2, 3, 0, 4, 2]\n",
      "[0, 1, 2, 2, 2, 3, 0, 4, 2]\n",
      "[0, 1, 2, 2, 3, 0, 4, 2]\n",
      "[0, 1, 2, 3, 0, 4, 2]\n",
      "[0, 1, 3, 0, 4, 2]\n",
      "[0, 1, 3, 0, 4, 2]\n",
      "[0, 1, 3, 0, 4, 2]\n",
      "[0, 1, 3, 0, 4, 2]\n",
      "[0, 1, 3, 0, 4]\n"
     ]
    },
    {
     "data": {
      "text/plain": [
       "5"
      ]
     },
     "execution_count": 29,
     "metadata": {},
     "output_type": "execute_result"
    }
   ],
   "source": [
    "#陷阱在于不要默认sorted的; not another space\n",
    "\n",
    "class Solution:\n",
    "    def removeElement(self, nums, val):\n",
    "        \"\"\"\n",
    "        :type nums: List[int]\n",
    "        :type val: int\n",
    "        :rtype: int\n",
    "        \"\"\"\n",
    "        i = 0\n",
    "        while i < len(nums):\n",
    "            if nums[i] == val:\n",
    "                del nums[i]\n",
    "                   #这一步很重要,i不轻易往前去，l缩短\n",
    "            else:\n",
    "                i = i+1\n",
    "            print(nums)\n",
    "        return len(nums)\n",
    "\n",
    "Solution().removeElement([0,1,2,2,2,2,3,0,4,2],2)"
   ]
  },
  {
   "cell_type": "code",
   "execution_count": null,
   "metadata": {},
   "outputs": [],
   "source": []
  },
  {
   "cell_type": "code",
   "execution_count": null,
   "metadata": {},
   "outputs": [],
   "source": []
  }
 ],
 "metadata": {
  "kernelspec": {
   "display_name": "Python 3",
   "language": "python",
   "name": "python3"
  },
  "language_info": {
   "codemirror_mode": {
    "name": "ipython",
    "version": 3
   },
   "file_extension": ".py",
   "mimetype": "text/x-python",
   "name": "python",
   "nbconvert_exporter": "python",
   "pygments_lexer": "ipython3",
   "version": "3.6.3"
  }
 },
 "nbformat": 4,
 "nbformat_minor": 2
}
