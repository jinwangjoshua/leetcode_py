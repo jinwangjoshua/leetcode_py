{
 "cells": [
  {
   "cell_type": "code",
   "execution_count": 1,
   "metadata": {},
   "outputs": [
    {
     "data": {
      "text/plain": [
       "'Given a non-empty array of integers, every element appears twice except for one. Find that single one.\\n\\nNote:\\n\\nYour algorithm should have a linear runtime complexity. Could you implement it without using extra memory?\\n\\nExample 1:\\n\\nInput: [2,2,1]\\nOutput: 1\\nExample 2:\\n\\nInput: [4,1,2,1,2]\\nOutput: 4'"
      ]
     },
     "execution_count": 1,
     "metadata": {},
     "output_type": "execute_result"
    }
   ],
   "source": [
    "\"\"\"Given a non-empty array of integers, every element appears twice except for one. Find that single one.\n",
    "\n",
    "Note:\n",
    "\n",
    "Your algorithm should have a linear runtime complexity. Could you implement it without using extra memory?\n",
    "\n",
    "Example 1:\n",
    "\n",
    "Input: [2,2,1]\n",
    "Output: 1\n",
    "Example 2:\n",
    "\n",
    "Input: [4,1,2,1,2]\n",
    "Output: 4\"\"\""
   ]
  },
  {
   "cell_type": "code",
   "execution_count": 60,
   "metadata": {},
   "outputs": [
    {
     "name": "stdout",
     "output_type": "stream",
     "text": [
      "x: 1\n",
      "ans 1\n",
      "x: 2\n",
      "ans 3\n",
      "x: 1\n",
      "ans 2\n",
      "x: 2\n",
      "ans 0\n",
      "x: 3\n",
      "ans 3\n",
      "x: 4\n",
      "ans 7\n",
      "x: 3\n",
      "ans 4\n",
      "x: 5\n",
      "ans 1\n"
     ]
    },
    {
     "data": {
      "text/plain": [
       "'\\n按位异或的3个特点:\\n(1) 0^0=0,0^1=1 0异或任何数＝任何数\\n(2) 1^0=1,1^1=0 1异或任何数－任何数取反\\n(3) 任何数异或自己＝把自己置0\\n'"
      ]
     },
     "execution_count": 60,
     "metadata": {},
     "output_type": "execute_result"
    }
   ],
   "source": [
    "#xor解决是奇淫巧技了\n",
    "\n",
    "class Solution:\n",
    "    \"\"\"\n",
    "   @param A : an integer array\n",
    "   @return : a integer\n",
    "   \"\"\"\n",
    "    def singleNumber(self, A):\n",
    "        # write your code here\n",
    "        ans = 0;\n",
    "        for x in A:\n",
    "            print('x:',x)\n",
    "            ans = ans ^ x\n",
    "            print('ans',ans)\n",
    "        \n",
    "        return ans\n",
    "Solution().singleNumber([1,2,1,2,3,4,3,5,])\n",
    "\n",
    "\n",
    "\"\"\"\n",
    "按位异或的3个特点:\n",
    "(1) 0^0=0,0^1=1 0异或任何数＝任何数\n",
    "(2) 1^0=1,1^1=0 1异或任何数－任何数取反\n",
    "(3) 任何数异或自己＝把自己置0\n",
    "\"\"\""
   ]
  },
  {
   "cell_type": "code",
   "execution_count": null,
   "metadata": {},
   "outputs": [],
   "source": []
  },
  {
   "cell_type": "code",
   "execution_count": 47,
   "metadata": {},
   "outputs": [
    {
     "data": {
      "text/plain": [
       "3"
      ]
     },
     "execution_count": 47,
     "metadata": {},
     "output_type": "execute_result"
    }
   ],
   "source": [
    "4 ^ 7"
   ]
  },
  {
   "cell_type": "code",
   "execution_count": null,
   "metadata": {},
   "outputs": [],
   "source": []
  }
 ],
 "metadata": {
  "kernelspec": {
   "display_name": "Python 3",
   "language": "python",
   "name": "python3"
  },
  "language_info": {
   "codemirror_mode": {
    "name": "ipython",
    "version": 3
   },
   "file_extension": ".py",
   "mimetype": "text/x-python",
   "name": "python",
   "nbconvert_exporter": "python",
   "pygments_lexer": "ipython3",
   "version": "3.6.3"
  }
 },
 "nbformat": 4,
 "nbformat_minor": 2
}
