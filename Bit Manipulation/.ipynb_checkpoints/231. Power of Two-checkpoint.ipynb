{
 "cells": [
  {
   "cell_type": "code",
   "execution_count": null,
   "metadata": {},
   "outputs": [],
   "source": [
    "\"\"\"Given an integer, write a function to determine if it is a power of two.\n",
    "\n",
    "Example 1:\n",
    "\n",
    "Input: 1\n",
    "Output: true \n",
    "Explanation: 20 = 1\n",
    "Example 2:\n",
    "\n",
    "Input: 16\n",
    "Output: true\n",
    "Explanation: 24 = 16\n",
    "Example 3:\n",
    "\n",
    "Input: 218\n",
    "Output: false\"\"\""
   ]
  },
  {
   "cell_type": "code",
   "execution_count": 3,
   "metadata": {},
   "outputs": [],
   "source": [
    "#这个就数一下有几个1；只有有一个1才行\n",
    "#注意边界情况\n",
    "\n",
    "class Solution(object):\n",
    "    def isPowerOfTwo(self, n):\n",
    "        \"\"\"\n",
    "        :type n: int\n",
    "        :rtype: bool\n",
    "        \"\"\"\n",
    "        if n <=0:\n",
    "            return False\n",
    "        \n",
    "        res = 0\n",
    "        for i in range(32):\n",
    "            if n&1 ==1:\n",
    "                res += 1\n",
    "            n >>=1\n",
    "        return res==1\n",
    "\n",
    "# for i in range(32):    \n",
    "#     print(Solution().isPowerOfTwo(2**i))"
   ]
  },
  {
   "cell_type": "code",
   "execution_count": 4,
   "metadata": {},
   "outputs": [],
   "source": [
    "# 解题思路：\n",
    "# 如果一个整数是2的幂，那么它的二进制形式最高位为1，其余各位为0\n",
    "\n",
    "# 等价于：n & (n - 1) = 0，且n > 0\n",
    "\n",
    "# Python代码：\n",
    "class Solution:\n",
    "    # @param {integer} n\n",
    "    # @return {boolean}\n",
    "    def isPowerOfTwo(self, n):\n",
    "        return n > 0 and n & (n - 1) == 0"
   ]
  },
  {
   "cell_type": "code",
   "execution_count": null,
   "metadata": {},
   "outputs": [],
   "source": []
  },
  {
   "cell_type": "code",
   "execution_count": null,
   "metadata": {},
   "outputs": [],
   "source": []
  },
  {
   "cell_type": "code",
   "execution_count": null,
   "metadata": {},
   "outputs": [],
   "source": []
  },
  {
   "cell_type": "code",
   "execution_count": null,
   "metadata": {},
   "outputs": [],
   "source": []
  },
  {
   "cell_type": "code",
   "execution_count": null,
   "metadata": {},
   "outputs": [],
   "source": []
  },
  {
   "cell_type": "code",
   "execution_count": null,
   "metadata": {},
   "outputs": [],
   "source": []
  }
 ],
 "metadata": {
  "kernelspec": {
   "display_name": "Python 3",
   "language": "python",
   "name": "python3"
  },
  "language_info": {
   "codemirror_mode": {
    "name": "ipython",
    "version": 3
   },
   "file_extension": ".py",
   "mimetype": "text/x-python",
   "name": "python",
   "nbconvert_exporter": "python",
   "pygments_lexer": "ipython3",
   "version": "3.6.3"
  }
 },
 "nbformat": 4,
 "nbformat_minor": 2
}
