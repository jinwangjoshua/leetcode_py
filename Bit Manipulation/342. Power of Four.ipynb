{
 "cells": [
  {
   "cell_type": "code",
   "execution_count": null,
   "metadata": {},
   "outputs": [],
   "source": [
    "\"\"\"Given an integer (signed 32 bits), write a function to check whether it is a power of 4.\n",
    "\n",
    "Example:\n",
    "Given num = 16, return true. Given num = 5, return false.\n",
    "\n",
    "Follow up: Could you solve it without loops/recursion?\n",
    "\n",
    "Credits:\n",
    "Special thanks to @yukuairoy for adding this problem and creating all test cases.\"\"\""
   ]
  },
  {
   "cell_type": "code",
   "execution_count": 12,
   "metadata": {},
   "outputs": [
    {
     "data": {
      "text/plain": [
       "True"
      ]
     },
     "execution_count": 12,
     "metadata": {},
     "output_type": "execute_result"
    }
   ],
   "source": [
    "class Solution(object):\n",
    "    def isPowerOfFour(self, num):\n",
    "        \"\"\"\n",
    "        :type num: int\n",
    "        :rtype: bool\n",
    "        \"\"\"\n",
    "        if num <= 0:\n",
    "            return False\n",
    "        res = []\n",
    "        for i in range(32):\n",
    "            if num&1==1:\n",
    "                res.append(i)        \n",
    "            num >>= 1\n",
    "        if len(res)==1 and res[0]%2==0:\n",
    "            return True\n",
    "        else:\n",
    "            return False\n",
    "        \n",
    "        \n",
    "Solution().isPowerOfFour(16)"
   ]
  },
  {
   "cell_type": "code",
   "execution_count": 17,
   "metadata": {},
   "outputs": [],
   "source": [
    "#不用loop\n",
    "\n",
    "\"\"\"解题思路：\n",
    "若一个整数是4的幂，则其二进制形式具有如下特点：\n",
    "\n",
    "1. 最高位为1，其余位为0\n",
    "\n",
    "2. 0的个数为偶数\n",
    "\n",
    "条件1可以用num & (num - 1) == 0判断\n",
    "\n",
    "条件2可以用num & 0x55555555 > 0判断\"\"\"\n",
    "\n",
    "class Solution(object):\n",
    "    def isPowerOfFour(self, num):\n",
    "        \"\"\"\n",
    "        :type num: int\n",
    "        :rtype: bool\n",
    "        \"\"\"\n",
    "        return num > 0 and num & (num - 1) == 0 and num & 0x55555555 > 0   #这个是说1必须在0，2，位上\n",
    "\n",
    "\n",
    "# 0x55555555是16进制，2进制是1010101010101010101010101010101\n"
   ]
  },
  {
   "cell_type": "code",
   "execution_count": 16,
   "metadata": {},
   "outputs": [
    {
     "data": {
      "text/plain": [
       "True"
      ]
     },
     "execution_count": 16,
     "metadata": {},
     "output_type": "execute_result"
    }
   ],
   "source": [
    "16 & 0x55555555 > 0"
   ]
  },
  {
   "cell_type": "code",
   "execution_count": null,
   "metadata": {},
   "outputs": [],
   "source": []
  },
  {
   "cell_type": "code",
   "execution_count": null,
   "metadata": {},
   "outputs": [],
   "source": []
  },
  {
   "cell_type": "code",
   "execution_count": null,
   "metadata": {},
   "outputs": [],
   "source": []
  },
  {
   "cell_type": "code",
   "execution_count": null,
   "metadata": {},
   "outputs": [],
   "source": []
  }
 ],
 "metadata": {
  "kernelspec": {
   "display_name": "Python 3",
   "language": "python",
   "name": "python3"
  },
  "language_info": {
   "codemirror_mode": {
    "name": "ipython",
    "version": 3
   },
   "file_extension": ".py",
   "mimetype": "text/x-python",
   "name": "python",
   "nbconvert_exporter": "python",
   "pygments_lexer": "ipython3",
   "version": "3.6.3"
  }
 },
 "nbformat": 4,
 "nbformat_minor": 2
}
