{
 "cells": [
  {
   "cell_type": "code",
   "execution_count": null,
   "metadata": {},
   "outputs": [],
   "source": [
    "\"\"\"Given a string containing just the characters '(', ')', '{', '}', '[' and ']', determine if the input string is valid.\n",
    "\n",
    "An input string is valid if:\n",
    "\n",
    "Open brackets must be closed by the same type of brackets.\n",
    "Open brackets must be closed in the correct order.\n",
    "Note that an empty string is also considered valid.\n",
    "\n",
    "Example 1:\n",
    "\n",
    "Input: \"()\"\n",
    "Output: true\n",
    "Example 2:\n",
    "\n",
    "Input: \"()[]{}\"\n",
    "Output: true\n",
    "Example 3:\n",
    "\n",
    "Input: \"(]\"\n",
    "Output: false\n",
    "Example 4:\n",
    "\n",
    "Input: \"([)]\"\n",
    "Output: false\n",
    "Example 5:\n",
    "\n",
    "Input: \"{[]}\"\n",
    "Output: true\n",
    "\n",
    "    栈 数据结构\n",
    "\n",
    "\"\"\""
   ]
  },
  {
   "cell_type": "code",
   "execution_count": 1,
   "metadata": {},
   "outputs": [
    {
     "data": {
      "text/plain": [
       "False"
      ]
     },
     "execution_count": 1,
     "metadata": {},
     "output_type": "execute_result"
    }
   ],
   "source": [
    "class Solution(object):\n",
    "    '''\n",
    "    栈 数据结构:栈吸收左边的，把右边的剩下来，而且要匹配的话必须按照顺序\n",
    "    '''\n",
    "    def isValidParentheses(self, s):\n",
    "        stack = []\n",
    "        for ch in s:\n",
    "            # 压栈\n",
    "            if ch == '{' or ch == '[' or ch == '(':\n",
    "                stack.append(ch)\n",
    "            else:\n",
    "                # 栈需非空\n",
    "                if not stack:\n",
    "                    return False\n",
    "                # 判断栈顶是否匹配\n",
    "                if ch == ']' and stack[-1] != '[' or ch == ')' and stack[-1] != '(' or ch == '}' and stack[-1] != '{':\n",
    "                    return False\n",
    "                # 弹栈\n",
    "                stack.pop()\n",
    "        return not stack\n",
    "    \n",
    "    \n",
    "Solution().isValidParentheses('{[(]})')"
   ]
  },
  {
   "cell_type": "code",
   "execution_count": 4,
   "metadata": {},
   "outputs": [
    {
     "data": {
      "text/plain": [
       "False"
      ]
     },
     "execution_count": 4,
     "metadata": {},
     "output_type": "execute_result"
    }
   ],
   "source": [
    "def isValidParentheses(s):\n",
    "    stack = []\n",
    "    for c in s:\n",
    "        if c in '([{':\n",
    "            stack.append(c)\n",
    "        else:\n",
    "            if not stack:\n",
    "                return False #空的就直接返回不是\n",
    "            if (c == ')' and stack[-1] != '(') or (c == ']' and stack[-1] != '[') or (c == '}' and stack[-1] != '{'):\n",
    "                return False\n",
    "            stack.pop() #匹配就弹出，c也往下走；这就是我说的消除的意思\n",
    "    return not stack\n",
    "\n",
    "Solution().isValidParentheses('{[(]})')"
   ]
  },
  {
   "cell_type": "code",
   "execution_count": null,
   "metadata": {},
   "outputs": [],
   "source": []
  },
  {
   "cell_type": "code",
   "execution_count": null,
   "metadata": {},
   "outputs": [],
   "source": []
  },
  {
   "cell_type": "code",
   "execution_count": null,
   "metadata": {},
   "outputs": [],
   "source": []
  }
 ],
 "metadata": {
  "kernelspec": {
   "display_name": "Python 3",
   "language": "python",
   "name": "python3"
  },
  "language_info": {
   "codemirror_mode": {
    "name": "ipython",
    "version": 3
   },
   "file_extension": ".py",
   "mimetype": "text/x-python",
   "name": "python",
   "nbconvert_exporter": "python",
   "pygments_lexer": "ipython3",
   "version": "3.6.3"
  }
 },
 "nbformat": 4,
 "nbformat_minor": 2
}
