{
 "cells": [
  {
   "cell_type": "code",
   "execution_count": null,
   "metadata": {},
   "outputs": [],
   "source": [
    "\"\"\"\n",
    "The count-and-say sequence is the sequence of integers with the first five terms as following:\n",
    "\n",
    "1.     1\n",
    "2.     11\n",
    "3.     21\n",
    "4.     1211\n",
    "5.     111221\n",
    "1 is read off as \"one 1\" or 11.\n",
    "11 is read off as \"two 1s\" or 21.\n",
    "21 is read off as \"one 2, then one 1\" or 1211.\n",
    "Given an integer n, generate the nth term of the count-and-say sequence.\n",
    "\n",
    "Note: Each term of the sequence of integers will be represented as a string.\n",
    "\n",
    "Example 1:\n",
    "\n",
    "Input: 1\n",
    "Output: \"1\"\n",
    "Example 2:\n",
    "\n",
    "Input: 4\n",
    "Output: \"1211\"\n",
    "\n",
    "这个问题重点首先是要读懂题目。然后在想这个过程的时候，你可能会想的比较复杂，\n",
    "比如，会不会出现连续十几个一样的数字，比如1111111111，读作“ten 1”，然后转换成101。\n",
    "实际上，有大神已经证明，这个序列里的数不会超过4。这边搬运了一下。 \n",
    "\n",
    "\"\"\""
   ]
  },
  {
   "cell_type": "code",
   "execution_count": null,
   "metadata": {},
   "outputs": [],
   "source": [
    "class Solution:\n",
    "    def countAndSay(self, n):\n",
    "        \"\"\"\n",
    "        :param n: integer\n",
    "        :return: output representation in string\n",
    "        \"\"\"\n",
    "        string = \"1\"\n",
    "        for i in range(1, n):\n",
    "            string = self.singleCountAndSay(string)\n",
    "        return string\n",
    "\n",
    "\n",
    "    def singleCountAndSay(self, num_string):\n",
    "        \"\"\"\n",
    "        Two pointers algorithm: FIND NEXT DIFFERENT\n",
    "        :param num_string: input number as string\n",
    "        :return: output representation as string\n",
    "        \"\"\"\n",
    "        string_builder = \"\"\n",
    "\n",
    "        i = 0\n",
    "        while i<len(num_string):\n",
    "            # find next different number\n",
    "            j = i+1\n",
    "            while j<len(num_string) and num_string[j]==num_string[i]:\n",
    "                j += 1\n",
    "            count = j-i\n",
    "            string_builder += str(count)+str(num_string[i])\n",
    "            i = j\n",
    "\n",
    "        return string_builder"
   ]
  },
  {
   "cell_type": "code",
   "execution_count": 12,
   "metadata": {},
   "outputs": [
    {
     "data": {
      "text/plain": [
       "'111221'"
      ]
     },
     "execution_count": 12,
     "metadata": {},
     "output_type": "execute_result"
    }
   ],
   "source": [
    "#这个叫做模拟法\n",
    "\n",
    "class Solution:\n",
    "    # @return a string\n",
    "    def count(self,s):\n",
    "        t=''; count=0; curr='#'    #curr是用来表示s遍历时候当前的字符串\n",
    "        for i in s:\n",
    "            if i!=curr:\n",
    "                if curr!='#':\n",
    "                    t+=str(count)+curr\n",
    "                curr=i\n",
    "                count=1\n",
    "            else:\n",
    "                count+=1\n",
    "        t+=str(count)+curr\n",
    "        \n",
    "        return t\n",
    "    def countAndSay(self, n):\n",
    "        s='1'\n",
    "        for i in range(2,n+1):\n",
    "            \n",
    "            s=self.count(s)\n",
    "            \n",
    "        return s\n",
    "    \n",
    "Solution().countAndSay(5)"
   ]
  },
  {
   "cell_type": "code",
   "execution_count": null,
   "metadata": {},
   "outputs": [],
   "source": [
    "class Solution:\n",
    "\n",
    "    def count(self, s):\n",
    "        t, count, curr = '', 0, '#'\n",
    "        for i in s:\n",
    "            if i!=curr:\n",
    "                if curr != '#':\n",
    "                    t += str(count)+curr #curr有了之后先更新一波t\n",
    "                    \n",
    "                curr=i  #先赋值给当下curr\n",
    "                count=1 #这两步骤都相当于初始化\n",
    "                \n",
    "            else:\n",
    "                count += 1  #若是相等就是直抒胸臆，几个几嘛\n",
    "        t +=str(count) + curr #撸到最后了\n",
    "        \n",
    "    def countAndSay(self, n):\n",
    "        s = '1'\n",
    "        for i in range(2, n+1):\n",
    "            s = self.count(s)\n",
    "        return s"
   ]
  },
  {
   "cell_type": "code",
   "execution_count": null,
   "metadata": {},
   "outputs": [],
   "source": []
  },
  {
   "cell_type": "code",
   "execution_count": null,
   "metadata": {},
   "outputs": [],
   "source": []
  }
 ],
 "metadata": {
  "kernelspec": {
   "display_name": "Python 3",
   "language": "python",
   "name": "python3"
  },
  "language_info": {
   "codemirror_mode": {
    "name": "ipython",
    "version": 3
   },
   "file_extension": ".py",
   "mimetype": "text/x-python",
   "name": "python",
   "nbconvert_exporter": "python",
   "pygments_lexer": "ipython3",
   "version": "3.6.3"
  }
 },
 "nbformat": 4,
 "nbformat_minor": 2
}
