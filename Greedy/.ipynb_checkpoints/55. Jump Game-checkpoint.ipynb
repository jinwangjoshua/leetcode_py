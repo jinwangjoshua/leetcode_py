{
 "cells": [
  {
   "cell_type": "code",
   "execution_count": null,
   "metadata": {},
   "outputs": [],
   "source": [
    "\"\"\"Given an array of non-negative integers, you are initially positioned at the first index of the array.\n",
    "\n",
    "Each element in the array represents your maximum jump length at that position.\n",
    "\n",
    "Determine if you are able to reach the last index.\n",
    "\n",
    "Example 1:\n",
    "\n",
    "Input: [2,3,1,1,4]\n",
    "Output: true\n",
    "Explanation: Jump 1 step from index 0 to 1, then 3 steps to the last index.\n",
    "Example 2:\n",
    "\n",
    "Input: [3,2,1,0,4]\n",
    "Output: false\n",
    "Explanation: You will always arrive at index 3 no matter what. Its maximum\n",
    "             jump length is 0, which makes it impossible to reach the last index\n",
    "             \n",
    "#理解：是最大长度，不是说就这么长  \n",
    "只能往前跳跃不能往后跳跃\n",
    " \"\"\""
   ]
  },
  {
   "cell_type": "code",
   "execution_count": 5,
   "metadata": {},
   "outputs": [
    {
     "data": {
      "text/plain": [
       "True"
      ]
     },
     "execution_count": 5,
     "metadata": {},
     "output_type": "execute_result"
    }
   ],
   "source": [
    "#3后面三步看看有咩有可以的\n",
    "#2看看后面两步有咩有可以的\n",
    "#思路： 贪心，步步为营，不断增加攻击范围\n",
    "\n",
    "# 遍历数组，剩余步数step不为零的前提下，每次向前移动一步，将当前的num[i]和step相比较取较大者，作为剩余步数step。\n",
    "\n",
    "class Solution:\n",
    "    # @param A, a list of integers\n",
    "    # @return a boolean\n",
    "    def canJump(self, A):\n",
    "        p = 0\n",
    "        ans = 0\n",
    "        for item in A[:-1]:\n",
    "            ans = max(ans, p + item)\n",
    "            if(ans <= p):\n",
    "                return False\n",
    "            p += 1\n",
    "        return True\n",
    "Solution().canJump([2,3,1,1,4])"
   ]
  },
  {
   "cell_type": "code",
   "execution_count": 19,
   "metadata": {},
   "outputs": [
    {
     "name": "stdout",
     "output_type": "stream",
     "text": [
      "2\n",
      "3\n",
      "2\n",
      "1\n"
     ]
    },
    {
     "data": {
      "text/plain": [
       "True"
      ]
     },
     "execution_count": 19,
     "metadata": {},
     "output_type": "execute_result"
    }
   ],
   "source": [
    "# 默认位置为A[0]，\n",
    "\n",
    "# 方案一：A[0]往后最多跳2步--->A[2]，A[2]能往后最多跳1步--->A[3]，A[3]能往后最多跳1步--->A[4].（到了最后一个，无论该位置是多少都是True）\n",
    "\n",
    "# 方案二： A[0]能往后跳1步--->A[1]，A[1]跳3步--->A[4]\n",
    "\n",
    "# 比如A = [3,2,1,0,4]\n",
    "\n",
    "# 从默认位置A[0]能往后跳3步--->A[3]，A[3] = 0也就是只能往后0个，不能到最后。经过多次尝试发现，无论如何不能到最后，则返回false\n",
    "\n",
    "# 思路：\n",
    "\n",
    "# 遍历数组，剩余步数step不为零的前提下，每次向前移动一步，将当前的num[i]和step相比较取较大者，作为剩余步数step。\n",
    "\n",
    "\n",
    "class Solution(object):\n",
    "    def canJump(self, nums):\n",
    "        step = nums[0]\n",
    "        for i in range(1, len(nums)):\n",
    "            print(step)if step > 0:\n",
    "                step -= 1#默认向前走一步，即从i走到i+1,剩余步数减1\n",
    "                step = max(step, nums[i])#将此位置步数与step作比较，最大值当做step\n",
    "            else:\n",
    "                return False\n",
    "        #如果能够成功循环结束\n",
    "        return True\n",
    "Solution().canJump([2,3,1,1,4])"
   ]
  },
  {
   "cell_type": "code",
   "execution_count": null,
   "metadata": {},
   "outputs": [],
   "source": [
    "class Solution():\n",
    "    def canJump(self, nums):\n",
    "        step = nums[0]\n",
    "        for i in range(1, len(nums)):\n",
    "            if step>0:\n",
    "                step -= 1\n",
    "                step = max(step, nums[i])\n",
    "            else:\n",
    "                return False\n",
    "        return True\n",
    "        \n",
    "        \n",
    "        \n",
    "Solution().canJump([1,2,3,4])"
   ]
  },
  {
   "cell_type": "code",
   "execution_count": null,
   "metadata": {},
   "outputs": [],
   "source": []
  },
  {
   "cell_type": "code",
   "execution_count": null,
   "metadata": {},
   "outputs": [],
   "source": []
  },
  {
   "cell_type": "code",
   "execution_count": null,
   "metadata": {},
   "outputs": [],
   "source": []
  }
 ],
 "metadata": {
  "kernelspec": {
   "display_name": "Python 3",
   "language": "python",
   "name": "python3"
  },
  "language_info": {
   "codemirror_mode": {
    "name": "ipython",
    "version": 3
   },
   "file_extension": ".py",
   "mimetype": "text/x-python",
   "name": "python",
   "nbconvert_exporter": "python",
   "pygments_lexer": "ipython3",
   "version": "3.6.3"
  }
 },
 "nbformat": 4,
 "nbformat_minor": 2
}
