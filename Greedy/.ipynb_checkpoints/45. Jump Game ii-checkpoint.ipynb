{
 "cells": [
  {
   "cell_type": "code",
   "execution_count": null,
   "metadata": {},
   "outputs": [],
   "source": [
    "\"\"\"Given an array of non-negative integers, you are initially positioned at the first index of the array.\n",
    "\n",
    "Each element in the array represents your maximum jump length at that position.\n",
    "\n",
    "Your goal is to reach the last index in the minimum number of jumps.\n",
    "\n",
    "Example:\n",
    "\n",
    "Input: [2,3,1,1,4]\n",
    "Output: 2\n",
    "Explanation: The minimum number of jumps to reach the last index is 2.\n",
    "\n",
    "\n",
    "区别：这个是return最少步数\n",
    "    Jump 1 step from index 0 to 1, then 3 steps to the last index.\"\"\""
   ]
  },
  {
   "cell_type": "code",
   "execution_count": null,
   "metadata": {},
   "outputs": [],
   "source": []
  },
  {
   "cell_type": "code",
   "execution_count": 4,
   "metadata": {},
   "outputs": [
    {
     "data": {
      "text/plain": [
       "2"
      ]
     },
     "execution_count": 4,
     "metadata": {},
     "output_type": "execute_result"
    }
   ],
   "source": [
    "\n",
    "# 记录最远能到达的范围, 每次在这个范围内搜, 找出下一跳的最远范围, 更新最远范围和跳数。\n",
    "\n",
    "#两层循环，时间太久\n",
    "class Solution:\n",
    "    # @param A, a list of integers\n",
    "    # @return an integer\n",
    "    def jump(self, A):\n",
    "        maxCanReach, jumpNum = 0, 0 \n",
    "        if len(A) == 1: return 0\n",
    "        while True:\n",
    "            jumpNum += 1\n",
    "            for i in range(maxCanReach + 1):\n",
    "                maxCanReach = max(maxCanReach, i + A[i])\n",
    "                if maxCanReach >= len(A) - 1: \n",
    "                    return jumpNum\n",
    "                \n",
    "Solution().jump([2,3,1,1,4])"
   ]
  },
  {
   "cell_type": "code",
   "execution_count": null,
   "metadata": {},
   "outputs": [],
   "source": [
    "class Solution:\n",
    "    def jump(self, A):\n",
    "        maxCanReach, jumpNum = 0, 0 \n",
    "        if len(A) <= 1: return 0\n",
    "        while True:\n",
    "            jumpNum += 1\n",
    "            for i in range(maxCanReach + 1):\n",
    "                maxCanReach = max(maxCanReach, i+ A[i])\n",
    "                if maxCanReach >= len(A) - 1 :\n",
    "                    return jumpNum\n",
    "        return False\n",
    "            "
   ]
  },
  {
   "cell_type": "code",
   "execution_count": null,
   "metadata": {},
   "outputs": [],
   "source": []
  },
  {
   "cell_type": "code",
   "execution_count": 7,
   "metadata": {},
   "outputs": [
    {
     "name": "stdout",
     "output_type": "stream",
     "text": [
      "[0]\n",
      "[0, 1, 1]\n",
      "[0, 1, 1, 2, 2]\n",
      "[0, 1, 1, 2, 2]\n",
      "[0, 1, 1, 2, 2]\n",
      "[0, 1, 1, 2, 2, 3, 3]\n"
     ]
    },
    {
     "data": {
      "text/plain": [
       "3"
      ]
     },
     "execution_count": 7,
     "metadata": {},
     "output_type": "execute_result"
    }
   ],
   "source": [
    "#也是两层循环不过通过\n",
    "\n",
    "\n",
    "class Solution:\n",
    "    # @param A, a list of integers\n",
    "    # @return an integer\n",
    "    def jump(self, A):\n",
    "        p = [0]\n",
    "        for i in range(len(A) - 1):\n",
    "            print(p)\n",
    "            while(i + A[i] >= len(p) and len(p) < len(A)):\n",
    "                p.append(p[i] + 1)\n",
    "        return p[-1]\n",
    "Solution().jump([2,3,1,1,4,0,3])"
   ]
  },
  {
   "cell_type": "code",
   "execution_count": null,
   "metadata": {},
   "outputs": [],
   "source": []
  },
  {
   "cell_type": "code",
   "execution_count": null,
   "metadata": {},
   "outputs": [],
   "source": []
  },
  {
   "cell_type": "code",
   "execution_count": null,
   "metadata": {},
   "outputs": [],
   "source": []
  },
  {
   "cell_type": "code",
   "execution_count": null,
   "metadata": {},
   "outputs": [],
   "source": []
  },
  {
   "cell_type": "code",
   "execution_count": null,
   "metadata": {},
   "outputs": [],
   "source": []
  },
  {
   "cell_type": "code",
   "execution_count": null,
   "metadata": {},
   "outputs": [],
   "source": []
  },
  {
   "cell_type": "code",
   "execution_count": null,
   "metadata": {},
   "outputs": [],
   "source": []
  }
 ],
 "metadata": {
  "kernelspec": {
   "display_name": "Python 3",
   "language": "python",
   "name": "python3"
  },
  "language_info": {
   "codemirror_mode": {
    "name": "ipython",
    "version": 3
   },
   "file_extension": ".py",
   "mimetype": "text/x-python",
   "name": "python",
   "nbconvert_exporter": "python",
   "pygments_lexer": "ipython3",
   "version": "3.6.3"
  }
 },
 "nbformat": 4,
 "nbformat_minor": 2
}
