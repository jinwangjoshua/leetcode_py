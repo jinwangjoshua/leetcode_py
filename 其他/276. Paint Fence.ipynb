{
 "cells": [
  {
   "cell_type": "code",
   "execution_count": null,
   "metadata": {},
   "outputs": [],
   "source": [
    "\"\"\"There is a fence with n posts, each post can be painted with one of the k colors.\n",
    "\n",
    "You have to paint all the posts such that no more than two adjacent fence posts have the same color.\n",
    "\n",
    "Return the total number of ways you can paint the fence.\n",
    "\n",
    "Note:\n",
    "n and k are non-negative integers.\n",
    "\n",
    "Example:\n",
    "\n",
    "Input: n = 3, k = 2\n",
    "Output: 6\n",
    "Explanation: Take c1 as color 1, c2 as color 2. All possible ways are:\n",
    "\n",
    "            post1  post2  post3      \n",
    " -----      -----  -----  -----       \n",
    "   1         c1     c1     c2 \n",
    "   2         c1     c2     c1 \n",
    "   3         c1     c2     c2 \n",
    "   4         c2     c1     c1  \n",
    "   5         c2     c1     c2\n",
    "   6         c2     c2     c1\n",
    "   \n",
    "   dp问题:可以有同色相邻，但是只能最多只能2个\n",
    "   \n",
    "   \"\"\""
   ]
  },
  {
   "cell_type": "code",
   "execution_count": null,
   "metadata": {},
   "outputs": [],
   "source": [
    "# 这种给定一个规则，计算有多少种结果的题目一般都是动态规划，因为我们可以从这个规则中得到递推式。\n",
    "# 根据题意，不能有超过连续两根柱子是一个颜色，也就意味着第三根柱子要么根第一个柱子不是一个颜色，要么跟第二根柱子不是一个颜色。\n",
    "# 如果不是同一个颜色，计算可能性的时候就要去掉之前的颜色，也就是k-1种可能性。\n",
    "# 假设dp[1]是第一根柱子及之前涂色的可能性数量，dp[2]是第二根柱子及之前涂色的可能性数量，则dp[3]=(k-1)*dp[1] + (k-1)*dp[2]。\n",
    "\n",
    "# 递推式有了，下面再讨论下base情况，所有柱子中第一根涂色的方式有k中，第二根涂色的方式则是k*k，因为第二根柱子可以和第一根一样。\n",
    "\n",
    "\n",
    "\n",
    "class Solution:\n",
    "    # @param {int} n non-negative integer, n posts\n",
    "    # @param {int} k non-negative integer, k colors\n",
    "    # @return {int} an integer, the total number of ways\n",
    "    def numWays(self, n, k):\n",
    "        # Write your code here\n",
    "        dp = [0, k, k * k]\n",
    "        if n <= 2:\n",
    "            return dp[n]\n",
    "        if k == 1 and n >= 3:\n",
    "            return 0\n",
    "        for i in range(2, n):\n",
    "            dp.append((k - 1) * (dp[-1] + dp[-2]))\n",
    "\n",
    "        return dp[-1]"
   ]
  },
  {
   "cell_type": "code",
   "execution_count": null,
   "metadata": {},
   "outputs": [],
   "source": [
    "class Solution:\n",
    "    def numWays(self, n, k):\n",
    "        dp = [0, k, k*k]\n",
    "        if n<= 2:\n",
    "            return dp[n]\n",
    "        if k==1 and n>=3:\n",
    "            return 0\n",
    "        for i in range(2, n):\n",
    "            dp.append((k-1)*dp[-1] + (k-1)*dp[-2])\n",
    "            return dp[-1]"
   ]
  },
  {
   "cell_type": "code",
   "execution_count": null,
   "metadata": {},
   "outputs": [],
   "source": []
  },
  {
   "cell_type": "code",
   "execution_count": null,
   "metadata": {},
   "outputs": [],
   "source": []
  },
  {
   "cell_type": "code",
   "execution_count": null,
   "metadata": {},
   "outputs": [],
   "source": []
  },
  {
   "cell_type": "code",
   "execution_count": null,
   "metadata": {},
   "outputs": [],
   "source": []
  }
 ],
 "metadata": {
  "kernelspec": {
   "display_name": "Python 3",
   "language": "python",
   "name": "python3"
  },
  "language_info": {
   "codemirror_mode": {
    "name": "ipython",
    "version": 3
   },
   "file_extension": ".py",
   "mimetype": "text/x-python",
   "name": "python",
   "nbconvert_exporter": "python",
   "pygments_lexer": "ipython3",
   "version": "3.6.3"
  }
 },
 "nbformat": 4,
 "nbformat_minor": 2
}
