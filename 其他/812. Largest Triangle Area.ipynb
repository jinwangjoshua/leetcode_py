{
 "cells": [
  {
   "cell_type": "code",
   "execution_count": null,
   "metadata": {},
   "outputs": [],
   "source": [
    "\"\"\"You have a list of points in the plane. Return the area of the largest triangle that can be formed by any 3 of the points.\n",
    "\n",
    "Example:\n",
    "Input: points = [[0,0],[0,1],[1,0],[0,2],[2,0]]\n",
    "Output: 2\n",
    "Explanation: \n",
    "The five points are show in the figure below. The red triangle is the largest.\n",
    "数学题看面积最大\n",
    "\n",
    "\"\"\""
   ]
  },
  {
   "cell_type": "code",
   "execution_count": null,
   "metadata": {},
   "outputs": [],
   "source": [
    "#Shoelace formula （根据顶点坐标求三角形面积），再把所有点进行一遍每句\n",
    "#记住公式\n",
    "#\n",
    "\n",
    "class Solution(object):\n",
    "    def largestTriangleArea(self, points):\n",
    "        \"\"\"\n",
    "        :type points: List[List[int]]\n",
    "        :rtype: float\n",
    "        \"\"\"\n",
    "        triangleArea = lambda x1, y1, x2, y2, x3, y3: \\\n",
    "            abs(0.5 * (x1 * (y2 - y3) + x2 * (y3 - y1) + x3 * (y1 - y2)))\n",
    "        size = len(points)\n",
    "        ans = 0\n",
    "        for i in range(size):\n",
    "            for j in range(i + 1, size):\n",
    "                for k in range(j + 1, size):\n",
    "                    x1, y1 = points[i]\n",
    "                    x2, y2 = points[j]\n",
    "                    x3, y3 = points[k]\n",
    "                    ans = max(ans, triangleArea(x1, y1, x2, y2, x3, y3))\n",
    "        return ans"
   ]
  },
  {
   "cell_type": "code",
   "execution_count": null,
   "metadata": {},
   "outputs": [],
   "source": [
    "class Solution(object):\n",
    "    def largestTriangleArea(self, points):\n",
    "        area = lambda x1,y1,x2,y2,x3,y3:abs(0.5*(x1*(y2-y3)+x2*(y3-y1)+x3*(y1-y2)))\n",
    "        size = len(points)\n",
    "        ans = 0\n",
    "        for i in range(size):\n",
    "            for j in range(i+1, size):\n",
    "                for k in range(j+1, size):\n",
    "                    x1, y1 = points[i]\n",
    "                    x2, y2 = points[j]\n",
    "                    x3, y3 = points[k]\n",
    "                    ans = max(ans, area(x1, ye, x2, y2, x3, y3))\n",
    "        return ans"
   ]
  },
  {
   "cell_type": "code",
   "execution_count": null,
   "metadata": {},
   "outputs": [],
   "source": []
  },
  {
   "cell_type": "code",
   "execution_count": null,
   "metadata": {},
   "outputs": [],
   "source": []
  },
  {
   "cell_type": "code",
   "execution_count": null,
   "metadata": {},
   "outputs": [],
   "source": []
  }
 ],
 "metadata": {
  "kernelspec": {
   "display_name": "Python 3",
   "language": "python",
   "name": "python3"
  },
  "language_info": {
   "codemirror_mode": {
    "name": "ipython",
    "version": 3
   },
   "file_extension": ".py",
   "mimetype": "text/x-python",
   "name": "python",
   "nbconvert_exporter": "python",
   "pygments_lexer": "ipython3",
   "version": "3.6.3"
  }
 },
 "nbformat": 4,
 "nbformat_minor": 2
}
