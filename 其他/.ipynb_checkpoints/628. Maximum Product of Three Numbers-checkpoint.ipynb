{
 "cells": [
  {
   "cell_type": "code",
   "execution_count": null,
   "metadata": {},
   "outputs": [],
   "source": [
    "\"\"\"Given an integer array, find three numbers whose product is maximum and output the maximum product.\n",
    "\n",
    "Example 1:\n",
    "Input: [1,2,3]\n",
    "Output: 6\n",
    "Example 2:\n",
    "Input: [1,2,3,4]\n",
    "Output: 24\n",
    "\n",
    "Note:\n",
    "The length of the given array will be in range [3,104] and all elements are in the range [-1000, 1000].\n",
    "Multiplication of any three numbers in the input won't exceed the range of 32-bit signed integer.\n",
    "\n",
    "#注意负数注意0\n",
    "\n",
    "#应该至少是三个函数\n",
    "\n",
    "\"\"\""
   ]
  },
  {
   "cell_type": "code",
   "execution_count": 5,
   "metadata": {},
   "outputs": [],
   "source": [
    "# 解题思路：\n",
    "# 线性遍历 时间复杂度O(n)  比起排序nlogn好一些\n",
    "\n",
    "# 变量na, nb存储最小元素，变量pa, pb, pc存储最大元素\n",
    "\n",
    "# 取pa * na * nb, pa * pb * pc的最大值\n",
    "\n",
    "\n",
    "\n",
    "\n",
    "class Solution(object):\n",
    "    def maximumProduct(self, nums):\n",
    "        \"\"\"\n",
    "        :type nums: List[int]\n",
    "        :rtype: int\n",
    "        \"\"\"\n",
    "        ans = pa = pb = pc = None\n",
    "        \n",
    "        if\n",
    "        na = nb = 0x7FFFFFFF\n",
    "        for n in nums:\n",
    "            if n > pa: pa, pb, pc = n, pa, pb\n",
    "            elif n > pb: pb, pc = n, pb\n",
    "            elif n > pc: pc = n\n",
    "            if n < na: na, nb = n, na\n",
    "            elif n < nb: nb = n\n",
    "        return max(ans, pa * na * nb, pa * pb * pc)"
   ]
  },
  {
   "cell_type": "code",
   "execution_count": 30,
   "metadata": {},
   "outputs": [
    {
     "name": "stdout",
     "output_type": "stream",
     "text": [
      "-4 -3\n",
      "60 -1 -2\n"
     ]
    },
    {
     "data": {
      "text/plain": [
       "720"
      ]
     },
     "execution_count": 30,
     "metadata": {},
     "output_type": "execute_result"
    }
   ],
   "source": [
    "#逻辑是一样的，就是写的太复杂了\n",
    "\n",
    "\n",
    "class Solution(object):\n",
    "    def maximumProduct(self, nums):\n",
    "        if len(nums) == 3:\n",
    "            return(nums[0]*nums[1]*nums[1])\n",
    "        mina, minb = min(nums[0], nums[1]), max(nums[0], nums[1]) \n",
    "        maxa, maxb, maxc = sorted(nums[0:3])[2], sorted(nums[0:3])[1], sorted(nums[0:3])[0]  \n",
    "        #虽然sorted，但是复杂程度几乎忽略不计\n",
    "        \n",
    "        for num in nums[2:]:\n",
    "            if num < minb:\n",
    "                if num < mina:\n",
    "                    minb = mina\n",
    "                    mina = num\n",
    "                    \n",
    "                else:\n",
    "                    minb = num\n",
    "                    \n",
    "        for num in nums[3:]:\n",
    "            if num > maxc:\n",
    "                if num > maxb:\n",
    "                    if num > maxa:\n",
    "                        maxc, maxb, maxa = maxb, maxa, num   #这样写好看一些\n",
    "#                         maxc = maxb\n",
    "#                         maxb = maxa\n",
    "#                         maxa = num\n",
    "                    else:\n",
    "                        maxc, maxb = maxb, num\n",
    "#                         maxc = maxb\n",
    "#                         maxb = num\n",
    "                else:\n",
    "                    maxc = num\n",
    "        print(mina, minb)\n",
    "        print(maxa, maxb, maxc)\n",
    "        return max(maxa*maxb*maxc, mina*minb*maxa)\n",
    "    \n",
    "Solution().maximumProduct([-4,-3,-2,-1,60])"
   ]
  },
  {
   "cell_type": "code",
   "execution_count": 37,
   "metadata": {},
   "outputs": [
    {
     "name": "stdout",
     "output_type": "stream",
     "text": [
      "2 3 4\n"
     ]
    }
   ],
   "source": [
    "a =1\n",
    "b=2\n",
    "c=3\n",
    "n=4\n",
    "b, a, c = c, b, n\n",
    "print(a, b,c)"
   ]
  },
  {
   "cell_type": "code",
   "execution_count": null,
   "metadata": {},
   "outputs": [],
   "source": []
  },
  {
   "cell_type": "code",
   "execution_count": null,
   "metadata": {},
   "outputs": [],
   "source": []
  },
  {
   "cell_type": "code",
   "execution_count": null,
   "metadata": {},
   "outputs": [],
   "source": []
  },
  {
   "cell_type": "code",
   "execution_count": null,
   "metadata": {},
   "outputs": [],
   "source": []
  },
  {
   "cell_type": "code",
   "execution_count": null,
   "metadata": {},
   "outputs": [],
   "source": []
  },
  {
   "cell_type": "code",
   "execution_count": null,
   "metadata": {},
   "outputs": [],
   "source": []
  }
 ],
 "metadata": {
  "kernelspec": {
   "display_name": "Python 3",
   "language": "python",
   "name": "python3"
  },
  "language_info": {
   "codemirror_mode": {
    "name": "ipython",
    "version": 3
   },
   "file_extension": ".py",
   "mimetype": "text/x-python",
   "name": "python",
   "nbconvert_exporter": "python",
   "pygments_lexer": "ipython3",
   "version": "3.6.3"
  }
 },
 "nbformat": 4,
 "nbformat_minor": 2
}
