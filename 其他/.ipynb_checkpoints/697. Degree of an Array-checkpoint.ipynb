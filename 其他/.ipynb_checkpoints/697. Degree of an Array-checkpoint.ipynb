{
 "cells": [
  {
   "cell_type": "code",
   "execution_count": null,
   "metadata": {},
   "outputs": [],
   "source": [
    "\"\"\"Given a non-empty array of non-negative integers nums, the degree of this array is defined as the maximum frequency of any one of its elements.\n",
    "\n",
    "Your task is to find the smallest possible length of a (contiguous) subarray of nums, that has the same degree as nums.\n",
    "\n",
    "Example 1:\n",
    "Input: [1, 2, 2, 3, 1]\n",
    "Output: 2\n",
    "Explanation: \n",
    "The input array has a degree of 2 because both elements 1 and 2 appear twice.\n",
    "Of the subarrays that have the same degree:\n",
    "[1, 2, 2, 3, 1], [1, 2, 2, 3], [2, 2, 3, 1], [1, 2, 2], [2, 2, 3], [2, 2]\n",
    "The shortest length is 2. So return 2.\n",
    "Example 2:\n",
    "Input: [1,2,2,3,1,4,2]\n",
    "Output: 6\n",
    "\n",
    "包含这个最高频的子集长度\n",
    "\n",
    "\"\"\""
   ]
  },
  {
   "cell_type": "code",
   "execution_count": 1,
   "metadata": {},
   "outputs": [],
   "source": [
    "# 解题思路：\n",
    "# 数组maxs记录元素的最大下标\n",
    "\n",
    "# 数组mins记录元素的最小下标\n",
    "\n",
    "# 数组cnts记录元素的出现个数\n",
    "\n",
    "# O(n)遍历即可\n",
    "\n",
    "# Python代码：\n",
    "#很巧妙！！！\n",
    "class Solution(object):\n",
    "    def findShortestSubArray(self, nums):\n",
    "        \"\"\"\n",
    "        :type nums: List[int]\n",
    "        :rtype: int\n",
    "        \"\"\"\n",
    "        mins = {}\n",
    "        maxs = {}\n",
    "        cnts = collections.defaultdict(int)   #好处是即使不存在，也有默认值为0\n",
    "        for idx, num in enumerate(nums):\n",
    "            maxs[num] = max(maxs.get(num, default=-1), idx)   #\n",
    "            mins[num] = min(mins.get(num, default=0x7FFFFFFF), idx)\n",
    "            cnts[num] += 1\n",
    "        degree = max(cnts.values())\n",
    "        ans = len(nums)  \n",
    "        for num in set(nums):\n",
    "            if cnts[num] == degree:   #如果最频率，可以有多个\n",
    "                ans = min(ans, maxs[num] - mins[num] + 1)\n",
    "        return ans"
   ]
  },
  {
   "cell_type": "code",
   "execution_count": null,
   "metadata": {},
   "outputs": [],
   "source": [
    "class Solution(object):\n",
    "    def findShortestSubArray(self, nums):\n",
    "        \"\"\"\n",
    "        :type nums: List[int]\n",
    "        :rtype: int\n",
    "        \"\"\"\n",
    "        maxs = {}\n",
    "        mins = {}\n",
    "        cnts = collections.defaultdict(int)  \n",
    "        for i, num in enumerate(nums):\n",
    "            maxs[num] = max(maxs.get(num, -1), i)\n",
    "            mins[num] = min(mins.get(num, 0xFFFFFFF), i)\n",
    "            cnts[num] += 1\n",
    "            \n",
    "        degree = max(cnts.values())\n",
    "        ans = len(nums)\n",
    "        for num in set(nums):\n",
    "            if cnts[num] == degree:\n",
    "                ans = min(ans, maxs[num]-mins[num]+1)\n",
    "        return ans\n",
    "                    \n",
    "        "
   ]
  },
  {
   "cell_type": "code",
   "execution_count": null,
   "metadata": {},
   "outputs": [],
   "source": []
  },
  {
   "cell_type": "code",
   "execution_count": null,
   "metadata": {},
   "outputs": [],
   "source": []
  },
  {
   "cell_type": "code",
   "execution_count": null,
   "metadata": {},
   "outputs": [],
   "source": []
  },
  {
   "cell_type": "code",
   "execution_count": 8,
   "metadata": {},
   "outputs": [
    {
     "data": {
      "text/plain": [
       "268435455"
      ]
     },
     "execution_count": 8,
     "metadata": {},
     "output_type": "execute_result"
    }
   ],
   "source": [
    "0xfffffff"
   ]
  },
  {
   "cell_type": "code",
   "execution_count": null,
   "metadata": {},
   "outputs": [],
   "source": []
  },
  {
   "cell_type": "code",
   "execution_count": null,
   "metadata": {},
   "outputs": [],
   "source": []
  },
  {
   "cell_type": "code",
   "execution_count": null,
   "metadata": {},
   "outputs": [],
   "source": []
  }
 ],
 "metadata": {
  "kernelspec": {
   "display_name": "Python 3",
   "language": "python",
   "name": "python3"
  },
  "language_info": {
   "codemirror_mode": {
    "name": "ipython",
    "version": 3
   },
   "file_extension": ".py",
   "mimetype": "text/x-python",
   "name": "python",
   "nbconvert_exporter": "python",
   "pygments_lexer": "ipython3",
   "version": "3.6.3"
  }
 },
 "nbformat": 4,
 "nbformat_minor": 2
}
