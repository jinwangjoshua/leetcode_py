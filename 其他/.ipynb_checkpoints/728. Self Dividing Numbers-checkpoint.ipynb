{
 "cells": [
  {
   "cell_type": "code",
   "execution_count": null,
   "metadata": {},
   "outputs": [],
   "source": [
    "\"\"\"A self-dividing number is a number that is divisible by every digit it contains.\n",
    "\n",
    "For example, 128 is a self-dividing number because 128 % 1 == 0, 128 % 2 == 0, and 128 % 8 == 0.\n",
    "\n",
    "Also, a self-dividing number is not allowed to contain the digit zero.\n",
    "\n",
    "Given a lower and upper number bound, output a list of every possible self dividing number, including the bounds if possible.\n",
    "\n",
    "Example 1:\n",
    "Input: \n",
    "left = 1, right = 22\n",
    "Output: [1, 2, 3, 4, 5, 6, 7, 8, 9, 11, 12, 15, 22]\n",
    "Note:\n",
    "\n",
    "The boundaries of each input argument are 1 <= left <= right <= 10000.\"\"\""
   ]
  },
  {
   "cell_type": "code",
   "execution_count": 3,
   "metadata": {},
   "outputs": [
    {
     "data": {
      "text/plain": [
       "[66,\n",
       " 77,\n",
       " 88,\n",
       " 99,\n",
       " 111,\n",
       " 112,\n",
       " 115,\n",
       " 122,\n",
       " 124,\n",
       " 126,\n",
       " 128,\n",
       " 132,\n",
       " 135,\n",
       " 144,\n",
       " 155,\n",
       " 162,\n",
       " 168,\n",
       " 175,\n",
       " 184,\n",
       " 212,\n",
       " 216,\n",
       " 222,\n",
       " 224,\n",
       " 244,\n",
       " 248,\n",
       " 264,\n",
       " 288,\n",
       " 312,\n",
       " 315,\n",
       " 324,\n",
       " 333,\n",
       " 336,\n",
       " 366,\n",
       " 384,\n",
       " 396,\n",
       " 412,\n",
       " 424,\n",
       " 432,\n",
       " 444,\n",
       " 448,\n",
       " 488,\n",
       " 515,\n",
       " 555,\n",
       " 612,\n",
       " 624,\n",
       " 636,\n",
       " 648,\n",
       " 666,\n",
       " 672]"
      ]
     },
     "execution_count": 3,
     "metadata": {},
     "output_type": "execute_result"
    }
   ],
   "source": [
    "class Solution(object):\n",
    "    def selfDividingNumbers(self, left, right):\n",
    "        \"\"\"\n",
    "        :type left: int\n",
    "        :type right: int\n",
    "        :rtype: List[int]\n",
    "        \"\"\"\n",
    "        ans=[]\n",
    "        \n",
    "        for i in range(left, right+1):\n",
    "            \n",
    "            if '0' in str(i):   #注意101这种情况\n",
    "                continue\n",
    "            elif any (i%int(x) !=0 for x in str(i)):\n",
    "                continue\n",
    "            else:\n",
    "                ans.append(i)\n",
    "        return ans\n",
    "Solution().selfDividingNumbers(66, 708)"
   ]
  },
  {
   "cell_type": "code",
   "execution_count": null,
   "metadata": {},
   "outputs": [],
   "source": []
  },
  {
   "cell_type": "code",
   "execution_count": null,
   "metadata": {},
   "outputs": [],
   "source": []
  },
  {
   "cell_type": "code",
   "execution_count": null,
   "metadata": {},
   "outputs": [],
   "source": []
  },
  {
   "cell_type": "code",
   "execution_count": null,
   "metadata": {},
   "outputs": [],
   "source": []
  },
  {
   "cell_type": "code",
   "execution_count": null,
   "metadata": {},
   "outputs": [],
   "source": []
  },
  {
   "cell_type": "code",
   "execution_count": null,
   "metadata": {},
   "outputs": [],
   "source": []
  }
 ],
 "metadata": {
  "kernelspec": {
   "display_name": "Python 3",
   "language": "python",
   "name": "python3"
  },
  "language_info": {
   "codemirror_mode": {
    "name": "ipython",
    "version": 3
   },
   "file_extension": ".py",
   "mimetype": "text/x-python",
   "name": "python",
   "nbconvert_exporter": "python",
   "pygments_lexer": "ipython3",
   "version": "3.6.3"
  }
 },
 "nbformat": 4,
 "nbformat_minor": 2
}
