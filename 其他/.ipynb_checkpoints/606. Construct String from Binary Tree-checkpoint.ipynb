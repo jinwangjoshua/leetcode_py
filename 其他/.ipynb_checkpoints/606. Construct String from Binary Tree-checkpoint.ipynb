{
 "cells": [
  {
   "cell_type": "code",
   "execution_count": null,
   "metadata": {},
   "outputs": [],
   "source": [
    "\"\"\"You need to construct a string consists of parenthesis and integers from a binary tree with the preorder traversing way.\n",
    "\n",
    "The null node needs to be represented by empty parenthesis pair \"()\". And you need to omit all the empty parenthesis pairs that don't affect the one-to-one mapping relationship between the string and the original binary tree.\n",
    "\n",
    "Example 1:\n",
    "Input: Binary tree: [1,2,3,4]\n",
    "       1\n",
    "     /   \\\n",
    "    2     3\n",
    "   /    \n",
    "  4     \n",
    "\n",
    "Output: \"1(2(4))(3)\"\n",
    "\n",
    "Explanation: Originallay it needs to be \"1(2(4)())(3()())\", \n",
    "but you need to omit all the unnecessary empty parenthesis pairs. \n",
    "And it will be \"1(2(4))(3)\".\n",
    "Example 2:\n",
    "Input: Binary tree: [1,2,3,null,4]\n",
    "       1\n",
    "     /   \\\n",
    "    2     3\n",
    "     \\  \n",
    "      4 \n",
    "\n",
    "Output: \"1(2()(4))(3)\"\n",
    "\n",
    "Explanation: Almost the same as the first example, \n",
    "except we can't omit the first parenthesis pair to break the one-to-one mapping relationship between the input and the output.\n",
    "\n",
    "题目有点特别：就是说左边子树的括号不可以省略（只要下面有就要有左边一个位置），右边的括号可以省略\n",
    "\"\"\""
   ]
  },
  {
   "cell_type": "code",
   "execution_count": null,
   "metadata": {},
   "outputs": [],
   "source": [
    "# Definition for a binary tree node.\n",
    "# class TreeNode(object):\n",
    "#     def __init__(self, x):\n",
    "#         self.val = x\n",
    "#         self.left = None\n",
    "#         self.right = None\n",
    "\n",
    "class Solution(object):\n",
    "    def tree2str(self, t):\n",
    "        \"\"\"\n",
    "        :type t: TreeNode\n",
    "        :rtype: str\n",
    "        \"\"\"\n",
    "        if not t: return ''\n",
    "        ans = str(t.val)\n",
    "        if t.left or t.right: #只要下面有就要有左边一个位置,是不是左无所谓\n",
    "            ans += '(' + self.tree2str(t.left) + ')'\n",
    "        if t.right:   #右边只有在有的情况下才有一席之地\n",
    "            ans += '(' + self.tree2str(t.right) + ')'\n",
    "        return ans"
   ]
  },
  {
   "cell_type": "code",
   "execution_count": null,
   "metadata": {},
   "outputs": [],
   "source": []
  },
  {
   "cell_type": "code",
   "execution_count": null,
   "metadata": {},
   "outputs": [],
   "source": []
  },
  {
   "cell_type": "code",
   "execution_count": null,
   "metadata": {},
   "outputs": [],
   "source": []
  },
  {
   "cell_type": "code",
   "execution_count": null,
   "metadata": {},
   "outputs": [],
   "source": []
  },
  {
   "cell_type": "code",
   "execution_count": null,
   "metadata": {},
   "outputs": [],
   "source": []
  },
  {
   "cell_type": "code",
   "execution_count": null,
   "metadata": {},
   "outputs": [],
   "source": []
  },
  {
   "cell_type": "code",
   "execution_count": null,
   "metadata": {},
   "outputs": [],
   "source": []
  },
  {
   "cell_type": "code",
   "execution_count": null,
   "metadata": {},
   "outputs": [],
   "source": []
  },
  {
   "cell_type": "code",
   "execution_count": null,
   "metadata": {},
   "outputs": [],
   "source": []
  }
 ],
 "metadata": {
  "kernelspec": {
   "display_name": "Python 3",
   "language": "python",
   "name": "python3"
  },
  "language_info": {
   "codemirror_mode": {
    "name": "ipython",
    "version": 3
   },
   "file_extension": ".py",
   "mimetype": "text/x-python",
   "name": "python",
   "nbconvert_exporter": "python",
   "pygments_lexer": "ipython3",
   "version": "3.6.3"
  }
 },
 "nbformat": 4,
 "nbformat_minor": 2
}
