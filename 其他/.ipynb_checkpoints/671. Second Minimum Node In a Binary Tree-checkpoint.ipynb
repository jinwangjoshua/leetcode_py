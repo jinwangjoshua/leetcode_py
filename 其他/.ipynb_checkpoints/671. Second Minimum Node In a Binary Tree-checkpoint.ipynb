{
 "cells": [
  {
   "cell_type": "code",
   "execution_count": null,
   "metadata": {},
   "outputs": [],
   "source": [
    "\"\"\"Given a non-empty special binary tree consisting of nodes with the non-negative value, where each node in this tree has exactly two or zero sub-node. If the node has two sub-nodes, then this node's value is the smaller value among its two sub-nodes.\n",
    "\n",
    "Given such a binary tree, you need to output the second minimum value in the set made of all the nodes' value in the whole tree.\n",
    "\n",
    "If no such second minimum value exists, output -1 instead.\n",
    "\n",
    "Example 1:\n",
    "Input: \n",
    "    2\n",
    "   / \\\n",
    "  2   5\n",
    "     / \\\n",
    "    5   7\n",
    "\n",
    "Output: 5\n",
    "Explanation: The smallest value is 2, the second smallest value is 5.\n",
    "Example 2:\n",
    "Input: \n",
    "    2\n",
    "   / \\\n",
    "  2   2\n",
    "\n",
    "Output: -1\n",
    "Explanation: The smallest value is 2, but there isn't any second smallest value.\"\"\""
   ]
  },
  {
   "cell_type": "code",
   "execution_count": null,
   "metadata": {},
   "outputs": [],
   "source": [
    "# 遍历二叉树，记录比根节点大的所有节点中值最小的元素\n",
    "\n",
    "# Python代码：\n",
    "# Definition for a binary tree node.\n",
    "# class TreeNode(object):\n",
    "#     def __init__(self, x):\n",
    "#         self.val = x\n",
    "#         self.left = None\n",
    "#         self.right = None\n",
    "\n",
    "class Solution(object):\n",
    "    def findSecondMinimumValue(self, root):\n",
    "        \"\"\"\n",
    "        :type root: TreeNode\n",
    "        :rtype: int\n",
    "        \"\"\"\n",
    "        self.ans = 0x80000000\n",
    "        minVal = root.val\n",
    "        def traverse(root):\n",
    "            if not root: return\n",
    "            if self.ans > root.val > minVal:\n",
    "                self.ans = root.val\n",
    "            traverse(root.left)\n",
    "            traverse(root.right)\n",
    "        traverse(root)\n",
    "        return self.ans if self.ans != 0x80000000 else -1"
   ]
  },
  {
   "cell_type": "code",
   "execution_count": null,
   "metadata": {},
   "outputs": [],
   "source": []
  },
  {
   "cell_type": "code",
   "execution_count": null,
   "metadata": {},
   "outputs": [],
   "source": []
  },
  {
   "cell_type": "code",
   "execution_count": null,
   "metadata": {},
   "outputs": [],
   "source": []
  },
  {
   "cell_type": "code",
   "execution_count": null,
   "metadata": {},
   "outputs": [],
   "source": []
  },
  {
   "cell_type": "code",
   "execution_count": null,
   "metadata": {},
   "outputs": [],
   "source": []
  },
  {
   "cell_type": "code",
   "execution_count": null,
   "metadata": {},
   "outputs": [],
   "source": []
  },
  {
   "cell_type": "code",
   "execution_count": null,
   "metadata": {},
   "outputs": [],
   "source": []
  }
 ],
 "metadata": {
  "kernelspec": {
   "display_name": "Python 3",
   "language": "python",
   "name": "python3"
  },
  "language_info": {
   "codemirror_mode": {
    "name": "ipython",
    "version": 3
   },
   "file_extension": ".py",
   "mimetype": "text/x-python",
   "name": "python",
   "nbconvert_exporter": "python",
   "pygments_lexer": "ipython3",
   "version": "3.6.3"
  }
 },
 "nbformat": 4,
 "nbformat_minor": 2
}
