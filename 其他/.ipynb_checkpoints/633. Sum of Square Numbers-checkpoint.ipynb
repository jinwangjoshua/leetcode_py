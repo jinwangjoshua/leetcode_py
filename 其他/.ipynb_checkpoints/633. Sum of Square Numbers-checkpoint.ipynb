{
 "cells": [
  {
   "cell_type": "code",
   "execution_count": null,
   "metadata": {},
   "outputs": [],
   "source": [
    "\"\"\"Given a non-negative integer c, your task is to decide whether there're two integers a and b such that a2 + b2 = c.\n",
    "\n",
    "Example 1:\n",
    "Input: 5\n",
    "Output: True\n",
    "Explanation: 1 * 1 + 2 * 2 = 5\n",
    "Example 2:\n",
    "Input: 3\n",
    "Output: False\\\n",
    "给定一个数字，问是否能够被拆解为两个数字的和，数学题\n",
    "\n",
    "\"\"\""
   ]
  },
  {
   "cell_type": "code",
   "execution_count": null,
   "metadata": {},
   "outputs": [],
   "source": [
    "#判断一个数字是不是完全平方数：开方取整再平方，兜一圈回来看看还是不是当初的数字\n",
    "int(x**0.5)**2 == a        "
   ]
  },
  {
   "cell_type": "code",
   "execution_count": 1,
   "metadata": {},
   "outputs": [],
   "source": [
    "class Solution(object):\n",
    "    def judgeSquareSum(self, c):\n",
    "        \"\"\"\n",
    "        :type c: int\n",
    "        :rtype: bool\n",
    "        \"\"\"\n",
    "        for a in range(int(c**0.5)+1):\n",
    "            b = c - a**2\n",
    "            if (int(b**0.5))**2 == b:\n",
    "                return True\n",
    "        return False"
   ]
  },
  {
   "cell_type": "code",
   "execution_count": null,
   "metadata": {},
   "outputs": [],
   "source": []
  },
  {
   "cell_type": "code",
   "execution_count": null,
   "metadata": {},
   "outputs": [],
   "source": []
  },
  {
   "cell_type": "code",
   "execution_count": null,
   "metadata": {},
   "outputs": [],
   "source": []
  }
 ],
 "metadata": {
  "kernelspec": {
   "display_name": "Python 3",
   "language": "python",
   "name": "python3"
  },
  "language_info": {
   "codemirror_mode": {
    "name": "ipython",
    "version": 3
   },
   "file_extension": ".py",
   "mimetype": "text/x-python",
   "name": "python",
   "nbconvert_exporter": "python",
   "pygments_lexer": "ipython3",
   "version": "3.6.3"
  }
 },
 "nbformat": 4,
 "nbformat_minor": 2
}
