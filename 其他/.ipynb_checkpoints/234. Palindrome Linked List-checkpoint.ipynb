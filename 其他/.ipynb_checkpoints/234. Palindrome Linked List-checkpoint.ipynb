{
 "cells": [
  {
   "cell_type": "code",
   "execution_count": null,
   "metadata": {},
   "outputs": [],
   "source": [
    "\"\"\"\n",
    "Given a singly linked list, determine if it is a palindrome.\n",
    "\n",
    "Example 1:\n",
    "\n",
    "Input: 1->2\n",
    "Output: false\n",
    "Example 2:\n",
    "\n",
    "Input: 1->2->2->1\n",
    "Output: true\n",
    "Follow up:\n",
    "Could you do it in O(n) time and O(1) space?\n",
    "\n",
    "\"\"\""
   ]
  },
  {
   "cell_type": "code",
   "execution_count": null,
   "metadata": {},
   "outputs": [],
   "source": [
    "# 解题思路：\n",
    "# 1). 使用快慢指针寻找链表中点\n",
    "\n",
    "# 2). 将链表的后半部分就地逆置，然后比对前后两半的元素是否一致\n",
    "\n",
    "# 3). 恢复原始链表的结构（可选）\n",
    "\n",
    "# Python代码：\n",
    "# Definition for singly-linked list.\n",
    "# class ListNode:\n",
    "#     def __init__(self, x):\n",
    "#         self.val = x\n",
    "#         self.next = None\n",
    "\n",
    "class Solution:\n",
    "    # @param {ListNode} head\n",
    "    # @return {boolean}\n",
    "    def isPalindrome(self, head):\n",
    "        if head is None:\n",
    "            return True\n",
    "        #find mid node\n",
    "        fast = slow = head\n",
    "        while fast.next and fast.next.next:\n",
    "            slow = slow.next\n",
    "            fast = fast.next.next\n",
    "        #reverse second half 反转\n",
    "        head_mid, last = slow.next, None\n",
    "        \n",
    "        while p:\n",
    "            next = head_mid.next\n",
    "            head_mid.next = last\n",
    "            last, head_mid = head_mid, next\n",
    "        \n",
    "        #check palindrome\n",
    "        p1, p2 = last, head\n",
    "        while p1 and p1.val == p2.val:\n",
    "            p1, p2 = p1.next, p2.next\n",
    "        \n",
    "        \n",
    "        \n",
    "        #resume linked list(optional)\n",
    "        p, last = last, None\n",
    "        while p:\n",
    "            next = p.next\n",
    "            p.next = last\n",
    "            last, p = p, next\n",
    "        slow.next = last\n",
    "        return p1 is None\n",
    "        "
   ]
  },
  {
   "cell_type": "code",
   "execution_count": null,
   "metadata": {},
   "outputs": [],
   "source": [
    "#反转linked list\n",
    "class Solution:\n",
    "    def isPalindromw(self, head):\n",
    "        if head is None:\n",
    "            return True\n",
    "        fast = slow = head\n",
    "        while fast.next and fast.next.next:\n",
    "            slow = slow.next\n",
    "            fast = fast.next.next\n",
    "        p, last = slow.next, None\n",
    "        while p:\n",
    "            next = p.next\n",
    "            p.next = last\n",
    "            last, p = p, next\n",
    "        #check\n",
    "        p1, p2 = last, head\n",
    "        whi;e p1 and pa.val == p2.val:\n",
    "            pa, p2 = p1.next, p2.next\n",
    "            \n",
    "        p, last = last, None\n",
    "        while p:\n",
    "            next = p.next\n",
    "            p.next = last\n",
    "            last, p = p, next\n",
    "        slow.next = last\n",
    "        return p1 is None"
   ]
  },
  {
   "cell_type": "code",
   "execution_count": null,
   "metadata": {},
   "outputs": [],
   "source": []
  },
  {
   "cell_type": "code",
   "execution_count": null,
   "metadata": {},
   "outputs": [],
   "source": []
  },
  {
   "cell_type": "code",
   "execution_count": null,
   "metadata": {},
   "outputs": [],
   "source": []
  },
  {
   "cell_type": "code",
   "execution_count": null,
   "metadata": {},
   "outputs": [],
   "source": []
  },
  {
   "cell_type": "code",
   "execution_count": null,
   "metadata": {},
   "outputs": [],
   "source": []
  }
 ],
 "metadata": {
  "kernelspec": {
   "display_name": "Python 3",
   "language": "python",
   "name": "python3"
  },
  "language_info": {
   "codemirror_mode": {
    "name": "ipython",
    "version": 3
   },
   "file_extension": ".py",
   "mimetype": "text/x-python",
   "name": "python",
   "nbconvert_exporter": "python",
   "pygments_lexer": "ipython3",
   "version": "3.6.3"
  }
 },
 "nbformat": 4,
 "nbformat_minor": 2
}
