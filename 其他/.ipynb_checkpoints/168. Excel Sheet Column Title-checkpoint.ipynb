{
 "cells": [
  {
   "cell_type": "code",
   "execution_count": null,
   "metadata": {},
   "outputs": [],
   "source": [
    "\"\"\"Given a positive integer, return its corresponding column title as appear in an Excel sheet.\n",
    "\n",
    "For example:\n",
    "\n",
    "    1 -> A\n",
    "    2 -> B\n",
    "    3 -> C\n",
    "    ...\n",
    "    26 -> Z\n",
    "    27 -> AA\n",
    "    28 -> AB \n",
    "    ...\n",
    "Example 1:\n",
    "\n",
    "Input: 1\n",
    "Output: \"A\"\n",
    "Example 2:\n",
    "\n",
    "Input: 28\n",
    "Output: \"AB\"\n",
    "Example 3:\n",
    "\n",
    "Input: 701\n",
    "Output: \"ZY\"\n",
    "\n",
    "\"\"\""
   ]
  },
  {
   "cell_type": "code",
   "execution_count": 16,
   "metadata": {},
   "outputs": [
    {
     "data": {
      "text/plain": [
       "'BRP'"
      ]
     },
     "execution_count": 16,
     "metadata": {},
     "output_type": "execute_result"
    }
   ],
   "source": [
    "\n",
    "# 简单题。可以理解为进制转化，将10进制数转化为每位以A-Z表示的26进制数。\n",
    "\n",
    "# 使用Python解题时，需要使用ord()函数将字母转化为整数，使用chr()函数将整数转化回字母。\n",
    "\n",
    "# Python代码：\n",
    "class Solution:\n",
    "    # @return a string\n",
    "    def convertToTitle(self, num):\n",
    "        ans = ''\n",
    "        while num:\n",
    "#             print(ans)\n",
    "            ans = chr(ord('A') + (num - 1) % 26) + ans\n",
    "            num = int((num-1) / 26)\n",
    "        return ans\n",
    "    \n",
    "    \n",
    "Solution().convertToTitle(1836)"
   ]
  },
  {
   "cell_type": "code",
   "execution_count": 3,
   "metadata": {},
   "outputs": [
    {
     "data": {
      "text/plain": [
       "65"
      ]
     },
     "execution_count": 3,
     "metadata": {},
     "output_type": "execute_result"
    }
   ],
   "source": [
    "class Solution:\n",
    "    def convertToTitle(self, num):\n",
    "        ans = ''\n",
    "        while num:\n",
    "            ans = chr(ord('A') + (num-1)%26) + ans\n",
    "            num = int((num-1) /26)\n",
    "        return ans"
   ]
  },
  {
   "cell_type": "code",
   "execution_count": null,
   "metadata": {},
   "outputs": [],
   "source": []
  },
  {
   "cell_type": "code",
   "execution_count": null,
   "metadata": {},
   "outputs": [],
   "source": []
  },
  {
   "cell_type": "code",
   "execution_count": null,
   "metadata": {},
   "outputs": [],
   "source": []
  },
  {
   "cell_type": "code",
   "execution_count": null,
   "metadata": {},
   "outputs": [],
   "source": []
  },
  {
   "cell_type": "code",
   "execution_count": null,
   "metadata": {},
   "outputs": [],
   "source": []
  },
  {
   "cell_type": "code",
   "execution_count": null,
   "metadata": {},
   "outputs": [],
   "source": []
  }
 ],
 "metadata": {
  "kernelspec": {
   "display_name": "Python 3",
   "language": "python",
   "name": "python3"
  },
  "language_info": {
   "codemirror_mode": {
    "name": "ipython",
    "version": 3
   },
   "file_extension": ".py",
   "mimetype": "text/x-python",
   "name": "python",
   "nbconvert_exporter": "python",
   "pygments_lexer": "ipython3",
   "version": "3.6.3"
  }
 },
 "nbformat": 4,
 "nbformat_minor": 2
}
