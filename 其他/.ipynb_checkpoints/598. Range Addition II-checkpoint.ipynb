{
 "cells": [
  {
   "cell_type": "code",
   "execution_count": null,
   "metadata": {},
   "outputs": [],
   "source": [
    "\"\"\"Given an m * n matrix M initialized with all 0's and several update operations.\n",
    "\n",
    "Operations are represented by a 2D array, and each operation is represented by an array with two positive integers a and b, which means M[i][j] should be added by one for all 0 <= i < a and 0 <= j < b.\n",
    "\n",
    "You need to count and return the number of maximum integers in the matrix after performing all the operations.\n",
    "\n",
    "Example 1:\n",
    "Input: \n",
    "m = 3, n = 3\n",
    "operations = [[2,2],[3,3]]\n",
    "Output: 4\n",
    "Explanation: \n",
    "Initially, M = \n",
    "[[0, 0, 0],\n",
    " [0, 0, 0],\n",
    " [0, 0, 0]]\n",
    "\n",
    "After performing [2,2], M = \n",
    "[[1, 1, 0],\n",
    " [1, 1, 0],\n",
    " [0, 0, 0]]\n",
    "\n",
    "After performing [3,3], M = \n",
    "[[2, 2, 1],\n",
    " [2, 2, 1],\n",
    " [1, 1, 1]]\n",
    "\n",
    "So the maximum integer in M is 2, and there are four of it in M. So return 4.\n",
    "Note:\n",
    "The range of m and n is [1,40000].\n",
    "The range of a is [1,m], and the range of b is [1,n].\n",
    "The range of operations size won't exceed 10,000.\"\"\""
   ]
  },
  {
   "cell_type": "code",
   "execution_count": 29,
   "metadata": {},
   "outputs": [
    {
     "data": {
      "text/plain": [
       "4"
      ]
     },
     "execution_count": 29,
     "metadata": {},
     "output_type": "execute_result"
    }
   ],
   "source": [
    "class Solution(object):\n",
    "    def maxCount(self, m, n, ops):\n",
    "        \"\"\"\n",
    "        :type m: int\n",
    "        :type n: int\n",
    "        :type ops: List[List[int]]\n",
    "        :rtype: int\n",
    "        \"\"\"\n",
    "        if not ops: \n",
    "            return m * n\n",
    "        return min(op[0] for op in ops) * min(op[1] for op in ops)\n",
    "Solution().maxCount(3, 3,[[2,2],[3,3]])\n"
   ]
  },
  {
   "cell_type": "code",
   "execution_count": null,
   "metadata": {},
   "outputs": [],
   "source": []
  },
  {
   "cell_type": "code",
   "execution_count": 30,
   "metadata": {},
   "outputs": [
    {
     "name": "stdout",
     "output_type": "stream",
     "text": [
      "[[0, 0, 0], [0, 0, 0], [0, 0, 0]]\n",
      "2 2\n",
      "0 0\n",
      "0\n",
      "1\n",
      "0 1\n",
      "0\n",
      "1\n",
      "1 0\n",
      "1\n",
      "2\n",
      "1 1\n",
      "1\n",
      "2\n",
      "3 3\n",
      "0 0\n",
      "2\n",
      "3\n",
      "0 1\n",
      "2\n",
      "3\n",
      "0 2\n",
      "0\n",
      "1\n",
      "1 0\n",
      "3\n",
      "4\n",
      "1 1\n",
      "3\n",
      "4\n",
      "1 2\n",
      "1\n",
      "2\n",
      "2 0\n",
      "4\n",
      "5\n",
      "2 1\n",
      "4\n",
      "5\n",
      "2 2\n",
      "2\n",
      "3\n"
     ]
    }
   ],
   "source": [
    "\n",
    "###问大佬##\n",
    "\n",
    "class Solution(object):\n",
    "    def maxCount(self, m, n, ops):\n",
    "        \"\"\"\n",
    "        :type m: int\n",
    "        :type n: int\n",
    "        :type ops: List[List[int]]\n",
    "        :rtype: int\n",
    "        \"\"\"\n",
    "        mat = [[0]*n]*m\n",
    "        print(mat)\n",
    "        for mx in ops:\n",
    "            a = mx[0]\n",
    "            b = mx[1]\n",
    "            print(a,b)\n",
    "            for i in range(min(m, a)):\n",
    "                for j in range(min(n, b)):\n",
    "                    print(i, j)\n",
    "                    print(mat[i][j])\n",
    "                    mat[i][j] += 1\n",
    "                    print(mat[i][j])\n",
    "Solution().maxCount(3, 3,[[2,2],[3,3]])\n",
    "        "
   ]
  },
  {
   "cell_type": "code",
   "execution_count": null,
   "metadata": {},
   "outputs": [],
   "source": []
  },
  {
   "cell_type": "code",
   "execution_count": null,
   "metadata": {},
   "outputs": [],
   "source": []
  },
  {
   "cell_type": "code",
   "execution_count": null,
   "metadata": {},
   "outputs": [],
   "source": []
  },
  {
   "cell_type": "code",
   "execution_count": null,
   "metadata": {},
   "outputs": [],
   "source": []
  },
  {
   "cell_type": "code",
   "execution_count": null,
   "metadata": {},
   "outputs": [],
   "source": []
  },
  {
   "cell_type": "code",
   "execution_count": null,
   "metadata": {},
   "outputs": [],
   "source": []
  },
  {
   "cell_type": "code",
   "execution_count": null,
   "metadata": {},
   "outputs": [],
   "source": []
  }
 ],
 "metadata": {
  "kernelspec": {
   "display_name": "Python 3",
   "language": "python",
   "name": "python3"
  },
  "language_info": {
   "codemirror_mode": {
    "name": "ipython",
    "version": 3
   },
   "file_extension": ".py",
   "mimetype": "text/x-python",
   "name": "python",
   "nbconvert_exporter": "python",
   "pygments_lexer": "ipython3",
   "version": "3.6.3"
  }
 },
 "nbformat": 4,
 "nbformat_minor": 2
}
