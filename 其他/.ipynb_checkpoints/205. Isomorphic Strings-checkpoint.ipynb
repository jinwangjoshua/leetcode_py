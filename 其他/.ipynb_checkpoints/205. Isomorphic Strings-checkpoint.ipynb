{
 "cells": [
  {
   "cell_type": "code",
   "execution_count": null,
   "metadata": {},
   "outputs": [],
   "source": [
    "\"\"\"Given two strings s and t, determine if they are isomorphic.\n",
    "\n",
    "Two strings are isomorphic if the characters in s can be replaced to get t.\n",
    "\n",
    "All occurrences of a character must be replaced with another character while preserving the order of characters. \n",
    "No two characters may map to the same character but a character may map to itself.\n",
    "\n",
    "Example 1:\n",
    "\n",
    "Input: s = \"egg\", t = \"add\"\n",
    "Output: true\n",
    "Example 2:\n",
    "\n",
    "Input: s = \"foo\", t = \"bar\"\n",
    "Output: false\n",
    "Example 3:\n",
    "\n",
    "Input: s = \"paper\", t = \"title\"\n",
    "Output: true\"\"\""
   ]
  },
  {
   "cell_type": "code",
   "execution_count": 44,
   "metadata": {},
   "outputs": [
    {
     "name": "stdout",
     "output_type": "stream",
     "text": [
      "{'t': 'p'} {'p': 't'}\n",
      "{'t': 'p', 'i': 'a'} {'p': 't', 'a': 'i'}\n",
      "{'t': 'p', 'i': 'a'} {'p': 't', 'a': 'i'}\n",
      "{'t': 'p', 'i': 'a', 'm': 'e'} {'p': 't', 'a': 'i', 'e': 'm'}\n",
      "{'t': 'p', 'i': 'a', 'm': 'e', 'l': 'r'} {'p': 't', 'a': 'i', 'e': 'm', 'r': 'l'}\n"
     ]
    },
    {
     "data": {
      "text/plain": [
       "True"
      ]
     },
     "execution_count": 44,
     "metadata": {},
     "output_type": "execute_result"
    }
   ],
   "source": [
    "# 解题思路：\n",
    "# 使用两个哈希表sourceMap和targetMap维护两个字符串中字符的映射关系。\n",
    "\n",
    "# sourceMap[ t[x] ] = s[x]\n",
    "\n",
    "# targetMap[ s[x] ] = t[x]\n",
    "\n",
    "# 当出现映射不一致的情形时，返回False\n",
    "\n",
    "# 否则返回True\n",
    "# Python代码：\n",
    "\n",
    "class Solution:\n",
    "    # @param {string} s\n",
    "    # @param {string} t\n",
    "    # @return {boolean}\n",
    "    def isIsomorphic(self, s, t):\n",
    "        if len(s) != len(t):\n",
    "            return False\n",
    "        \n",
    "        sourceMap, targetMap = dict(), dict()\n",
    "        for x in range(len(s)):\n",
    "            source, target = sourceMap.get(t[x]), targetMap.get(s[x])\n",
    "            if source is None and target is None:\n",
    "                sourceMap[t[x]], targetMap[s[x]] = s[x], t[x]\n",
    "            elif target != t[x] or source != s[x]:\n",
    "                return False\n",
    "            print(sourceMap, targetMap)\n",
    "        return True\n",
    "    \n",
    "Solution().isIsomorphic('paper', 'titml')"
   ]
  },
  {
   "cell_type": "code",
   "execution_count": 28,
   "metadata": {},
   "outputs": [
    {
     "data": {
      "text/plain": [
       "True"
      ]
     },
     "execution_count": 28,
     "metadata": {},
     "output_type": "execute_result"
    }
   ],
   "source": [
    "class Solution:\n",
    "    def isIsomorphic(self, s, t):\n",
    "        sourceMap, targetMap = dict(), dict()\n",
    "        for x in range(len(s)):\n",
    "            source, target = sourceMap.get(t[x]), targetMap.get(s[x])\n",
    "            if source is None and target is None:\n",
    "                sourceMap[t[x]], targetMap[s[x]] = s[x], t[x]\n",
    "            elif target != t[x] or source != s[x]:\n",
    "                return False\n",
    "        return True\n",
    "\n",
    "    \n",
    "Solution().isIsomorphic('wd','3d22')"
   ]
  },
  {
   "cell_type": "code",
   "execution_count": null,
   "metadata": {},
   "outputs": [],
   "source": []
  },
  {
   "cell_type": "code",
   "execution_count": null,
   "metadata": {},
   "outputs": [],
   "source": []
  },
  {
   "cell_type": "code",
   "execution_count": null,
   "metadata": {},
   "outputs": [],
   "source": []
  },
  {
   "cell_type": "code",
   "execution_count": null,
   "metadata": {},
   "outputs": [],
   "source": []
  },
  {
   "cell_type": "code",
   "execution_count": null,
   "metadata": {},
   "outputs": [],
   "source": []
  },
  {
   "cell_type": "code",
   "execution_count": null,
   "metadata": {},
   "outputs": [],
   "source": []
  }
 ],
 "metadata": {
  "kernelspec": {
   "display_name": "Python 3",
   "language": "python",
   "name": "python3"
  },
  "language_info": {
   "codemirror_mode": {
    "name": "ipython",
    "version": 3
   },
   "file_extension": ".py",
   "mimetype": "text/x-python",
   "name": "python",
   "nbconvert_exporter": "python",
   "pygments_lexer": "ipython3",
   "version": "3.6.3"
  }
 },
 "nbformat": 4,
 "nbformat_minor": 2
}
