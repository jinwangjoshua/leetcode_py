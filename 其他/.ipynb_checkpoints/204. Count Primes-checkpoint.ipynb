{
 "cells": [
  {
   "cell_type": "code",
   "execution_count": null,
   "metadata": {},
   "outputs": [],
   "source": [
    "\"\"\"Count the number of prime numbers less than a non-negative number, n.\n",
    "\n",
    "Example:\n",
    "\n",
    "Input: 10\n",
    "Output: 4\n",
    "Explanation: There are 4 prime numbers less than 10, they are 2, 3, 5, 7.\n",
    "\"\"\""
   ]
  },
  {
   "cell_type": "code",
   "execution_count": 22,
   "metadata": {},
   "outputs": [],
   "source": [
    "# 见埃拉托斯特尼筛法。\n",
    "\n"
   ]
  },
  {
   "cell_type": "code",
   "execution_count": 38,
   "metadata": {},
   "outputs": [
    {
     "name": "stdout",
     "output_type": "stream",
     "text": [
      "[False, False, True, True, False, True, True, True, True, True]\n",
      "[False, False, True, True, False, True, False, True, True, True]\n",
      "[False, False, True, True, False, True, False, True, False, True]\n",
      "[False, False, True, True, False, True, False, True, False, False]\n"
     ]
    },
    {
     "data": {
      "text/plain": [
       "4"
      ]
     },
     "execution_count": 38,
     "metadata": {},
     "output_type": "execute_result"
    }
   ],
   "source": [
    "class Solution:\n",
    "    # @param {integer} n\n",
    "    # @return {integer}\n",
    "    def countPrimes(self, n):\n",
    "        isPrime = [True] * max(n, 2)\n",
    "        isPrime[0], isPrime[1] = False, False\n",
    "        x = 2\n",
    "        while x * x < n:\n",
    "            if isPrime[x]:\n",
    "                p = x * x\n",
    "                while p < n:\n",
    "                    isPrime[p] = False\n",
    "                    p += x  #即(x*x) -> (x+1)*x;不断加x因为只找x的倍数\n",
    "            x += 1\n",
    "        return sum(isPrime)\n",
    "Solution().countPrimes(10)"
   ]
  },
  {
   "cell_type": "code",
   "execution_count": null,
   "metadata": {},
   "outputs": [],
   "source": [
    "class Solution:\n",
    "    def countPrime(self, n):\n",
    "        isPrime = [True] * max(n, 2)\n",
    "        isPrime[0], isPrime[1] = False, False\n",
    "        \n",
    "        x = 2\n",
    "        while x*x <n: #最大根号n\n",
    "            if isPrime[x]:\n",
    "                p = x * x #比如3*3直接从9开始，前面6被划去，3保留下来作为prime\n",
    "                while p < n:\n",
    "                    isPrime[p] = False\n",
    "                    P  += x #即(x*x) -> (x+1)*x;不断加x因为只找x的倍数\n",
    "            x += 1\n",
    "        return sum(isPrime)"
   ]
  },
  {
   "cell_type": "code",
   "execution_count": null,
   "metadata": {},
   "outputs": [],
   "source": []
  },
  {
   "cell_type": "code",
   "execution_count": null,
   "metadata": {},
   "outputs": [],
   "source": []
  },
  {
   "cell_type": "code",
   "execution_count": 39,
   "metadata": {},
   "outputs": [],
   "source": [
    "\"\"\"西元前250年，希腊数学家厄拉多塞(Eeatosthese)想到了一个非常美妙的质数筛法，\n",
    "减少了逐一检查每个数的的步骤，可以比较简单的从一大堆数字之中，筛选出质数来，这方法被称作厄拉多塞筛法(Sieve of Eeatosthese)。\n",
    "\n",
    "具体操作：先将 2~n 的各个数放入表中，然后在2的上面画一个圆圈，然后划去2的其他倍数；\n",
    "第一个既未画圈又没有被划去的数是3，将它画圈，再划去3的其他倍数；\n",
    "现在既未画圈又没有被划去的第一个数 是5，将它画圈，\n",
    "并划去5的其他倍数……依次类推，一直到所有小于或等于 n 的各数都画了圈或划去为止。\n",
    "这时，表中画了圈的以及未划去的那些数正好就是小于 n 的素数。\"\"\"\n",
    "\n",
    "def countPrimes(self, n):\n",
    "    if n < 3:\n",
    "        return 0\n",
    "    primes = [True] * n\n",
    "    primes[0] = primes[1] = False\n",
    "    for i in range(2, int(n ** 0.5) + 1):\n",
    "        if primes[i]:\n",
    "            primes[i * i: n: i] = [False] * len(primes[i * i: n: i])\n",
    "    return sum(primes)"
   ]
  },
  {
   "cell_type": "code",
   "execution_count": null,
   "metadata": {},
   "outputs": [],
   "source": []
  },
  {
   "cell_type": "code",
   "execution_count": null,
   "metadata": {},
   "outputs": [],
   "source": []
  },
  {
   "cell_type": "code",
   "execution_count": null,
   "metadata": {},
   "outputs": [],
   "source": []
  },
  {
   "cell_type": "code",
   "execution_count": null,
   "metadata": {},
   "outputs": [],
   "source": [
    "# 开辟一个辅助数组，依次标记2−n‾√的所有倍数。最后遍历该数组，计数素数。\n",
    "\n",
    "# 代码\n",
    "class Solution(object):\n",
    "    def countPrimes(self, n):\n",
    "        \"\"\"\n",
    "        :type n: int\n",
    "        :rtype: int\n",
    "        \"\"\"\n",
    "        if n is None or n <= 1:\n",
    "            return 0\n",
    "        tmp = [True] * n\n",
    "        tmp[0] = False\n",
    "        tmp[1] = False\n",
    "\n",
    "        i = 2\n",
    "        while i * i < n:\n",
    "            if tmp[i]:\n",
    "                j = i\n",
    "                while j * i < n:\n",
    "                    tmp[i * j] = False\n",
    "                    j += 1\n",
    "            i += 1\n",
    "\n",
    "        res = 0\n",
    "        for k in tmp:\n",
    "            if k:\n",
    "                res += 1\n",
    "        return res"
   ]
  },
  {
   "cell_type": "code",
   "execution_count": null,
   "metadata": {},
   "outputs": [],
   "source": []
  },
  {
   "cell_type": "code",
   "execution_count": null,
   "metadata": {},
   "outputs": [],
   "source": [
    "如何判断一个数是否为素数\n",
    "法一 \n",
    "遍历2到（n−1），看是否有数字能整除n。时间复杂度O(n)。\n",
    "法二 \n",
    "遍历2到n‾√，看是否有数字能整除n。时间复杂度O(logn)。\n",
    "法三 \n",
    "大于等于5的素数一定和6的倍数相邻。 \n",
    "若x≥1，...,6x−1,6x,6x+1,6x+2,6x+3,6x+4,6x+5,6(x+1),...，除6x−1和6x+1都一定不是素数（因为都能找到约数）。那么我们就可以以6为步长，只判断6的倍数左右两侧的数，加快速度。\n",
    "\n",
    "class Solution:\n",
    "\"\"\"\n",
    "@param: head: a ListNode\n",
    "@return: a ListNode\n",
    "\"\"\"\n",
    "\n",
    "def isPrime(self, n):\n",
    "    if n is None or n < 2:\n",
    "        return False\n",
    "    if n == 2 or n == 3:\n",
    "        return True\n",
    "    if n % 6 != 1 and n % 6 != 5:\n",
    "        return False\n",
    "    i = 5\n",
    "    while i * i <= n:\n",
    "        if n % i == 0 or n % (i + 2) == 0:\n",
    "            return False\n",
    "        i += 6\n",
    "    return True"
   ]
  },
  {
   "cell_type": "code",
   "execution_count": null,
   "metadata": {},
   "outputs": [],
   "source": []
  }
 ],
 "metadata": {
  "kernelspec": {
   "display_name": "Python 3",
   "language": "python",
   "name": "python3"
  },
  "language_info": {
   "codemirror_mode": {
    "name": "ipython",
    "version": 3
   },
   "file_extension": ".py",
   "mimetype": "text/x-python",
   "name": "python",
   "nbconvert_exporter": "python",
   "pygments_lexer": "ipython3",
   "version": "3.6.3"
  }
 },
 "nbformat": 4,
 "nbformat_minor": 2
}
