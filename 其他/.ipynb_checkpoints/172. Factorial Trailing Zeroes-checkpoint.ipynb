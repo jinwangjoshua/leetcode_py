{
 "cells": [
  {
   "cell_type": "code",
   "execution_count": null,
   "metadata": {},
   "outputs": [],
   "source": [
    "\"\"\"Given an integer n, return the number of trailing zeroes in n!.\n",
    "\n",
    "Example 1:\n",
    "\n",
    "Input: 3\n",
    "Output: 0\n",
    "Explanation: 3! = 6, no trailing zero.\n",
    "Example 2:\n",
    "\n",
    "Input: 5\n",
    "Output: 1\n",
    "Explanation: 5! = 120, one trailing zero.\n",
    "Note: Your solution should be in logarithmic time complexity.\"\"\""
   ]
  },
  {
   "cell_type": "code",
   "execution_count": null,
   "metadata": {},
   "outputs": [],
   "source": [
    "# 朴素解法：\n",
    "# 首先求出n!，然后计算末尾0的个数。（重复÷10，直到余数非0）\n",
    "\n",
    "# 该解法在输入的数字稍大时就会导致阶乘得数溢出，不足取。"
   ]
  },
  {
   "cell_type": "code",
   "execution_count": null,
   "metadata": {},
   "outputs": [],
   "source": [
    "#"
   ]
  },
  {
   "cell_type": "code",
   "execution_count": 4,
   "metadata": {},
   "outputs": [
    {
     "name": "stdout",
     "output_type": "stream",
     "text": [
      "5\n",
      "1\n"
     ]
    },
    {
     "data": {
      "text/plain": [
       "6"
      ]
     },
     "execution_count": 4,
     "metadata": {},
     "output_type": "execute_result"
    }
   ],
   "source": [
    "# 或者有一个2一个5就有一个0，所以就就看有几个2几个5；2肯定数量比5多，那么就看5数量\n",
    "#所以结论是看有多少个因子为5！！！\n",
    "\n",
    "#大佬和我想法一样，但是大佬能够把代码写出来，这就是大佬和我的区别\n",
    "\n",
    "# O（logn）解法：\n",
    "# 一个更聪明的解法是：考虑n!的质数因子。后缀0总是由质因子2和质因子5相乘得来的。如果我们可以计数2和5的个数，问题就解决了。考虑下面的例子：\n",
    "\n",
    "# n = 5: 5!的质因子中 (2 * 2 * 2 * 3 * 5)包含一个5和三个2。因而后缀0的个数是1。\n",
    "\n",
    "# n = 11: 11!的质因子中(2^8 * 3^4 * 5^2 * 7)包含两个5和三个2。于是后缀0的个数就是2。\n",
    "\n",
    "# 我们很容易观察到质因子中2的个数总是大于等于5的个数。因此只要计数5的个数就可以了。\n",
    "# 那么怎样计算n!的质因子中所有5的个数呢？一个简单的方法是计算floor(n/5)。\n",
    "# 例如，7!有一个5，10!有两个5。除此之外，还有一件事情要考虑。诸如25，125之类的数字有不止一个5。\n",
    "# 例如，如果我们考虑28!，我们得到一个额外的5，并且0的总数变成了6。\n",
    "# 处理这个问题也很简单，首先对n÷5，移除所有的单个5，然后÷25，移除额外的5，以此类推。下面是归纳出的计算后缀0的公式。\n",
    "\n",
    "\n",
    "#先撸一遍所有5的倍数，25倍数已经被撸过一遍，所以再来一遍刚好；以此类推再撸一遍125的倍数\n",
    "class Solution:\n",
    "    def trailingZeroes(self, n):\n",
    "        \"\"\"\n",
    "        :type n: int\n",
    "        :rtype: int\n",
    "        \"\"\"\n",
    "        x = 5\n",
    "        ans = 0\n",
    "        while n >= x:\n",
    "            ans += int(n / x)\n",
    "            print(int(n/x))\n",
    "            x *= 5\n",
    "        return ans\n",
    "            \n",
    "Solution().trailingZeroes(28)       "
   ]
  },
  {
   "cell_type": "code",
   "execution_count": 5,
   "metadata": {},
   "outputs": [
    {
     "ename": "SyntaxError",
     "evalue": "invalid syntax (<ipython-input-5-f346360de421>, line 5)",
     "output_type": "error",
     "traceback": [
      "\u001b[0;36m  File \u001b[0;32m\"<ipython-input-5-f346360de421>\"\u001b[0;36m, line \u001b[0;32m5\u001b[0m\n\u001b[0;31m    wihle n >= x:\u001b[0m\n\u001b[0m          ^\u001b[0m\n\u001b[0;31mSyntaxError\u001b[0m\u001b[0;31m:\u001b[0m invalid syntax\n"
     ]
    }
   ],
   "source": [
    "class Solution:\n",
    "    def trailingZeroes(self, n):\n",
    "        x = 5\n",
    "        ans = 0\n",
    "        while n >= x:\n",
    "            ans += int(n/x)\n",
    "            x *= 5\n",
    "        return ans"
   ]
  },
  {
   "cell_type": "code",
   "execution_count": null,
   "metadata": {},
   "outputs": [],
   "source": []
  },
  {
   "cell_type": "code",
   "execution_count": null,
   "metadata": {},
   "outputs": [],
   "source": []
  },
  {
   "cell_type": "code",
   "execution_count": null,
   "metadata": {},
   "outputs": [],
   "source": []
  },
  {
   "cell_type": "code",
   "execution_count": null,
   "metadata": {},
   "outputs": [],
   "source": []
  },
  {
   "cell_type": "code",
   "execution_count": null,
   "metadata": {},
   "outputs": [],
   "source": []
  }
 ],
 "metadata": {
  "kernelspec": {
   "display_name": "Python 3",
   "language": "python",
   "name": "python3"
  },
  "language_info": {
   "codemirror_mode": {
    "name": "ipython",
    "version": 3
   },
   "file_extension": ".py",
   "mimetype": "text/x-python",
   "name": "python",
   "nbconvert_exporter": "python",
   "pygments_lexer": "ipython3",
   "version": "3.6.3"
  }
 },
 "nbformat": 4,
 "nbformat_minor": 2
}
