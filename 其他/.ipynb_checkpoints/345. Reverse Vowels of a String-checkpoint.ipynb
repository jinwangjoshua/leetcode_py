{
 "cells": [
  {
   "cell_type": "code",
   "execution_count": null,
   "metadata": {},
   "outputs": [],
   "source": [
    "\"\"\"Write a function that takes a string as input and reverse only the vowels of a string.\n",
    "\n",
    "Example 1:\n",
    "Given s = \"hello\", return \"holle\".\n",
    "\n",
    "Example 2:\n",
    "Given s = \"leetcode\", return \"leotcede\".\n",
    "\n",
    "Note:\n",
    "The vowels does not include the letter \"y\".\"\"\""
   ]
  },
  {
   "cell_type": "code",
   "execution_count": null,
   "metadata": {},
   "outputs": [],
   "source": [
    "# 解题思路：\n",
    "# 双指针法（Two Pointers）\n",
    "\n",
    "# Python代码：\n",
    "class Solution(object):\n",
    "    def reverseVowels(self, s):\n",
    "        \"\"\"\n",
    "        :type s: str\n",
    "        :rtype: str\n",
    "        \"\"\"\n",
    "        VOWELS = ('a', 'e', 'i', 'o', 'u')\n",
    "        size = len(s)\n",
    "        left, right = 0, size - 1\n",
    "        ls = list(s)\n",
    "        while True:\n",
    "            while left < size and s[left].lower() not in VOWELS:   #跳过非vowel\n",
    "                left += 1\n",
    "            while right >= 0 and s[right].lower() not in VOWELS:\n",
    "                right -= 1\n",
    "            if left >= right: break\n",
    "            ls[left], ls[right] = ls[right], ls[left]\n",
    "            left, right = left + 1, right - 1\n",
    "        return ''.join(ls)"
   ]
  },
  {
   "cell_type": "code",
   "execution_count": null,
   "metadata": {},
   "outputs": [],
   "source": []
  },
  {
   "cell_type": "code",
   "execution_count": null,
   "metadata": {},
   "outputs": [],
   "source": []
  },
  {
   "cell_type": "code",
   "execution_count": null,
   "metadata": {},
   "outputs": [],
   "source": []
  },
  {
   "cell_type": "code",
   "execution_count": null,
   "metadata": {},
   "outputs": [],
   "source": []
  }
 ],
 "metadata": {
  "kernelspec": {
   "display_name": "Python 3",
   "language": "python",
   "name": "python3"
  },
  "language_info": {
   "codemirror_mode": {
    "name": "ipython",
    "version": 3
   },
   "file_extension": ".py",
   "mimetype": "text/x-python",
   "name": "python",
   "nbconvert_exporter": "python",
   "pygments_lexer": "ipython3",
   "version": "3.6.3"
  }
 },
 "nbformat": 4,
 "nbformat_minor": 2
}
