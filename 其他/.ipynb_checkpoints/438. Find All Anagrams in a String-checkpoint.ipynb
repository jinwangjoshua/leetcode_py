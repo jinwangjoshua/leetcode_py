{
 "cells": [
  {
   "cell_type": "code",
   "execution_count": null,
   "metadata": {},
   "outputs": [],
   "source": [
    "\"\"\"Given a string s and a non-empty string p, find all the start indices of p's anagrams in s.\n",
    "\n",
    "Strings consists of lowercase English letters only and the length of both strings s and p will not be larger than 20,100.\n",
    "\n",
    "The order of output does not matter.\n",
    "\n",
    "Example 1:\n",
    "\n",
    "Input:\n",
    "s: \"cbaebabacd\" p: \"abc\"\n",
    "\n",
    "Output:\n",
    "[0, 6]\n",
    "\n",
    "Explanation:\n",
    "The substring with start index = 0 is \"cba\", which is an anagram of \"abc\".\n",
    "The substring with start index = 6 is \"bac\", which is an anagram of \"abc\".\n",
    "Example 2:\n",
    "\n",
    "Input:\n",
    "s: \"abab\" p: \"ab\"\n",
    "\n",
    "Output:\n",
    "[0, 1, 2]\n",
    "\n",
    "Explanation:\n",
    "The substring with start index = 0 is \"ab\", which is an anagram of \"ab\".\n",
    "The substring with start index = 1 is \"ba\", which is an anagram of \"ab\".\n",
    "The substring with start index = 2 is \"ab\", which is an anagram of \"ab\".\n",
    "\n",
    "单词的字谜变换（anagram）是指与其字母个数相同只是顺序不同的单词\n",
    "\n",
    "\"\"\""
   ]
  },
  {
   "cell_type": "code",
   "execution_count": 13,
   "metadata": {},
   "outputs": [
    {
     "data": {
      "text/plain": [
       "[0, 6]"
      ]
     },
     "execution_count": 13,
     "metadata": {},
     "output_type": "execute_result"
    }
   ],
   "source": [
    "#这个是借用了一些外部空间，在时间上比我的省了很多。我是s*p他这个是p\n",
    "#\n",
    "import collections\n",
    "class Solution(object):\n",
    "    def findAnagrams(self, s, p):\n",
    "        \"\"\"\n",
    "        :type s: str\n",
    "        :type p: str\n",
    "        :rtype: List[int]\n",
    "        \"\"\"\n",
    "        ls, lp = len(s), len(p)\n",
    "        cp = collections.Counter(p)\n",
    "        cs = collections.Counter()\n",
    "        ans = []\n",
    "        for i in range(ls):\n",
    "            cs[s[i]] += 1\n",
    "            if i >= lp:\n",
    "                cs[s[i - lp]] -= 1\n",
    "                if cs[s[i - lp]] == 0:\n",
    "                    del cs[s[i - lp]]\n",
    "            if cs == cp:\n",
    "                ans.append(i - lp + 1)\n",
    "        return ans\n",
    "Solution().findAnagrams(\"cbaebabacd\", \"abc\")"
   ]
  },
  {
   "cell_type": "code",
   "execution_count": null,
   "metadata": {},
   "outputs": [],
   "source": [
    "from collections import Counterter()\n",
    "class Solution:\n",
    "    def findAnagram(self, s, p):\n",
    "        ls, lp = len(s), len(p)\n",
    "        cp = Counter(p)\n",
    "        cs = Counter()\n",
    "        ans = []\n",
    "        for i in range(ls):\n",
    "            cs[s[i]] += 1\n",
    "            if i >= lp:\n",
    "                cs[s[i-lp]] -= 1\n",
    "                if cs[s[i-lp]] == 0:\n",
    "                    del cs[s[i-lp]]\n",
    "            if cs == cp:\n",
    "                ans.append(i-lp+1)\n",
    "        return ans"
   ]
  },
  {
   "cell_type": "code",
   "execution_count": 12,
   "metadata": {},
   "outputs": [
    {
     "name": "stdout",
     "output_type": "stream",
     "text": [
      "Counter({'a': 1, 'b': 1, 'c': 1})\n",
      "Counter({'a': 1, 'b': 1, 'c': 0})\n",
      "Counter({'a': 1, 'b': 0, 'c': 0})\n",
      "Counter({'a': 0, 'b': 0, 'c': 0})\n",
      "Counter({'c': 1, 'a': 0, 'b': 0, 'e': -1})\n",
      "Counter({'c': 1, 'a': 0, 'b': 0, 'e': -1})\n",
      "Counter({'c': 1, 'a': 0, 'b': 0, 'e': -1})\n",
      "Counter({'c': 1, 'a': 0, 'e': 0, 'b': -1})\n",
      "Counter({'c': 1, 'b': 0, 'e': 0, 'a': -1})\n",
      "Counter({'a': 0, 'b': 0, 'c': 0, 'e': 0})\n"
     ]
    },
    {
     "data": {
      "text/plain": [
       "[0, 6]"
      ]
     },
     "execution_count": 12,
     "metadata": {},
     "output_type": "execute_result"
    }
   ],
   "source": [
    "#这个不太清晰，就看上面那个清晰一些\n",
    "class Solution(object):\n",
    "    def findAnagrams(self, s, p):\n",
    "        \"\"\"\n",
    "        :type s: str\n",
    "        :type p: str\n",
    "        :rtype: List[int]\n",
    "        \"\"\"\n",
    "        ls, lp = len(s), len(p)\n",
    "        count = lp\n",
    "        cp = collections.Counter(p)\n",
    "        ans = []\n",
    "        for i in range(ls):\n",
    "            print(cp)   #原来可以自我膨胀\n",
    "            if cp[s[i]] >=1 :\n",
    "                count -= 1\n",
    "            cp[s[i]] -= 1\n",
    "            if i >= lp:\n",
    "                if cp[s[i - lp]] >= 0:\n",
    "                    count += 1\n",
    "                cp[s[i - lp]] += 1\n",
    "            if count == 0:\n",
    "                ans.append(i - lp + 1)\n",
    "        return ans\n",
    "Solution().findAnagrams(\"cbaebabacd\", \"abc\")"
   ]
  },
  {
   "cell_type": "code",
   "execution_count": null,
   "metadata": {},
   "outputs": [],
   "source": [
    "#我的暴力方法超时了\n",
    "\n",
    "from collections import Counter\n",
    "class Solution(object):\n",
    "    def findAnagrams(self, s, p):\n",
    "        \"\"\"\n",
    "        :type s: str\n",
    "        :type p: str\n",
    "        :rtype: List[int]\n",
    "        \"\"\"\n",
    "        ans = []\n",
    "        ls = len(s)\n",
    "        lp = len(p)\n",
    "        for i in range(ls-lp+1):\n",
    "            for j in range(lp):\n",
    "                if set(s[i:i+lp]) == set(p) and Counter(s[i:i+lp]) == Counter(p):\n",
    "                    ans.append(i)\n",
    "                    break\n",
    "        return ans"
   ]
  },
  {
   "cell_type": "code",
   "execution_count": null,
   "metadata": {},
   "outputs": [],
   "source": []
  },
  {
   "cell_type": "code",
   "execution_count": null,
   "metadata": {},
   "outputs": [],
   "source": []
  },
  {
   "cell_type": "code",
   "execution_count": null,
   "metadata": {},
   "outputs": [],
   "source": []
  },
  {
   "cell_type": "code",
   "execution_count": null,
   "metadata": {},
   "outputs": [],
   "source": []
  },
  {
   "cell_type": "code",
   "execution_count": null,
   "metadata": {},
   "outputs": [],
   "source": []
  }
 ],
 "metadata": {
  "kernelspec": {
   "display_name": "Python 3",
   "language": "python",
   "name": "python3"
  },
  "language_info": {
   "codemirror_mode": {
    "name": "ipython",
    "version": 3
   },
   "file_extension": ".py",
   "mimetype": "text/x-python",
   "name": "python",
   "nbconvert_exporter": "python",
   "pygments_lexer": "ipython3",
   "version": "3.6.3"
  }
 },
 "nbformat": 4,
 "nbformat_minor": 2
}
