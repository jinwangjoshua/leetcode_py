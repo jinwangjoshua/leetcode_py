{
 "cells": [
  {
   "cell_type": "code",
   "execution_count": null,
   "metadata": {},
   "outputs": [],
   "source": [
    "\"\"\"Given a binary search tree with non-negative values, find the minimum absolute difference between values of any two nodes.\n",
    "\n",
    "Example:\n",
    "\n",
    "Input:\n",
    "\n",
    "   1\n",
    "    \\\n",
    "     3\n",
    "    /\n",
    "   2\n",
    "\n",
    "Output:\n",
    "1\n",
    "\n",
    "Explanation:\n",
    "The minimum absolute difference is 1, which is the difference between 2 and 1 (or between 2 and 3).\n",
    "Note: There are at least two nodes in this BST.\n",
    "\n",
    "\"\"\""
   ]
  },
  {
   "cell_type": "code",
   "execution_count": null,
   "metadata": {},
   "outputs": [],
   "source": [
    "# 中序遍历将BST中的节点按照递增顺序输出\n",
    "\n",
    "# Python代码：\n",
    "\n",
    "# Definition for a binary tree node.\n",
    "# class TreeNode(object):\n",
    "#     def __init__(self, x):\n",
    "#         self.val = x\n",
    "#         self.left = None\n",
    "#         self.right = None\n",
    "\n",
    "class Solution(object):\n",
    "    def getMinimumDifference(self, root):\n",
    "        \"\"\"\n",
    "        :type root: TreeNode\n",
    "        :rtype: int\n",
    "        \"\"\"\n",
    "        self.last = -0x80000000\n",
    "        self.ans = 0x7FFFFFFF\n",
    "        def inOrderTraverse(root):\n",
    "            if not root: \n",
    "                return\n",
    "            inOrderTraverse(root.left)\n",
    "            self.ans = min(self.ans, root.val - self.last)\n",
    "            self.last = root.val\n",
    "            inOrderTraverse(root.right)\n",
    "        inOrderTraverse(root)\n",
    "        return self.ans"
   ]
  },
  {
   "cell_type": "code",
   "execution_count": null,
   "metadata": {},
   "outputs": [],
   "source": [
    "# 解法II 递归\n",
    "\n",
    "# 对于BST中的某节点N：\n",
    "\n",
    "# 大于N的最小节点为其右孩子的“极左节点”\n",
    "\n",
    "# 小于N的最大节点为其左孩子的“极右节点”\n",
    "# 然后递归取最小值\n",
    "\n",
    "# Python代码：\n",
    "# Definition for a binary tree node.\n",
    "# class TreeNode(object):\n",
    "#     def __init__(self, x):\n",
    "#         self.val = x\n",
    "#         self.left = None\n",
    "#         self.right = None\n",
    "\n",
    "class Solution(object):\n",
    "    def getMinimumDifference(self, root):\n",
    "        \"\"\"\n",
    "        :type root: TreeNode\n",
    "        :rtype: int\n",
    "        \"\"\"\n",
    "        left, right = root.left, root.right\n",
    "        ans = 0x7FFFFFFF\n",
    "        if left:\n",
    "            while left.right: \n",
    "                left = left.right\n",
    "            ans = min(root.val - left.val, self.getMinimumDifference(root.left))\n",
    "        if right:\n",
    "            while right.left: \n",
    "                right = right.left\n",
    "            ans = min(ans, right.val - root.val, self.getMinimumDifference(root.right))\n",
    "        return ans"
   ]
  },
  {
   "cell_type": "code",
   "execution_count": null,
   "metadata": {},
   "outputs": [],
   "source": []
  },
  {
   "cell_type": "code",
   "execution_count": null,
   "metadata": {},
   "outputs": [],
   "source": []
  },
  {
   "cell_type": "code",
   "execution_count": null,
   "metadata": {},
   "outputs": [],
   "source": []
  },
  {
   "cell_type": "code",
   "execution_count": null,
   "metadata": {},
   "outputs": [],
   "source": []
  },
  {
   "cell_type": "code",
   "execution_count": null,
   "metadata": {},
   "outputs": [],
   "source": []
  }
 ],
 "metadata": {
  "kernelspec": {
   "display_name": "Python 3",
   "language": "python",
   "name": "python3"
  },
  "language_info": {
   "codemirror_mode": {
    "name": "ipython",
    "version": 3
   },
   "file_extension": ".py",
   "mimetype": "text/x-python",
   "name": "python",
   "nbconvert_exporter": "python",
   "pygments_lexer": "ipython3",
   "version": "3.6.3"
  }
 },
 "nbformat": 4,
 "nbformat_minor": 2
}
