{
 "cells": [
  {
   "cell_type": "code",
   "execution_count": null,
   "metadata": {},
   "outputs": [],
   "source": [
    "\"\"\"Given a binary search tree (BST), find the lowest common ancestor (LCA) of two given nodes in the BST.\n",
    "\n",
    "According to the definition of LCA on Wikipedia: “The lowest common ancestor is defined between two nodes p and q as the lowest node in T that has both p and q as descendants (where we allow a node to be a descendant of itself).”\n",
    "\n",
    "Given binary search tree:  root = [6,2,8,0,4,7,9,null,null,3,5]\n",
    "\n",
    "        _______6______\n",
    "       /              \\\n",
    "    ___2__          ___8__\n",
    "   /      \\        /      \\\n",
    "   0      _4       7       9\n",
    "         /  \\\n",
    "         3   5\n",
    "Example 1:\n",
    "\n",
    "Input: root = [6,2,8,0,4,7,9,null,null,3,5], p = 2, q = 8\n",
    "Output: 6\n",
    "Explanation: The LCA of nodes 2 and 8 is 6.\n",
    "Example 2:\n",
    "\n",
    "Input: root = [6,2,8,0,4,7,9,null,null,3,5], p = 2, q = 4\n",
    "Output: 2\n",
    "Explanation: The LCA of nodes 2 and 4 is 2, since a node can be a descendant of itself \n",
    "             according to the LCA definition.\n",
    "Note:\n",
    "\n",
    "All of the nodes' values will be unique.\n",
    "p and q are different and both values will exist in the BST.\"\"\""
   ]
  },
  {
   "cell_type": "code",
   "execution_count": 1,
   "metadata": {},
   "outputs": [],
   "source": [
    "# 解题思路：\n",
    "# 根据BST的性质，左子树节点的值＜根节点的值，右子树节点的值＞根节点的值\n",
    "\n",
    "# 记当前节点为node，从根节点root出发\n",
    "\n",
    "# 若p与q分别位于node的两侧，或其中之一的值与node相同，则node为LCA\n",
    "\n",
    "# 否则，若p的值＜node的值，则LCA位于node的左子树\n",
    "\n",
    "# 否则，LCA位于node的右子树\n",
    "# Python代码：\n",
    "# 迭代版本\n",
    "\n",
    "# Definition for a binary tree node.\n",
    "# class TreeNode:\n",
    "#     def __init__(self, x):\n",
    "#         self.val = x\n",
    "#         self.left = None\n",
    "#         self.right = None\n",
    "\n",
    "class Solution:\n",
    "    # @param {TreeNode} root\n",
    "    # @param {TreeNode} p\n",
    "    # @param {TreeNode} q\n",
    "    # @return {TreeNode}\n",
    "    def lowestCommonAncestor(self, root, p, q):\n",
    "        while (p.val - root.val) * (q.val - root.val) > 0:   #如果同号：表示在一边\n",
    "            root = [root.left, root.right][p.val > root.val]\n",
    "        return root"
   ]
  },
  {
   "cell_type": "code",
   "execution_count": 2,
   "metadata": {},
   "outputs": [],
   "source": [
    "# 递归版本\n",
    "\n",
    "# Definition for a binary tree node.\n",
    "# class TreeNode:\n",
    "#     def __init__(self, x):\n",
    "#         self.val = x\n",
    "#         self.left = None\n",
    "#         self.right = None\n",
    "\n",
    "class Solution:\n",
    "    # @param {TreeNode} root\n",
    "    # @param {TreeNode} p\n",
    "    # @param {TreeNode} q\n",
    "    # @return {TreeNode}\n",
    "    def lowestCommonAncestor(self, root, p, q):\n",
    "        if (p.val - root.val) * (q.val - root.val) <= 0:\n",
    "            return root\n",
    "        elif q.val < root.val:\n",
    "            return self.lowestCommonAncestor(root.left, p, q)\n",
    "        else:\n",
    "            return self.lowestCommonAncestor(root.right, p, q)"
   ]
  },
  {
   "cell_type": "code",
   "execution_count": null,
   "metadata": {},
   "outputs": [],
   "source": [
    "class Solution:\n",
    "    def lowestCommonAncestor(self, root, p, q):\n",
    "        if (p.val - root.val) * (q.val - root.val) <= 0:\n",
    "            return root\n",
    "        elif q.val < root.val:\n",
    "            return self.lowCommonAncestor(root.left, p, q)\n",
    "        else:\n",
    "            return self.lowCommonAncestor(root.right, p, q)"
   ]
  },
  {
   "cell_type": "code",
   "execution_count": null,
   "metadata": {},
   "outputs": [],
   "source": []
  },
  {
   "cell_type": "code",
   "execution_count": null,
   "metadata": {},
   "outputs": [],
   "source": []
  },
  {
   "cell_type": "code",
   "execution_count": null,
   "metadata": {},
   "outputs": [],
   "source": []
  },
  {
   "cell_type": "code",
   "execution_count": null,
   "metadata": {},
   "outputs": [],
   "source": []
  }
 ],
 "metadata": {
  "kernelspec": {
   "display_name": "Python 3",
   "language": "python",
   "name": "python3"
  },
  "language_info": {
   "codemirror_mode": {
    "name": "ipython",
    "version": 3
   },
   "file_extension": ".py",
   "mimetype": "text/x-python",
   "name": "python",
   "nbconvert_exporter": "python",
   "pygments_lexer": "ipython3",
   "version": "3.6.3"
  }
 },
 "nbformat": 4,
 "nbformat_minor": 2
}
