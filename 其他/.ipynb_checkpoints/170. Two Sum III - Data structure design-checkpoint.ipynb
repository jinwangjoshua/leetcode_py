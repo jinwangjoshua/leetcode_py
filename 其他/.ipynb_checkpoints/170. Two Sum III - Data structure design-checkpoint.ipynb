{
 "cells": [
  {
   "cell_type": "code",
   "execution_count": null,
   "metadata": {},
   "outputs": [],
   "source": [
    "\"\"\"Design and implement a TwoSum class. It should support the following operations: add and find.\n",
    "\n",
    "add - Add the number to an internal data structure.\n",
    "find - Find if there exists any pair of numbers which sum is equal to the value.\n",
    "\n",
    "Example 1:\n",
    "\n",
    "add(1); add(3); add(5);\n",
    "find(4) -> true\n",
    "find(7) -> false\n",
    "Example 2:\n",
    "\n",
    "add(3); add(1); add(2);\n",
    "find(3) -> true\n",
    "find(6) -> false\"\"\""
   ]
  },
  {
   "cell_type": "code",
   "execution_count": null,
   "metadata": {},
   "outputs": [],
   "source": [
    "class TwoSum(object):\n",
    "    def __init__(self):\n",
    "        # initialize your data structure here\n",
    "        self.count = {}\n",
    "\n",
    "    # Add the number to an internal data structure.\n",
    "    # @param number {int}\n",
    "    # @return nothing\n",
    "    def add(self, number):\n",
    "        # Write your code here\n",
    "        if number in self.count:\n",
    "            self.count[number] += 1\n",
    "        else:\n",
    "            self.count[number] = 1\n",
    "    # Find if there exists any pair of numbers which sum is equal to the value.\n",
    "    # @param value {int}\n",
    "    # @return true if can be found or false\n",
    "    def find(self, value):\n",
    "        # Write your code here\n",
    "        for num in self.count:\n",
    "            if value - num in self.count and (value - num != num or self.count[num] > 1):\n",
    "                return True\n",
    "        return False"
   ]
  },
  {
   "cell_type": "code",
   "execution_count": null,
   "metadata": {},
   "outputs": [],
   "source": []
  },
  {
   "cell_type": "code",
   "execution_count": null,
   "metadata": {},
   "outputs": [],
   "source": []
  },
  {
   "cell_type": "code",
   "execution_count": null,
   "metadata": {},
   "outputs": [],
   "source": []
  },
  {
   "cell_type": "code",
   "execution_count": null,
   "metadata": {},
   "outputs": [],
   "source": []
  },
  {
   "cell_type": "code",
   "execution_count": null,
   "metadata": {},
   "outputs": [],
   "source": []
  },
  {
   "cell_type": "code",
   "execution_count": null,
   "metadata": {},
   "outputs": [],
   "source": []
  }
 ],
 "metadata": {
  "kernelspec": {
   "display_name": "Python 3",
   "language": "python",
   "name": "python3"
  },
  "language_info": {
   "codemirror_mode": {
    "name": "ipython",
    "version": 3
   },
   "file_extension": ".py",
   "mimetype": "text/x-python",
   "name": "python",
   "nbconvert_exporter": "python",
   "pygments_lexer": "ipython3",
   "version": "3.6.3"
  }
 },
 "nbformat": 4,
 "nbformat_minor": 2
}
