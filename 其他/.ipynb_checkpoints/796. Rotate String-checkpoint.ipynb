{
 "cells": [
  {
   "cell_type": "code",
   "execution_count": null,
   "metadata": {},
   "outputs": [],
   "source": [
    "\"\"\"We are given two strings, A and B.\n",
    "\n",
    "A shift on A consists of taking string A and moving the leftmost character to the rightmost position. For example, if A = 'abcde', then it will be 'bcdea' after one shift on A. Return True if and only if A can become B after some number of shifts on A.\n",
    "\n",
    "Example 1:\n",
    "Input: A = 'abcde', B = 'cdeab'\n",
    "Output: true\n",
    "\n",
    "Example 2:\n",
    "Input: A = 'abcde', B = 'abced'\n",
    "Output: false\n",
    "Note:\n",
    "\n",
    "A and B will have length at most 100.\"\"\""
   ]
  },
  {
   "cell_type": "code",
   "execution_count": 11,
   "metadata": {},
   "outputs": [
    {
     "data": {
      "text/plain": [
       "True"
      ]
     },
     "execution_count": 11,
     "metadata": {},
     "output_type": "execute_result"
    }
   ],
   "source": [
    "#模拟过程，一个动一个不动\n",
    "\n",
    "class Solution:\n",
    "    def rotateString(self, A, B):\n",
    "        \"\"\"\n",
    "        :type A: str\n",
    "        :type B: str\n",
    "        :rtype: bool\n",
    "        \"\"\"\n",
    "        if not A and not B:\n",
    "            return True\n",
    "\n",
    "        for i in range(len(A)):\n",
    "            if A == B:\n",
    "                return True\n",
    "            A = A[1:] + A[0]\n",
    "            \n",
    "        return False\n",
    "        \n",
    "Solution().rotateString('abcde', 'cdeab')"
   ]
  },
  {
   "cell_type": "code",
   "execution_count": null,
   "metadata": {},
   "outputs": [],
   "source": [
    "#同样是暴力方法，人家就很漂亮\n",
    "class Solution(object):\n",
    "    def rotateString(self, A, B):\n",
    "        \"\"\"\n",
    "        :type A: str\n",
    "        :type B: str\n",
    "        :rtype: bool\n",
    "        \"\"\"\n",
    "        return any(A[x:] + A[:x] == B for x in range(len(A)))"
   ]
  },
  {
   "cell_type": "code",
   "execution_count": null,
   "metadata": {},
   "outputs": [],
   "source": []
  },
  {
   "cell_type": "code",
   "execution_count": null,
   "metadata": {},
   "outputs": [],
   "source": []
  },
  {
   "cell_type": "code",
   "execution_count": null,
   "metadata": {},
   "outputs": [],
   "source": []
  },
  {
   "cell_type": "code",
   "execution_count": null,
   "metadata": {},
   "outputs": [],
   "source": []
  }
 ],
 "metadata": {
  "kernelspec": {
   "display_name": "Python 3",
   "language": "python",
   "name": "python3"
  },
  "language_info": {
   "codemirror_mode": {
    "name": "ipython",
    "version": 3
   },
   "file_extension": ".py",
   "mimetype": "text/x-python",
   "name": "python",
   "nbconvert_exporter": "python",
   "pygments_lexer": "ipython3",
   "version": "3.6.3"
  }
 },
 "nbformat": 4,
 "nbformat_minor": 2
}
