{
 "cells": [
  {
   "cell_type": "code",
   "execution_count": null,
   "metadata": {},
   "outputs": [],
   "source": [
    "\"\"\"Given a positive integer, output its complement number. The complement strategy is to flip the bits of its binary representation.\n",
    "\n",
    "Note:\n",
    "The given integer is guaranteed to fit within the range of a 32-bit signed integer.\n",
    "You could assume no leading zero bit in the integer’s binary representation.\n",
    "Example 1:\n",
    "Input: 5\n",
    "Output: 2\n",
    "Explanation: The binary representation of 5 is 101 (no leading zero bits), and its complement is 010. So you need to output 2.\n",
    "Example 2:\n",
    "Input: 1\n",
    "Output: 0\n",
    "Explanation: The binary representation of 1 is 1 (no leading zero bits), and its complement is 0. So you need to output 0.\n",
    "\"\"\""
   ]
  },
  {
   "cell_type": "code",
   "execution_count": null,
   "metadata": {},
   "outputs": [],
   "source": [
    "#我的办法，全部变成字符串操作\n",
    "\n",
    "class Solution:\n",
    "    def findComplement(self, num):\n",
    "        \"\"\"\n",
    "        :type num: int\n",
    "        :rtype: int\n",
    "        \"\"\"\n",
    "        if num<0:\n",
    "            return None\n",
    "        \n",
    "        bnum = bin(num)[2:]\n",
    "        \n",
    "        res = []\n",
    "        for x in bnum:\n",
    "            if x == '0':\n",
    "                res.append('1')\n",
    "            else:\n",
    "                res.append('0')\n",
    "        ans=''.join(s for s in res)\n",
    "        \n",
    "        return int(ans, 2)\n",
    "    \n",
    "    \n",
    "\n",
    "    \n",
    "# 解法II 按位取反并累加\n",
    "\n",
    "\n",
    "class Solution(object):\n",
    "    def findComplement(self, num):\n",
    "        \"\"\"\n",
    "        :type num: int\n",
    "        :rtype: int\n",
    "        \"\"\"\n",
    "        return int(''.join(str(1 - int(x)) for x in bin(num)[2:]), 2)   #同样的思路，人家写的就好看"
   ]
  },
  {
   "cell_type": "code",
   "execution_count": 3,
   "metadata": {},
   "outputs": [],
   "source": [
    "# 题目大意：\n",
    "# 给定一个正整数，输出其补数。补充策略就是按二进制位反转。\n",
    "\n",
    "# 注意：\n",
    "\n",
    "# 给定正数确保是32位带符号整数。\n",
    "# 可以假设整数的二进制表示不包含前导0。\n",
    "# 解题思路：\n",
    "# 解法I 位运算（异或）\n",
    "\n",
    "\n",
    "class Solution(object):\n",
    "    def findComplement(self, num):\n",
    "        \"\"\"\n",
    "        :type num: int\n",
    "        :rtype: int\n",
    "        \"\"\"\n",
    "        mask = (1 << 1 + int(math.log(num, 2))) - 1\n",
    "        return mask ^ num\n",
    "\n",
    "    "
   ]
  },
  {
   "cell_type": "code",
   "execution_count": null,
   "metadata": {},
   "outputs": [],
   "source": []
  },
  {
   "cell_type": "code",
   "execution_count": null,
   "metadata": {},
   "outputs": [],
   "source": []
  },
  {
   "cell_type": "code",
   "execution_count": null,
   "metadata": {},
   "outputs": [],
   "source": []
  },
  {
   "cell_type": "code",
   "execution_count": null,
   "metadata": {},
   "outputs": [],
   "source": []
  },
  {
   "cell_type": "code",
   "execution_count": null,
   "metadata": {},
   "outputs": [],
   "source": []
  }
 ],
 "metadata": {
  "kernelspec": {
   "display_name": "Python 3",
   "language": "python",
   "name": "python3"
  },
  "language_info": {
   "codemirror_mode": {
    "name": "ipython",
    "version": 3
   },
   "file_extension": ".py",
   "mimetype": "text/x-python",
   "name": "python",
   "nbconvert_exporter": "python",
   "pygments_lexer": "ipython3",
   "version": "3.6.3"
  }
 },
 "nbformat": 4,
 "nbformat_minor": 2
}
