{
 "cells": [
  {
   "cell_type": "code",
   "execution_count": null,
   "metadata": {},
   "outputs": [],
   "source": [
    "\"\"\"Given a non-empty binary search tree and a target value, find the value in the BST that is closest to the target.\n",
    "\n",
    "Note:\n",
    "\n",
    "Given target value is a floating point.\n",
    "You are guaranteed to have only one unique value in the BST that is closest to the target.\n",
    "Example:\n",
    "\n",
    "Input: root = [4,2,5,1,3], target = 3.714286\n",
    "\n",
    "    4\n",
    "   / \\\n",
    "  2   5\n",
    " / \\\n",
    "1   3\n",
    "\n",
    "Output: 4\"\"\""
   ]
  },
  {
   "cell_type": "code",
   "execution_count": 1,
   "metadata": {},
   "outputs": [],
   "source": [
    "# 算法很简单，求出 lowerBound 和 upperBound。即 < target 的最大值和 >= target 的最小值。\n",
    "# 然后在两者之中去比较谁更接近，然后返回即可。"
   ]
  },
  {
   "cell_type": "code",
   "execution_count": 10,
   "metadata": {},
   "outputs": [],
   "source": [
    "class Solution:\n",
    "    \"\"\"\n",
    "    @param root: the given BST\n",
    "    @param target: the given target\n",
    "    @return: the value in the BST that is closest to the target\n",
    "    \"\"\"\n",
    "    def closestValue(self, root, target):\n",
    "        # write your code here\n",
    "        if not root:\n",
    "            return None\n",
    "        \n",
    "        if target < root.val:\n",
    "            if root.left is not None:\n",
    "                left = self.closestValue(root.left, target)\n",
    "                if abs(left - target) < abs(root.val - target):\n",
    "                    return left\n",
    "                \n",
    "        if target > root.val:\n",
    "            if root.right is not None:\n",
    "                right = self.closestValue(root.right, target)\n",
    "                if abs(right - target) < abs(root.val - target):\n",
    "                    return right\n",
    "                \n",
    "        return root.val"
   ]
  },
  {
   "cell_type": "code",
   "execution_count": null,
   "metadata": {},
   "outputs": [],
   "source": [
    "class Solution(object):\n",
    "    def closestValue(self, root, target):\n",
    "        if not root:\n",
    "            return None\n",
    "        if target < root.val:\n",
    "            if root.left is not None:\n",
    "                left = self.closestValue(root.left, target)\n",
    "                if abs(left-target)<abs(root.val-target):\n",
    "                    return left\n",
    "        if target > root.val:\n",
    "            if root.right is not None:\n",
    "                right = self.closestValue(root.right, target)\n",
    "                if abs(right-target)<abs(root.val-target):\n",
    "                    return right\n",
    "        return root.val\n",
    "                "
   ]
  },
  {
   "cell_type": "code",
   "execution_count": null,
   "metadata": {},
   "outputs": [],
   "source": []
  },
  {
   "cell_type": "code",
   "execution_count": 11,
   "metadata": {},
   "outputs": [],
   "source": [
    "class Solution(object):\n",
    "    def closestValue(self, root, target):\n",
    "        a = root.val\n",
    "        kid = root.left if target < a else root.right\n",
    "        if not kid: return a\n",
    "        b = self.closestValue(kid, target)\n",
    "        return min((b, a), key=lambda x: abs(target - x))"
   ]
  },
  {
   "cell_type": "code",
   "execution_count": null,
   "metadata": {},
   "outputs": [],
   "source": []
  },
  {
   "cell_type": "code",
   "execution_count": null,
   "metadata": {},
   "outputs": [],
   "source": []
  }
 ],
 "metadata": {
  "kernelspec": {
   "display_name": "Python 3",
   "language": "python",
   "name": "python3"
  },
  "language_info": {
   "codemirror_mode": {
    "name": "ipython",
    "version": 3
   },
   "file_extension": ".py",
   "mimetype": "text/x-python",
   "name": "python",
   "nbconvert_exporter": "python",
   "pygments_lexer": "ipython3",
   "version": "3.6.3"
  }
 },
 "nbformat": 4,
 "nbformat_minor": 2
}
