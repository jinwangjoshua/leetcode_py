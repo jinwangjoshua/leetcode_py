{
 "cells": [
  {
   "cell_type": "code",
   "execution_count": null,
   "metadata": {},
   "outputs": [],
   "source": [
    "\"\"\"Given a list of words and two words word1 and word2, return the shortest distance between these two words in the list.\n",
    "\n",
    "Example:\n",
    "Assume that words = [\"practice\", \"makes\", \"perfect\", \"coding\", \"makes\"].\n",
    "\n",
    "Input: word1 = “coding”, word2 = “practice”\n",
    "Output: 3\n",
    "Input: word1 = \"makes\", word2 = \"coding\"\n",
    "Output: 1\n",
    "Note:\n",
    "You may assume that word1 does not equal to word2, and word1 and word2 are both in the list.\"\"\""
   ]
  },
  {
   "cell_type": "code",
   "execution_count": 14,
   "metadata": {},
   "outputs": [
    {
     "name": "stdout",
     "output_type": "stream",
     "text": [
      "{'a': [0, 1], 'b': [2, 3]}\n"
     ]
    },
    {
     "data": {
      "text/plain": [
       "1"
      ]
     },
     "execution_count": 14,
     "metadata": {},
     "output_type": "execute_result"
    }
   ],
   "source": [
    "#最粗暴，但是太丑了\n",
    "\n",
    "class Solution:\n",
    "    def shortestDistance(self, words, word1, word2):\n",
    "        \"\"\"\n",
    "        :type words: List[str]\n",
    "        :type word1: str\n",
    "        :type word2: str\n",
    "        :rtype: int\n",
    "        \"\"\"\n",
    "        mp = {}\n",
    "        for index, w in enumerate(words):\n",
    "            mp[w] = []\n",
    "        for index, w in enumerate(words):\n",
    "            if not mp[w]:\n",
    "                mp[w] = [index]\n",
    "            else:\n",
    "                mp[w].append(index)\n",
    "        print(mp)\n",
    "        \n",
    "        \n",
    "        \n",
    "        for index, w in enumerate(words):\n",
    "            l1 = mp.get(word1)\n",
    "            l2 = mp.get(word2)\n",
    "            \n",
    "            \n",
    "            v = []\n",
    "            for i in l1:\n",
    "                for j in l2:\n",
    "                    v.append(abs(i-j))\n",
    "            \n",
    "            return min(v )\n",
    "        \n",
    "            \n",
    "Solution().shortestDistance([\"a\",\"a\",\"b\",\"b\"], 'a', 'b')"
   ]
  },
  {
   "cell_type": "code",
   "execution_count": 13,
   "metadata": {},
   "outputs": [
    {
     "data": {
      "text/plain": [
       "[2]"
      ]
     },
     "execution_count": 13,
     "metadata": {},
     "output_type": "execute_result"
    }
   ],
   "source": [
    "#不一定非要map，直接list搞定！\n",
    "\n",
    "class Solution:\n",
    "    def shortestDistance(self, words, word1, word2):\n",
    "        \"\"\"\n",
    "        :type words: list[str]\n",
    "        :type word1: str\n",
    "        :type word2: str\n",
    "        :rtype: int\n",
    "        \"\"\"\n",
    "        lst1 = [i for i, v in enumerate(words) if v == word1]\n",
    "        lst2 = [i for i, v in enumerate(words) if v == word2]\n",
    "        \n",
    "        v = []\n",
    "        for i in lst1:\n",
    "            for j in lst2:\n",
    "                v.append(abs(i-j))\n",
    "\n",
    "        return min(v )\n",
    "\n"
   ]
  },
  {
   "cell_type": "code",
   "execution_count": null,
   "metadata": {},
   "outputs": [],
   "source": []
  },
  {
   "cell_type": "code",
   "execution_count": null,
   "metadata": {},
   "outputs": [],
   "source": []
  },
  {
   "cell_type": "code",
   "execution_count": null,
   "metadata": {},
   "outputs": [],
   "source": []
  },
  {
   "cell_type": "code",
   "execution_count": null,
   "metadata": {},
   "outputs": [],
   "source": []
  },
  {
   "cell_type": "code",
   "execution_count": null,
   "metadata": {},
   "outputs": [],
   "source": []
  },
  {
   "cell_type": "code",
   "execution_count": null,
   "metadata": {},
   "outputs": [],
   "source": []
  },
  {
   "cell_type": "code",
   "execution_count": null,
   "metadata": {},
   "outputs": [],
   "source": []
  }
 ],
 "metadata": {
  "kernelspec": {
   "display_name": "Python 3",
   "language": "python",
   "name": "python3"
  },
  "language_info": {
   "codemirror_mode": {
    "name": "ipython",
    "version": 3
   },
   "file_extension": ".py",
   "mimetype": "text/x-python",
   "name": "python",
   "nbconvert_exporter": "python",
   "pygments_lexer": "ipython3",
   "version": "3.6.3"
  }
 },
 "nbformat": 4,
 "nbformat_minor": 2
}
