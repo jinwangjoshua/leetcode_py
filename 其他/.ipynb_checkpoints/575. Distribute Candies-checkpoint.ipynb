{
 "cells": [
  {
   "cell_type": "code",
   "execution_count": null,
   "metadata": {},
   "outputs": [],
   "source": [
    "\"\"\"Given an integer array with even length, where different numbers in this array represent different kinds of candies. Each number means one candy of the corresponding kind. You need to distribute these candies equally in number to brother and sister. Return the maximum number of kinds of candies the sister could gain.\n",
    "Example 1:\n",
    "Input: candies = [1,1,2,2,3,3]\n",
    "Output: 3\n",
    "Explanation:\n",
    "There are three different kinds of candies (1, 2 and 3), and two candies for each kind.\n",
    "Optimal distribution: The sister has candies [1,2,3] and the brother has candies [1,2,3], too. \n",
    "The sister has three different kinds of candies. \n",
    "Example 2:\n",
    "Input: candies = [1,1,2,3]\n",
    "Output: 2\n",
    "Explanation: For example, the sister has candies [2,3] and the brother has candies [1,1]. \n",
    "The sister has two different kinds of candies, the brother has only one kind of candies. \n",
    "Note:\n",
    "\n",
    "The length of the given array is in range [2, 10,000], and will be even.\n",
    "The number in given array is in range [-100,000, 100,000].\n",
    "\n",
    "问题难点在于：要等分，不光是数量上的等分，更是种类上的等分\n",
    "\n",
    "\"\"\""
   ]
  },
  {
   "cell_type": "code",
   "execution_count": null,
   "metadata": {},
   "outputs": [],
   "source": [
    "# 返回 min( 糖果总数的一半, 糖果种类数 ) 即可\n",
    "\"\"\"\n",
    "这道题的要求是保证将糖果平均分给兄妹的前提下，求妹妹能获得的最多的糖果种类。\n",
    "\n",
    "稍微分析一下可以得到：\n",
    "\n",
    "当糖果种类(m)的数目超过全部糖果的一半(n/2)时，妹妹最多只能分到(n/2)种糖果\n",
    "\n",
    "当糖果种类(m)的数目小于全部糖果的一半(n/2)时，妹妹最多能分到m种糖果\n",
    "\n",
    "当问题的答案分析清楚后，就可以写代码了：\n",
    "\"\"\"\n",
    "\n",
    "\n",
    "class Solution:\n",
    "    def distributeCandies(self, candies):\n",
    "        \"\"\"\n",
    "        :type candies: List[int]\n",
    "        :rtype: int\n",
    "        \"\"\"\n",
    "        return min(len(candies) / 2, len(set(candies)))"
   ]
  },
  {
   "cell_type": "code",
   "execution_count": null,
   "metadata": {},
   "outputs": [],
   "source": []
  },
  {
   "cell_type": "code",
   "execution_count": null,
   "metadata": {},
   "outputs": [],
   "source": []
  },
  {
   "cell_type": "code",
   "execution_count": null,
   "metadata": {},
   "outputs": [],
   "source": []
  },
  {
   "cell_type": "code",
   "execution_count": null,
   "metadata": {},
   "outputs": [],
   "source": []
  },
  {
   "cell_type": "code",
   "execution_count": null,
   "metadata": {},
   "outputs": [],
   "source": []
  }
 ],
 "metadata": {
  "kernelspec": {
   "display_name": "Python 3",
   "language": "python",
   "name": "python3"
  },
  "language_info": {
   "codemirror_mode": {
    "name": "ipython",
    "version": 3
   },
   "file_extension": ".py",
   "mimetype": "text/x-python",
   "name": "python",
   "nbconvert_exporter": "python",
   "pygments_lexer": "ipython3",
   "version": "3.6.3"
  }
 },
 "nbformat": 4,
 "nbformat_minor": 2
}
