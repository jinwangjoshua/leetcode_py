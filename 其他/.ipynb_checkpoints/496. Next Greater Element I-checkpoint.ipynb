{
 "cells": [
  {
   "cell_type": "code",
   "execution_count": null,
   "metadata": {},
   "outputs": [],
   "source": [
    "\"\"\"You are given two arrays (without duplicates) nums1 and nums2 where nums1’s elements are subset of nums2. Find all the next greater numbers for nums1's elements in the corresponding places of nums2.\n",
    "\n",
    "The Next Greater Number of a number x in nums1 is the first greater number to its right in nums2. If it does not exist, output -1 for this number.\n",
    "\n",
    "Example 1:\n",
    "Input: nums1 = [4,1,2], nums2 = [1,3,4,2].\n",
    "Output: [-1,3,-1]\n",
    "Explanation:\n",
    "    For number 4 in the first array, you cannot find the next greater number for it in the second array, so output -1.\n",
    "    For number 1 in the first array, the next greater number for it in the second array is 3.\n",
    "    For number 2 in the first array, there is no next greater number for it in the second array, so output -1.\n",
    "Example 2:\n",
    "Input: nums1 = [2,4], nums2 = [1,2,3,4].\n",
    "Output: [3,-1]\n",
    "Explanation:\n",
    "    For number 2 in the first array, the next greater number for it in the second array is 3.\n",
    "    For number 4 in the first array, there is no next greater number for it in the second array, so output -1.\n",
    "Note:\n",
    "All elements in nums1 and nums2 are unique.\n",
    "The length of both nums1 and nums2 would not exceed 1000.\"\"\""
   ]
  },
  {
   "cell_type": "code",
   "execution_count": null,
   "metadata": {},
   "outputs": [],
   "source": [
    "# 解法II 朴素解法\n",
    "\n",
    "# 时间复杂度O(n * m) 其中n为nums的长度，m为findNums的长度\n",
    "# Python代码：\n",
    "\n",
    "class Solution(object):\n",
    "    def nextGreaterElement(self, findNums, nums):\n",
    "        \"\"\"\n",
    "        :type findNums: List[int]\n",
    "        :type nums: List[int]\n",
    "        :rtype: List[int]\n",
    "        \"\"\"\n",
    "        dmap = {v : k for k, v in enumerate(nums)}\n",
    "        size = len(nums)\n",
    "        ans = []\n",
    "        for e, n in enumerate(findNums):\n",
    "            for j in range(dmap[n] + 1, size):\n",
    "                if nums[j] > n:\n",
    "                    ans.append(nums[j])\n",
    "                    break\n",
    "            if len(ans) <= e:   #点睛之笔\n",
    "                ans.append(-1)\n",
    "        return ans\n",
    "    "
   ]
  },
  {
   "cell_type": "code",
   "execution_count": 3,
   "metadata": {},
   "outputs": [
    {
     "name": "stdout",
     "output_type": "stream",
     "text": [
      "[]\n",
      "{}\n",
      "[1]\n",
      "{}\n",
      "[3]\n",
      "{1: 3}\n",
      "[4]\n",
      "{1: 3, 3: 4}\n",
      "[4, 1, 2]\n"
     ]
    },
    {
     "data": {
      "text/plain": [
       "[-1, 3, -1]"
      ]
     },
     "execution_count": 3,
     "metadata": {},
     "output_type": "execute_result"
    }
   ],
   "source": [
    "# 解题思路：\n",
    "# 解法I 栈（Stack）\n",
    "\n",
    "# 时间复杂度O(n + m) 其中n为nums的长度，m为findNums的长度\n",
    "# 参考LeetCode Discuss：\n",
    "\n",
    "# https://discuss.leetcode.com/topic/77916/java-10-lines-linear-time-complexity-o-n-with-explanation\n",
    "\n",
    "# 栈stack维护nums的递减子集，记nums的当前元素为n，栈顶元素为top\n",
    "\n",
    "# 重复弹出栈顶，直到stack为空，或者top大于n为止\n",
    "\n",
    "# 将所有被弹出元素的next greater element置为n\n",
    "# Python代码：\n",
    "class Solution(object):\n",
    "    def nextGreaterElement(self, findNums, nums):\n",
    "        \"\"\"\n",
    "        :type findNums: List[int]\n",
    "        :type nums: List[int]\n",
    "        :rtype: List[int]\n",
    "        \"\"\"\n",
    "        dmap = {}\n",
    "        stack = []\n",
    "        \n",
    "        for n in nums:\n",
    "            print(stack)\n",
    "            print(dmap)\n",
    "            while stack and stack[-1] < n:\n",
    "                dmap[stack.pop()] = n\n",
    "            stack.append(n)\n",
    "        \n",
    "        return [dmap.get(n, -1) for n in findNums]\n",
    "Solution().nextGreaterElement([4,1,2],[1,3,4,2])"
   ]
  },
  {
   "cell_type": "code",
   "execution_count": null,
   "metadata": {},
   "outputs": [],
   "source": []
  },
  {
   "cell_type": "code",
   "execution_count": null,
   "metadata": {},
   "outputs": [],
   "source": []
  },
  {
   "cell_type": "code",
   "execution_count": null,
   "metadata": {},
   "outputs": [],
   "source": []
  },
  {
   "cell_type": "code",
   "execution_count": null,
   "metadata": {},
   "outputs": [],
   "source": []
  }
 ],
 "metadata": {
  "kernelspec": {
   "display_name": "Python 3",
   "language": "python",
   "name": "python3"
  },
  "language_info": {
   "codemirror_mode": {
    "name": "ipython",
    "version": 3
   },
   "file_extension": ".py",
   "mimetype": "text/x-python",
   "name": "python",
   "nbconvert_exporter": "python",
   "pygments_lexer": "ipython3",
   "version": "3.6.3"
  }
 },
 "nbformat": 4,
 "nbformat_minor": 2
}
