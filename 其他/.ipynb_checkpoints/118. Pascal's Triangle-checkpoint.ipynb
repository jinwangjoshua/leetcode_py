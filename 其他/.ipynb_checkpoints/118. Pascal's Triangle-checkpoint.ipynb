{
 "cells": [
  {
   "cell_type": "code",
   "execution_count": null,
   "metadata": {},
   "outputs": [],
   "source": [
    "\"\"\"Input: 5\n",
    "Output:\n",
    "[\n",
    "     [1],\n",
    "    [1,1],\n",
    "   [1,2,1],\n",
    "  [1,3,3,1],\n",
    " [1,4,6,4,1]\n",
    "]\"\"\""
   ]
  },
  {
   "cell_type": "code",
   "execution_count": 1,
   "metadata": {},
   "outputs": [
    {
     "data": {
      "text/plain": [
       "[[1], [1, 1], [1, 2, 1], [1, 3, 3, 1], [1, 4, 6, 4, 1]]"
      ]
     },
     "execution_count": 1,
     "metadata": {},
     "output_type": "execute_result"
    }
   ],
   "source": [
    "class Solution:\n",
    "    def generate(self, numRows):\n",
    "        \"\"\"\n",
    "        math\n",
    "        :param numRows: integer\n",
    "        :return: a list of lists of integers\n",
    "        \"\"\"\n",
    "        result = []\n",
    "        for row in range(numRows):\n",
    "            current = []\n",
    "            for col in range(row+1):\n",
    "                if col==0 or col==row:\n",
    "                    current.append(1)\n",
    "                else:\n",
    "                    current.append(result[row-1][col-1]+result[row-1][col])\n",
    "            result.append(current)\n",
    "\n",
    "        return result\n",
    "Solution().generate(5)"
   ]
  },
  {
   "cell_type": "code",
   "execution_count": null,
   "metadata": {},
   "outputs": [],
   "source": [
    "class Solution(object):\n",
    "    def getRow(self, rowIndex):\n",
    "        \"\"\"\n",
    "        :type rowIndex: int\n",
    "        :rtype: List[int]\n",
    "        \"\"\"\n",
    "        res = []\n",
    "        for row in range(rowIndex):\n",
    "            cur = []\n",
    "            for col in range(row+1):\n",
    "                if col = 0 or col=row:\n",
    "                    cur.append(1)\n",
    "                else:\n",
    "                    cur.append(res[row-1][col-1] + res[row-1][col])\n",
    "            res.append(cur)\n",
    "        return res[-1]\n",
    "            "
   ]
  },
  {
   "cell_type": "code",
   "execution_count": 3,
   "metadata": {},
   "outputs": [
    {
     "data": {
      "text/plain": [
       "[[1], [1, 1], [1, 2, 1], [1, 3, 3, 1], [1, 4, 6, 4, 1], [1, 5, 10, 10, 5, 1]]"
      ]
     },
     "execution_count": 3,
     "metadata": {},
     "output_type": "execute_result"
    }
   ],
   "source": [
    "class Solution:\n",
    "    def generate(self, numRows):\n",
    "        res = []\n",
    "        for row in range(numRows + 1):\n",
    "            cur = []\n",
    "            for col in range(row+1):\n",
    "                if col ==0 or col == row:\n",
    "                    cur.append(1)\n",
    "                else:\n",
    "                    cur.append(res[row-1][col-1] + res[row-1][col])\n",
    "            res.append(cur)\n",
    "        return res\n",
    "Solution().generate(5)"
   ]
  },
  {
   "cell_type": "code",
   "execution_count": null,
   "metadata": {},
   "outputs": [],
   "source": []
  },
  {
   "cell_type": "code",
   "execution_count": null,
   "metadata": {},
   "outputs": [],
   "source": []
  },
  {
   "cell_type": "code",
   "execution_count": null,
   "metadata": {},
   "outputs": [],
   "source": []
  },
  {
   "cell_type": "code",
   "execution_count": null,
   "metadata": {},
   "outputs": [],
   "source": []
  }
 ],
 "metadata": {
  "kernelspec": {
   "display_name": "Python 3",
   "language": "python",
   "name": "python3"
  },
  "language_info": {
   "codemirror_mode": {
    "name": "ipython",
    "version": 3
   },
   "file_extension": ".py",
   "mimetype": "text/x-python",
   "name": "python",
   "nbconvert_exporter": "python",
   "pygments_lexer": "ipython3",
   "version": "3.6.3"
  }
 },
 "nbformat": 4,
 "nbformat_minor": 2
}
