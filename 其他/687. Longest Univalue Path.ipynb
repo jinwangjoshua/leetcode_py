{
 "cells": [
  {
   "cell_type": "code",
   "execution_count": null,
   "metadata": {},
   "outputs": [],
   "source": [
    "\"\"\"Given a binary tree, find the length of the longest path where each node in the path has the same value. This path may or may not pass through the root.\n",
    "\n",
    "Note: The length of path between two nodes is represented by the number of edges between them.\n",
    "\n",
    "Example 1:\n",
    "\n",
    "Input:\n",
    "\n",
    "              5\n",
    "             / \\\n",
    "            4   5\n",
    "           / \\   \\\n",
    "          1   1   5\n",
    "Output:\n",
    "\n",
    "2\n",
    "Example 2:\n",
    "\n",
    "Input:\n",
    "\n",
    "              1\n",
    "             / \\\n",
    "            4   5\n",
    "           / \\   \\\n",
    "          4   4   5\n",
    "Output:\n",
    "\n",
    "2\n",
    "Note: The given binary tree has not more than 10000 nodes. The height of the tree is not more than 1000.\"\"\""
   ]
  },
  {
   "cell_type": "code",
   "execution_count": null,
   "metadata": {},
   "outputs": [],
   "source": [
    "# Longest Univalue Path\n",
    "\n",
    "# Definition for a binary tree node.\n",
    "# class TreeNode(object):\n",
    "#     def __init__(self, x):\n",
    "#         self.val = x\n",
    "#         self.left = None\n",
    "#         self.right = None\n",
    "\n",
    "class Solution(object):\n",
    "    def longestUnivaluePath(self, root):\n",
    "        \"\"\"\n",
    "        :type root: TreeNode\n",
    "        :rtype: int\n",
    "        \"\"\"\n",
    "        if not root: \n",
    "            return 0\n",
    "        left, right, val = root.left, root.right, root.val\n",
    "        return max(self.longestPath(left, val) + self.longestPath(right, val),\\\n",
    "                   self.longestUnivaluePath(left), self.longestUnivaluePath(right))\n",
    "    def longestPath(self, root, val):\n",
    "        if not root or root.val != val: \n",
    "            return 0\n",
    "        return 1 + max(self.longestPath(root.left, val), self.longestPath(root.right, val))"
   ]
  },
  {
   "cell_type": "code",
   "execution_count": null,
   "metadata": {},
   "outputs": [],
   "source": []
  },
  {
   "cell_type": "code",
   "execution_count": null,
   "metadata": {},
   "outputs": [],
   "source": []
  },
  {
   "cell_type": "code",
   "execution_count": null,
   "metadata": {},
   "outputs": [],
   "source": []
  },
  {
   "cell_type": "code",
   "execution_count": null,
   "metadata": {},
   "outputs": [],
   "source": []
  }
 ],
 "metadata": {
  "kernelspec": {
   "display_name": "Python 3",
   "language": "python",
   "name": "python3"
  },
  "language_info": {
   "codemirror_mode": {
    "name": "ipython",
    "version": 3
   },
   "file_extension": ".py",
   "mimetype": "text/x-python",
   "name": "python",
   "nbconvert_exporter": "python",
   "pygments_lexer": "ipython3",
   "version": "3.6.3"
  }
 },
 "nbformat": 4,
 "nbformat_minor": 2
}
