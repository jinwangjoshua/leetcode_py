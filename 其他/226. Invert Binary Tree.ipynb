{
 "cells": [
  {
   "cell_type": "code",
   "execution_count": null,
   "metadata": {},
   "outputs": [],
   "source": [
    "\"\"\"Invert a binary tree.\n",
    "\n",
    "Example:\n",
    "\n",
    "Input:\n",
    "\n",
    "     4\n",
    "   /   \\\n",
    "  2     7\n",
    " / \\   / \\\n",
    "1   3 6   9\n",
    "Output:\n",
    "\n",
    "     4\n",
    "   /   \\\n",
    "  7     2\n",
    " / \\   / \\\n",
    "9   6 3   1\n",
    "Trivia:\n",
    "This problem was inspired by this original tweet by Max Howell:\n",
    "\n",
    "Google: 90% of our engineers use the software you wrote (Homebrew), \n",
    "but you can’t invert a binary tree on a whiteboard so f*** off.\"\"\""
   ]
  },
  {
   "cell_type": "code",
   "execution_count": null,
   "metadata": {},
   "outputs": [],
   "source": [
    "# Python代码（递归版本）：\n",
    "# Definition for a binary tree node.\n",
    "# class TreeNode:\n",
    "#     def __init__(self, x):\n",
    "#         self.val = x\n",
    "#         self.left = None\n",
    "#         self.right = None\n",
    "\n",
    "class Solution:\n",
    "    # @param {TreeNode} root\n",
    "    # @return {TreeNode}\n",
    "    def invertTree(self, root):\n",
    "        if root is None:\n",
    "            return None\n",
    "        if root.left:\n",
    "            self.invertTree(root.left)\n",
    "        if root.right:\n",
    "            self.invertTree(root.right)\n",
    "        root.left, root.right = root.right, root.left\n",
    "        return root"
   ]
  },
  {
   "cell_type": "code",
   "execution_count": null,
   "metadata": {},
   "outputs": [],
   "source": [
    "class Solution:\n",
    "    def invertTree(self, root):\n",
    "        if root is None:\n",
    "            return None\n",
    "        if root.left:\n",
    "            self.invertTree(root.left)\n",
    "        if root.right:\n",
    "            self.invertTree(root.right)\n",
    "        root.left, root.right = root.right, root.left\n",
    "        \n",
    "        return root"
   ]
  },
  {
   "cell_type": "code",
   "execution_count": null,
   "metadata": {},
   "outputs": [],
   "source": [
    "# Python代码（迭代版本）：\n",
    "# Definition for a binary tree node.\n",
    "# class TreeNode:\n",
    "#     def __init__(self, x):\n",
    "#         self.val = x\n",
    "#         self.left = None\n",
    "#         self.right = None\n",
    "\n",
    "class Solution:\n",
    "    # @param {TreeNode} root\n",
    "    # @return {TreeNode}\n",
    "    def invertTree(self, root):\n",
    "        if root is None:\n",
    "            return None\n",
    "        queue = [root]\n",
    "        while queue:\n",
    "            front = queue.pop(0)\n",
    "            if front.left:\n",
    "                queue.append(front.left)\n",
    "            if front.right:\n",
    "                queue.append(front.right)\n",
    "            front.left, front.right = front.right, front.left\n",
    "        return root"
   ]
  },
  {
   "cell_type": "code",
   "execution_count": null,
   "metadata": {},
   "outputs": [],
   "source": []
  },
  {
   "cell_type": "code",
   "execution_count": null,
   "metadata": {},
   "outputs": [],
   "source": []
  },
  {
   "cell_type": "code",
   "execution_count": null,
   "metadata": {},
   "outputs": [],
   "source": []
  }
 ],
 "metadata": {
  "kernelspec": {
   "display_name": "Python 3",
   "language": "python",
   "name": "python3"
  },
  "language_info": {
   "codemirror_mode": {
    "name": "ipython",
    "version": 3
   },
   "file_extension": ".py",
   "mimetype": "text/x-python",
   "name": "python",
   "nbconvert_exporter": "python",
   "pygments_lexer": "ipython3",
   "version": "3.6.3"
  }
 },
 "nbformat": 4,
 "nbformat_minor": 2
}
