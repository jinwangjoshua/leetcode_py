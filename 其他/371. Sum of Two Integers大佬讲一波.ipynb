{
 "cells": [
  {
   "cell_type": "code",
   "execution_count": null,
   "metadata": {},
   "outputs": [],
   "source": [
    "\"\"\"Calculate the sum of two integers a and b, but you are not allowed to use the operator + and -.\n",
    "\n",
    "Example:\n",
    "Given a = 1 and b = 2, return 3.\n",
    "\n",
    "Credits:\n",
    "Special thanks to @fujiaozhu for adding this problem and creating all test cases.\"\"\""
   ]
  },
  {
   "cell_type": "code",
   "execution_count": 5,
   "metadata": {},
   "outputs": [
    {
     "ename": "SyntaxError",
     "evalue": "invalid syntax (<ipython-input-5-cac3993ee0d0>, line 17)",
     "output_type": "error",
     "traceback": [
      "\u001b[0;36m  File \u001b[0;32m\"<ipython-input-5-cac3993ee0d0>\"\u001b[0;36m, line \u001b[0;32m17\u001b[0m\n\u001b[0;31m    public class Solution {\u001b[0m\n\u001b[0m               ^\u001b[0m\n\u001b[0;31mSyntaxError\u001b[0m\u001b[0;31m:\u001b[0m invalid syntax\n"
     ]
    }
   ],
   "source": [
    "# 1 解题思想\n",
    "# 这道题本身来说很简单，就是实现加法，但是不允许用内置的加减来实现，那么这个就应该怎么实现呢？\n",
    "\n",
    "# 和题目一样，我用的是一个位运算，分为两个步骤： \n",
    "# 1、输入 a，b \n",
    "# 2、按照位把ab相加，不考虑进位，结果是 a xor b，即1+1 =0 0+0 = 0 1+0=1，进位的请看下面 \n",
    "# 3、计算ab的进位的话，只有二者同为1才进位，因此进位可以标示为 (a and b) << 1 ，注意因为是进位，所以需要向左移动1位 \n",
    "# 4、于是a+b可以看成 （a xor b）+ （(a and b) << 1），这时候如果 (a and b) << 1 不为0，就递归调用这个方式吧，因为（a xor b）+ （(a and b) << 1） 也有可能进位，所以我们需要不断的处理进位。\n",
    "\n",
    "# 2 原题\n",
    "# Calculate the sum of two integers a and b, but you are not allowed to use the operator + and -.\n",
    "\n",
    "# Example: \n",
    "# Given a = 1 and b = 2, return 3.\n",
    "\n",
    "# 3 AC解\n",
    "public class Solution {\n",
    "    public int getSum(int a, int b) {\n",
    "        int result = a ^ b; // 按位加\n",
    "        int carray = (a & b) << 1; // 计算进位\n",
    "        if(carray!=0) return  getSum(result,carray); //判断进位与处理\n",
    "        return result;\n",
    "    }\n",
    "}"
   ]
  },
  {
   "cell_type": "code",
   "execution_count": 6,
   "metadata": {},
   "outputs": [
    {
     "data": {
      "text/plain": [
       "'class Solution：\\n    def getSum(self, a, b):\\n        result = a ^ b # 按位加\\n        carray = (a & b) << 1 # 计算进位\\n        if(carray!=0): \\n            return  getSum(result,carray)  #判断进位与处理\\n        return result'"
      ]
     },
     "execution_count": 6,
     "metadata": {},
     "output_type": "execute_result"
    }
   ],
   "source": [
    "\"\"\"class Solution：\n",
    "    def getSum(self, a, b):\n",
    "        result = a ^ b # 按位加\n",
    "        carray = (a & b) << 1 # 计算进位\n",
    "        if(carray!=0): \n",
    "            return  getSum(result,carray)  #判断进位与处理\n",
    "        return result\"\"\"\n",
    "\n",
    "\n",
    "#套用java代码果然超出内存"
   ]
  },
  {
   "cell_type": "code",
   "execution_count": 12,
   "metadata": {},
   "outputs": [],
   "source": [
    "#用python的方法\n",
    "class Solution:\n",
    "    def getSum(self, a, b):\n",
    "        result = a ^ b\n",
    "        carry = (a & b ) << 1\n",
    "        if (carry !=0):\n",
    "            return getSum(result, carry)\n",
    "        return result"
   ]
  },
  {
   "cell_type": "code",
   "execution_count": null,
   "metadata": {},
   "outputs": [],
   "source": [
    "# 题目翻译\n",
    "# 计算两个整数a和b的和，但是不能使用运算符加号和减号。 \n",
    "# 比如：给定a=1，b=2，返回3。\n",
    "\n",
    "# 思路方法\n",
    "# 既然不能使用加法和减法，那么就用位操作。下面以计算5+4的例子说明如何用位操作实现加法： \n",
    "# 1. 用二进制表示两个加数，a=5=0101，b=4=0100； \n",
    "# 2. 用and（&）操作得到所有位上的进位carry=0100; \n",
    "# 3. 用xor（^）操作找到a和b不同的位，赋值给a，a=0001； \n",
    "# 4. 将进位carry左移一位，赋值给b，b=1000； \n",
    "# 5. 循环直到进位carry为0，此时得到a=1001，即最后的sum。\n",
    "\n",
    "# 上面思路还算正常，然而对于Python就有点麻烦了。因为Python的整数不是固定的32位，所以需要做一些特殊的处理，具体见代码吧。 \n",
    "# 代码里的将一个数对0x100000000取模（注意：Python的取模运算结果恒为非负数），\n",
    "#是希望该数的二进制表示从第32位开始到更高的位都同是0（最低位是第0位），以在0-31位上模拟一个32位的int。\n",
    "\n",
    "# 思路一\n",
    "# 迭代求解。\n",
    "\n",
    "class Solution(object):\n",
    "    def getSum(self, a, b):\n",
    "        \"\"\"\n",
    "        :type a: int\n",
    "        :type b: int\n",
    "        :rtype: int\n",
    "        \"\"\"\n",
    "        while b != 0:\n",
    "            carry = a & b\n",
    "            a = (a ^ b) % 0x100000000\n",
    "            b = (carry << 1) % 0x100000000\n",
    "        return a if a <= 0x7FFFFFFF else a | (~0x100000000+1)"
   ]
  },
  {
   "cell_type": "code",
   "execution_count": null,
   "metadata": {},
   "outputs": [],
   "source": [
    "class Solution:\n",
    "    def getSum(self, a, b):\n",
    "        while b != 0:\n",
    "            carry = a & b\n",
    "            a = (a ^ b) % 0x100000000\n",
    "            b = (carry << 1) % 0x100000000\n",
    "        return a if a <= 0x7FFFFFFF else a | (~0x100000000+1)"
   ]
  },
  {
   "cell_type": "code",
   "execution_count": 11,
   "metadata": {},
   "outputs": [],
   "source": []
  },
  {
   "cell_type": "code",
   "execution_count": null,
   "metadata": {},
   "outputs": [],
   "source": []
  }
 ],
 "metadata": {
  "kernelspec": {
   "display_name": "Python 3",
   "language": "python",
   "name": "python3"
  },
  "language_info": {
   "codemirror_mode": {
    "name": "ipython",
    "version": 3
   },
   "file_extension": ".py",
   "mimetype": "text/x-python",
   "name": "python",
   "nbconvert_exporter": "python",
   "pygments_lexer": "ipython3",
   "version": "3.6.3"
  }
 },
 "nbformat": 4,
 "nbformat_minor": 2
}
