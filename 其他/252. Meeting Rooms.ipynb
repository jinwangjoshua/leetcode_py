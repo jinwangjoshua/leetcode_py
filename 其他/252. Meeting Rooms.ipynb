{
 "cells": [
  {
   "cell_type": "code",
   "execution_count": null,
   "metadata": {},
   "outputs": [],
   "source": [
    "\"\"\"Given an array of meeting time intervals consisting of start and end times [[s1,e1],[s2,e2],...] (si < ei), determine if a person could attend all meetings.\n",
    "\n",
    "Example 1:\n",
    "\n",
    "Input: [[0,30],[5,10],[15,20]]\n",
    "Output: false\n",
    "Example 2:\n",
    "\n",
    "Input: [[7,10],[2,4]]\n",
    "Output: true\"\"\""
   ]
  },
  {
   "cell_type": "code",
   "execution_count": null,
   "metadata": {},
   "outputs": [],
   "source": [
    "# 先按照start排了序， 然后扫描。 所以时间复杂度是O（n * lg（n））。\n",
    "\n",
    "# 本参考程序来自九章算法，由 @B同学 提供。版权所有，转发请注明出处。\n",
    "# - 九章算法致力于帮助更多中国人找到好的工作，教师团队均来自硅谷和国内的一线大公司在职工程师。\n",
    "# - 现有的面试培训课程包括：九章算法班，系统设计班，算法强化班，Java入门与基础算法班，Android 项目实战班，\n",
    "# - Big Data 项目实战班，算法面试高频题班, 动态规划专题班\n",
    "# - 更多详情请见官方网站：http://www.jiuzhang.com/?source=code\n",
    "\n",
    "\n",
    "class Solution(object):\n",
    "    def canAttendMeetings(self, intervals):\n",
    "        \"\"\"\n",
    "        :type intervals: List[Interval]\n",
    "        :rtype: bool\n",
    "        \"\"\"\n",
    "        if len(intervals) == 0:\n",
    "            return True\n",
    "        \n",
    "        intervals = sorted(intervals, key = lambda x: x.start)\n",
    "        \n",
    "        end = intervals[0].end\n",
    "        for i in range(1, len(intervals)):\n",
    "            if end > intervals[i].start:\n",
    "                return False\n",
    "            end = intervals[i].end\n",
    "        return True\n"
   ]
  },
  {
   "cell_type": "code",
   "execution_count": null,
   "metadata": {},
   "outputs": [],
   "source": [
    "class Solution(object):\n",
    "    def canAttendMeetings(self, intervals):\n",
    "        if len(intervals) == 0:\n",
    "            return True\n",
    "        intervals = sorted(intervals, key=lambda x: x.start)\n",
    "        \n",
    "        end = intervals[0].end\n",
    "        for i in intervals[1:]:\n",
    "            if end > i.start:\n",
    "                return False\n",
    "            \n",
    "            end = i.end\n",
    "        return True"
   ]
  },
  {
   "cell_type": "code",
   "execution_count": null,
   "metadata": {},
   "outputs": [],
   "source": []
  },
  {
   "cell_type": "code",
   "execution_count": null,
   "metadata": {},
   "outputs": [],
   "source": []
  },
  {
   "cell_type": "code",
   "execution_count": null,
   "metadata": {},
   "outputs": [],
   "source": []
  },
  {
   "cell_type": "code",
   "execution_count": null,
   "metadata": {},
   "outputs": [],
   "source": []
  },
  {
   "cell_type": "code",
   "execution_count": null,
   "metadata": {},
   "outputs": [],
   "source": []
  }
 ],
 "metadata": {
  "kernelspec": {
   "display_name": "Python 3",
   "language": "python",
   "name": "python3"
  },
  "language_info": {
   "codemirror_mode": {
    "name": "ipython",
    "version": 3
   },
   "file_extension": ".py",
   "mimetype": "text/x-python",
   "name": "python",
   "nbconvert_exporter": "python",
   "pygments_lexer": "ipython3",
   "version": "3.6.3"
  }
 },
 "nbformat": 4,
 "nbformat_minor": 2
}
