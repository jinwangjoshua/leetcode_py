{
 "cells": [
  {
   "cell_type": "code",
   "execution_count": null,
   "metadata": {},
   "outputs": [],
   "source": [
    "\"\"\"We define the Perfect Number is a positive integer that is equal to the sum of all its positive divisors except itself.\n",
    "\n",
    "Now, given an integer n, write a function that returns true when it is a perfect number and false when it is not.\n",
    "Example:\n",
    "Input: 28\n",
    "Output: True\n",
    "Explanation: 28 = 1 + 2 + 4 + 7 + 14\"\"\""
   ]
  },
  {
   "cell_type": "code",
   "execution_count": 1,
   "metadata": {},
   "outputs": [],
   "source": [
    "# 思路: \n",
    "# 方法1: 如果num有约数d，则它必有约数num/d，与判断素数时的sqrt的功能类似。因而只需存一半的值即可~\n",
    "\n",
    "# 方法2: 完美数有数学公式，第n个完美数为Pn=(2p−1)⋅2p−1 . \n",
    "class Solution(object):\n",
    "    def checkPerfectNumber(self, num):\n",
    "        \"\"\"\n",
    "        :type num: int\n",
    "        :rtype: bool\n",
    "        \"\"\"\n",
    "        total, div = 1, 2\n",
    "        while div * div <= num:\n",
    "            if num % div == 0:\n",
    "                total += div\n",
    "                if div * div != num:   #需要注意4的开根号是2，2不必加上两遍\n",
    "                    total += num / div\n",
    "            div += 1\n",
    "        return num > 1 and total == num"
   ]
  },
  {
   "cell_type": "code",
   "execution_count": null,
   "metadata": {},
   "outputs": [],
   "source": []
  },
  {
   "cell_type": "code",
   "execution_count": null,
   "metadata": {},
   "outputs": [],
   "source": []
  },
  {
   "cell_type": "code",
   "execution_count": null,
   "metadata": {},
   "outputs": [],
   "source": []
  },
  {
   "cell_type": "code",
   "execution_count": null,
   "metadata": {},
   "outputs": [],
   "source": []
  },
  {
   "cell_type": "code",
   "execution_count": null,
   "metadata": {},
   "outputs": [],
   "source": []
  }
 ],
 "metadata": {
  "kernelspec": {
   "display_name": "Python 3",
   "language": "python",
   "name": "python3"
  },
  "language_info": {
   "codemirror_mode": {
    "name": "ipython",
    "version": 3
   },
   "file_extension": ".py",
   "mimetype": "text/x-python",
   "name": "python",
   "nbconvert_exporter": "python",
   "pygments_lexer": "ipython3",
   "version": "3.6.3"
  }
 },
 "nbformat": 4,
 "nbformat_minor": 2
}
