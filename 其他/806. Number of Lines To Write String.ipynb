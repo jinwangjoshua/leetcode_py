{
 "cells": [
  {
   "cell_type": "code",
   "execution_count": null,
   "metadata": {},
   "outputs": [],
   "source": [
    "\"\"\"\n",
    "We are to write the letters of a given string S, from left to right into lines. Each line has maximum width 100 units, and if writing a letter would cause the width of the line to exceed 100 units, it is written on the next line. We are given an array widths, an array where widths[0] is the width of 'a', widths[1] is the width of 'b', ..., and widths[25] is the width of 'z'.\n",
    "\n",
    "Now answer two questions: how many lines have at least one character from S, and what is the width used by the last such line? Return your answer as an integer list of length 2.\n",
    "\n",
    " \n",
    "\n",
    "Example :\n",
    "Input: \n",
    "widths = [10,10,10,10,10,10,10,10,10,10,10,10,10,10,10,10,10,10,10,10,10,10,10,10,10,10]\n",
    "S = \"abcdefghijklmnopqrstuvwxyz\"\n",
    "Output: [3, 60]\n",
    "Explanation: \n",
    "All letters have the same length of 10. To write all 26 letters,\n",
    "we need two full lines and one line with 60 units.\n",
    "Example :\n",
    "Input: \n",
    "widths = [4,10,10,10,10,10,10,10,10,10,10,10,10,10,10,10,10,10,10,10,10,10,10,10,10,10]\n",
    "S = \"bbbcccdddaaa\"\n",
    "Output: [2, 4]\n",
    "Explanation: \n",
    "All letters except 'a' have the same length of 10, and \n",
    "\"bbbcccdddaa\" will cover 9 * 10 + 2 * 4 = 98 units.\n",
    "For the last 'a', it is written on the second line because\n",
    "there is only 2 units left in the first line.\n",
    "So the answer is 2 lines, plus 4 units in the second line.\n",
    " \n",
    "\n",
    "Note:\n",
    "\n",
    "The length of S will be in the range [1, 1000].\n",
    "S will only contain lowercase letters.\n",
    "widths is an array of length 26.\n",
    "widths[i] will be in the range of [2, 10].\n",
    "\n",
    "#主要难点在于题意，如果有可能跨行，那么把那个字母所有都放在下一行，不要分开接着写\n",
    "\n",
    "\"\"\""
   ]
  },
  {
   "cell_type": "code",
   "execution_count": 4,
   "metadata": {},
   "outputs": [
    {
     "name": "stdout",
     "output_type": "stream",
     "text": [
      "1 10\n",
      "1 20\n",
      "1 30\n",
      "1 40\n",
      "1 50\n",
      "1 60\n",
      "1 70\n",
      "1 80\n",
      "1 90\n",
      "1 94\n",
      "1 98\n",
      "2 4\n",
      "2 14\n",
      "2 24\n",
      "2 34\n",
      "2 44\n",
      "2 54\n",
      "2 64\n",
      "2 74\n",
      "2 84\n",
      "2 94\n",
      "3 10\n",
      "3 20\n",
      "3 30\n",
      "3 34\n",
      "3 38\n"
     ]
    },
    {
     "data": {
      "text/plain": [
       "[3, 38]"
      ]
     },
     "execution_count": 4,
     "metadata": {},
     "output_type": "execute_result"
    }
   ],
   "source": [
    "class Solution(object):\n",
    "    def numberOfLines(self, widths, S):\n",
    "        \"\"\"\n",
    "        :type widths: List[int]\n",
    "        :type S: str\n",
    "        :rtype: List[int]\n",
    "        \"\"\"\n",
    "        lines = 1\n",
    "        last = 0\n",
    "        for s in S:\n",
    "            width = widths[ord(s) - ord('a')]\n",
    "            last += width\n",
    "            if last > 100:\n",
    "                lines += 1\n",
    "                last = width\n",
    "            print(lines, last)\n",
    "        return [lines, last]\n",
    "    \n",
    "widths = [4,10,10,10,10,10,10,10,10,10,10,10,10,10,10,10,10,10,10,10,10,10,10,10,10,10]\n",
    "S = \"bbbcccdddaaahuhuuhuuuhugaa\"\n",
    "Solution().numberOfLines(widths, S)"
   ]
  },
  {
   "cell_type": "code",
   "execution_count": null,
   "metadata": {},
   "outputs": [],
   "source": [
    "class Solution(object):\n",
    "    def numberOfLines(self, widths, S):\n",
    "        line, last = 1, 0\n",
    "        for s in S:\n",
    "            width = widths[oed(s)-ord('a')]\n",
    "            last += width\n",
    "            if last > 100:\n",
    "                lines += 1\n",
    "                last = width\n",
    "                \n",
    "        return [lines, last]\n",
    "        "
   ]
  },
  {
   "cell_type": "code",
   "execution_count": null,
   "metadata": {},
   "outputs": [],
   "source": []
  },
  {
   "cell_type": "code",
   "execution_count": null,
   "metadata": {},
   "outputs": [],
   "source": []
  },
  {
   "cell_type": "code",
   "execution_count": null,
   "metadata": {},
   "outputs": [],
   "source": []
  },
  {
   "cell_type": "code",
   "execution_count": null,
   "metadata": {},
   "outputs": [],
   "source": []
  },
  {
   "cell_type": "code",
   "execution_count": null,
   "metadata": {},
   "outputs": [],
   "source": []
  }
 ],
 "metadata": {
  "kernelspec": {
   "display_name": "Python 3",
   "language": "python",
   "name": "python3"
  },
  "language_info": {
   "codemirror_mode": {
    "name": "ipython",
    "version": 3
   },
   "file_extension": ".py",
   "mimetype": "text/x-python",
   "name": "python",
   "nbconvert_exporter": "python",
   "pygments_lexer": "ipython3",
   "version": "3.6.3"
  }
 },
 "nbformat": 4,
 "nbformat_minor": 2
}
