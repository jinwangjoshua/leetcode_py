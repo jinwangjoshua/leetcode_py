{
 "cells": [
  {
   "cell_type": "code",
   "execution_count": null,
   "metadata": {},
   "outputs": [],
   "source": [
    "\"\"\"\n",
    "Given two binary strings, return their sum (also a binary string).\n",
    "\n",
    "The input strings are both non-empty and contains only characters 1 or 0.\n",
    "\n",
    "Example 1:\n",
    "\n",
    "Input: a = \"11\", b = \"1\"\n",
    "Output: \"100\"\n",
    "Example 2:\n",
    "\n",
    "Input: a = \"1010\", b = \"1011\"\n",
    "Output: \"10101\"\n",
    "\n",
    "\"\"\""
   ]
  },
  {
   "cell_type": "code",
   "execution_count": 22,
   "metadata": {},
   "outputs": [
    {
     "data": {
      "text/plain": [
       "'100'"
      ]
     },
     "execution_count": 22,
     "metadata": {},
     "output_type": "execute_result"
    }
   ],
   "source": [
    "class Solution(object):\n",
    "    def addBinary(self, a, b):\n",
    "        \"\"\"\n",
    "        :type a: str\n",
    "        :type b: str\n",
    "        :rtype: str\n",
    "        \"\"\"\n",
    "#         return bin(int(a, 2) + int(b, 2))[2:]  #int可以直接转换二进制\n",
    "        return bin(int(a, 2) + int(b, 2))[2:]\n",
    "    \n",
    "    \n",
    "Solution().addBinary('11', '1')\n",
    "        "
   ]
  },
  {
   "cell_type": "code",
   "execution_count": 41,
   "metadata": {},
   "outputs": [
    {
     "name": "stdout",
     "output_type": "stream",
     "text": [
      "\n",
      "0\n",
      "00\n"
     ]
    },
    {
     "data": {
      "text/plain": [
       "'1000'"
      ]
     },
     "execution_count": 41,
     "metadata": {},
     "output_type": "execute_result"
    }
   ],
   "source": [
    "# 思路二\n",
    "# 从两个字符串的最低位开始，一位一位的进行二进制相加，并保存进位，最终可以得到两者的和的字符串。\n",
    "\n",
    "# 代码\n",
    "\n",
    "class Solution(object):\n",
    "    def addBinary(self, a, b):\n",
    "        \"\"\"\n",
    "        :type a: str\n",
    "        :type b: str\n",
    "        :rtype: str\n",
    "        \"\"\"\n",
    "        res = ''\n",
    "        i, j, plus = len(a)-1, len(b)-1, 0\n",
    "        while i>=0 or j>=0:\n",
    "            print(res)\n",
    "            plus += int(a[i]) if i>= 0 else 0\n",
    "            plus += int(b[j]) if j>= 0 else 0\n",
    "            \n",
    "            res = str(plus%2) + res \n",
    "            i, j, plus = i-1, j-1, int(plus/2)\n",
    "        \n",
    "        if plus==1:\n",
    "            res = str(plus) + res\n",
    "        return res\n",
    "Solution().addBinary('111', '1')     "
   ]
  },
  {
   "cell_type": "code",
   "execution_count": null,
   "metadata": {},
   "outputs": [],
   "source": [
    "# 用递归实现，要注意，当两个加数都是1时要进位。\n",
    "\n",
    "# 代码\n",
    "\n",
    "class Solution(object):\n",
    "    def addBinary(self, a, b):\n",
    "        \"\"\"\n",
    "        :type a: str\n",
    "        :type b: str\n",
    "        :rtype: str\n",
    "        \"\"\"\n",
    "        if not a or not b:\n",
    "            return a if a else b\n",
    "        if a[-1] == '1' and b[-1] == '1':\n",
    "            return self.addBinary(self.addBinary(a[:-1], b[:-1]), '1') + '0'\n",
    "        elif a[-1] == '0' and b[-1] == '0':\n",
    "            return self.addBinary(a[:-1], b[:-1]) + '0'\n",
    "        else:\n",
    "            return self.addBinary(a[:-1], b[:-1]) + '1'"
   ]
  },
  {
   "cell_type": "code",
   "execution_count": 43,
   "metadata": {},
   "outputs": [
    {
     "data": {
      "text/plain": [
       "1"
      ]
     },
     "execution_count": 43,
     "metadata": {},
     "output_type": "execute_result"
    }
   ],
   "source": [
    "class Solution:\n",
    "    def addBinary(self, a, b):\n",
    "        if not a or not b:\n",
    "            return a if a else b\n",
    "        if a[-1] == '1' and b[-1] == '1':\n",
    "            return self.addBinary(self.addBinary(a[:-1], b[:-1]), '1') + '0'\n",
    "        elif a[-1] == '0' and b[-1] == '0':\n",
    "            return self.addBinary(a[:-1], b[:-1]) + '0'\n",
    "        else:\n",
    "            return self.addBinary(a[:-1], b[:-1]) + '1'"
   ]
  },
  {
   "cell_type": "code",
   "execution_count": null,
   "metadata": {},
   "outputs": [],
   "source": []
  }
 ],
 "metadata": {
  "kernelspec": {
   "display_name": "Python 3",
   "language": "python",
   "name": "python3"
  },
  "language_info": {
   "codemirror_mode": {
    "name": "ipython",
    "version": 3
   },
   "file_extension": ".py",
   "mimetype": "text/x-python",
   "name": "python",
   "nbconvert_exporter": "python",
   "pygments_lexer": "ipython3",
   "version": "3.6.3"
  }
 },
 "nbformat": 4,
 "nbformat_minor": 2
}
