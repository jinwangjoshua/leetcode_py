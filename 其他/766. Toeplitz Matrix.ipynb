{
 "cells": [
  {
   "cell_type": "code",
   "execution_count": null,
   "metadata": {},
   "outputs": [],
   "source": [
    "\"\"\"A matrix is Toeplitz if every diagonal from top-left to bottom-right has the same element.\n",
    "\n",
    "Now given an M x N matrix, return True if and only if the matrix is Toeplitz.\n",
    " \n",
    "\n",
    "Example 1:\n",
    "\n",
    "Input:\n",
    "matrix = [\n",
    "  [1,2,3,4],\n",
    "  [5,1,2,3],\n",
    "  [9,5,1,2]\n",
    "]\n",
    "Output: True\n",
    "Explanation:\n",
    "In the above grid, the diagonals are:\n",
    "\"[9]\", \"[5, 5]\", \"[1, 1, 1]\", \"[2, 2, 2]\", \"[3, 3]\", \"[4]\".\n",
    "In each diagonal all elements are the same, so the answer is True.\"\"\"\n",
    "\n",
    "# 题目大意：\n",
    "# Toeplitz（托普利茨）矩阵是指各条从左上到右下对角线元素均相等的矩阵。\n",
    "\n",
    "# 给定M x N矩阵，判断是否为Toeplitz矩阵。\n",
    "\n",
    "# 解题思路：\n",
    "# Map + Set\n",
    "\n",
    "# 将矩阵各元素按照其所在位置行与列的差值分组。因为根据题意的话，00，11，22应该相等；01，12，23应该相等\n",
    "\n",
    "# 遍历矩阵，记行为i，列为j，将元素matrix[i][j]加入i - j对应的集合。\n",
    "\n",
    "# 判断各集合元素是否为1\n",
    "# Python代码：\n",
    "\n",
    "\n",
    "class Solution(object):\n",
    "    def isToeplitzMatrix(self, matrix):\n",
    "        \"\"\"\n",
    "        :type matrix: List[List[int]]\n",
    "        :rtype: bool\n",
    "        \"\"\"\n",
    "        vmap = collections.defaultdict(set)  #很重要\n",
    "        M, N = len(matrix), len(matrix[0])\n",
    "        for x in range(M):\n",
    "            for y in range(N):\n",
    "                vmap[y - x].add(matrix[x][y])\n",
    "                if len(vmap[y - x]) > 1: \n",
    "                    return False\n",
    "        return True"
   ]
  }
 ],
 "metadata": {
  "kernelspec": {
   "display_name": "Python 3",
   "language": "python",
   "name": "python3"
  },
  "language_info": {
   "codemirror_mode": {
    "name": "ipython",
    "version": 3
   },
   "file_extension": ".py",
   "mimetype": "text/x-python",
   "name": "python",
   "nbconvert_exporter": "python",
   "pygments_lexer": "ipython3",
   "version": "3.6.3"
  }
 },
 "nbformat": 4,
 "nbformat_minor": 2
}
