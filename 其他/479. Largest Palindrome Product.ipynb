{
 "cells": [
  {
   "cell_type": "code",
   "execution_count": null,
   "metadata": {},
   "outputs": [],
   "source": [
    "\"\"\"Find the largest palindrome made from the product of two n-digit numbers.\n",
    "\n",
    "Since the result could be very large, you should return the largest palindrome mod 1337.\n",
    "\n",
    "Example:\n",
    "\n",
    "Input: 2\n",
    "\n",
    "Output: 987\n",
    "\n",
    "Explanation: 99 x 91 = 9009, 9009 % 1337 = 987\n",
    "\n",
    "Note:\n",
    "\n",
    "The range of n is [1,8].\n",
    "\n",
    "\"\"\""
   ]
  },
  {
   "cell_type": "code",
   "execution_count": null,
   "metadata": {},
   "outputs": [],
   "source": [
    "# 题目本身不是难题，但是普通方法肯定会超时。。这个题我没认真做，抄了一个别人的答案。我觉得这个题没什么意思。\n",
    "\n",
    "class Solution(object):\n",
    "    def largestPalindrome(self, n):\n",
    "        if n==1: return 9\n",
    "        if n==2: return 987\n",
    "        for a in xrange(2, 9*10**(n-1)):\n",
    "            hi=(10**n)-a\n",
    "            lo=int(str(hi)[::-1])\n",
    "            if a**2-4*lo < 0: continue\n",
    "            if (a**2-4*lo)**.5 == int((a**2-4*lo)**.5):\n",
    "                return (lo+10**n*(10**n-a))%1337"
   ]
  },
  {
   "cell_type": "code",
   "execution_count": null,
   "metadata": {},
   "outputs": [],
   "source": []
  },
  {
   "cell_type": "code",
   "execution_count": null,
   "metadata": {},
   "outputs": [],
   "source": []
  },
  {
   "cell_type": "code",
   "execution_count": null,
   "metadata": {},
   "outputs": [],
   "source": []
  },
  {
   "cell_type": "code",
   "execution_count": null,
   "metadata": {},
   "outputs": [],
   "source": []
  },
  {
   "cell_type": "code",
   "execution_count": null,
   "metadata": {},
   "outputs": [],
   "source": []
  },
  {
   "cell_type": "code",
   "execution_count": null,
   "metadata": {},
   "outputs": [],
   "source": []
  },
  {
   "cell_type": "code",
   "execution_count": null,
   "metadata": {},
   "outputs": [],
   "source": []
  }
 ],
 "metadata": {
  "kernelspec": {
   "display_name": "Python 3",
   "language": "python",
   "name": "python3"
  },
  "language_info": {
   "codemirror_mode": {
    "name": "ipython",
    "version": 3
   },
   "file_extension": ".py",
   "mimetype": "text/x-python",
   "name": "python",
   "nbconvert_exporter": "python",
   "pygments_lexer": "ipython3",
   "version": "3.6.3"
  }
 },
 "nbformat": 4,
 "nbformat_minor": 2
}
