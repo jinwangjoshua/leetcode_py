{
 "cells": [
  {
   "cell_type": "code",
   "execution_count": null,
   "metadata": {},
   "outputs": [],
   "source": [
    "\"\"\"We define a harmonious array is an array where the difference between its maximum value and its minimum value is exactly 1.\n",
    "\n",
    "Now, given an integer array, you need to find the length of its longest harmonious subsequence among all its possible subsequences.\n",
    "\n",
    "Example 1:\n",
    "Input: [1,3,2,2,5,2,3,7]\n",
    "Output: 5\n",
    "Explanation: The longest harmonious subsequence is [3,2,2,2,3].\n",
    "\n",
    "注意看题：题目不要求顺序，只要找出来就好！所以用map\n",
    "\n",
    "\"\"\""
   ]
  },
  {
   "cell_type": "code",
   "execution_count": 46,
   "metadata": {},
   "outputs": [],
   "source": [
    "# 题目中说了所有可能的子串，难题出在这。\n",
    "# 如果用排序了之后的结果，然后双指针的方式，好像比较繁琐。\n",
    "# 看了discuss，学会了用数的方式做。先数每个数字出现的次数，然后对每个数字num，找num+1是否存在，如果存在就记录两个和的最大值。\n",
    "\n",
    "from collections import Counter\n",
    "class Solution(object):\n",
    "    def findLHS(self, nums):\n",
    "        \"\"\"\n",
    "        :type nums: List[int]\n",
    "        :rtype: int\n",
    "        \"\"\"\n",
    "        counter = Counter(nums)\n",
    "        longest = 0\n",
    "        for num in set(nums):\n",
    "            if num + 1 in counter:\n",
    "                longest = max(longest, counter[num] + counter[num + 1])   #暴力，不用先排序，全都整一遍就都清楚了\n",
    "        return longest\n",
    "    "
   ]
  },
  {
   "cell_type": "code",
   "execution_count": null,
   "metadata": {},
   "outputs": [],
   "source": []
  },
  {
   "cell_type": "code",
   "execution_count": null,
   "metadata": {},
   "outputs": [],
   "source": []
  },
  {
   "cell_type": "code",
   "execution_count": null,
   "metadata": {},
   "outputs": [],
   "source": []
  },
  {
   "cell_type": "code",
   "execution_count": null,
   "metadata": {},
   "outputs": [],
   "source": []
  },
  {
   "cell_type": "code",
   "execution_count": null,
   "metadata": {},
   "outputs": [],
   "source": []
  },
  {
   "cell_type": "code",
   "execution_count": null,
   "metadata": {},
   "outputs": [],
   "source": []
  }
 ],
 "metadata": {
  "kernelspec": {
   "display_name": "Python 3",
   "language": "python",
   "name": "python3"
  },
  "language_info": {
   "codemirror_mode": {
    "name": "ipython",
    "version": 3
   },
   "file_extension": ".py",
   "mimetype": "text/x-python",
   "name": "python",
   "nbconvert_exporter": "python",
   "pygments_lexer": "ipython3",
   "version": "3.6.3"
  }
 },
 "nbformat": 4,
 "nbformat_minor": 2
}
