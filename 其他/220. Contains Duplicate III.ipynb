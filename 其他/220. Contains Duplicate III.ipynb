{
 "cells": [
  {
   "cell_type": "code",
   "execution_count": null,
   "metadata": {},
   "outputs": [],
   "source": [
    "\"\"\"Given an array of integers, find out whether there are two distinct indices i and j in the array such that the absolute difference between nums[i] and nums[j] is at most t and the absolute difference between i and j is at most k.\n",
    "\n",
    "Example 1:\n",
    "\n",
    "Input: nums = [1,2,3,1], k = 3, t = 0\n",
    "Output: true\n",
    "Example 2:\n",
    "\n",
    "Input: nums = [1,0,1,1], k = 1, t = 2\n",
    "Output: true\n",
    "Example 3:\n",
    "\n",
    "Input: nums = [1,5,9,1,5,9], k = 2, t = 3\n",
    "Output: false\"\"\""
   ]
  },
  {
   "cell_type": "code",
   "execution_count": null,
   "metadata": {},
   "outputs": [],
   "source": [
    "# 桶的方法 O(n)\n",
    "\n",
    "# 思想是以t+1为间隔来分桶，对于一个数，将其分到第key = num / (t + 1) 个桶中，我们只需要查找相同的和相邻的桶的元素就可以判断有无重复。\n",
    "\n",
    "# 比如t = 4，那么0~4为桶0，5~9为桶1，10~14为桶2 。\n",
    "\n",
    "# 使用t+1个桶是为啥？这是为了避免除以0的错误，可能t = 0.\n",
    "\n",
    "# 下面，C++和Java的版本，如果num为负数，那么key -= 1，因为比C++/Java 的负数取整是：-2 /3 = 0，这题这样是不行的。\n",
    "\n",
    "# 而Python则OK, -2 // 3 = -1\n",
    "class Solution(object):\n",
    "    def containsNearbyAlmostDuplicate(self, nums, k, t):\n",
    "        \"\"\"\n",
    "        :type nums: List[int]\n",
    "        :type k: int\n",
    "        :type t: int\n",
    "        :rtype: bool\n",
    "        \"\"\"\n",
    "        if k <= 0 or t < 0: return False\n",
    "        key_to_val = {}\n",
    "        for i, num in enumerate(nums):\n",
    "            key = num // (t + 1)\n",
    "            if key in key_to_val \\\n",
    "                    or key + 1 in key_to_val and key_to_val[key + 1] - num <= t \\\n",
    "                    or key - 1 in key_to_val and num - key_to_val[key - 1] <= t:\n",
    "                return True\n",
    "            if i >=k:\n",
    "                del key_to_val[nums[i-k] // (t + 1)]\n",
    "            key_to_val[key] = num\n",
    "        return False\n"
   ]
  },
  {
   "cell_type": "code",
   "execution_count": 1,
   "metadata": {},
   "outputs": [],
   "source": [
    "class Solution:\n",
    "    def containNearbyAlmostDuplicate(self, nums, k, t):\n",
    "        if k <= o or t < 0:\n",
    "            return False\n",
    "        key_to_val = {}\n",
    "        for i, num in enumerate(nums):\n",
    "            key = num // (t+1)\n",
    "            if key in key_to_val or key+1 in key_to_val and key_to_val[key+1] - num<=t or key-1 in key_to_val and num-key_to_val[key-1] <= t:\n",
    "                return True\n",
    "            if i >= k:\n",
    "                del key_to_val[nums[i-k]//(t+1)]\n",
    "            key_to_val[key] = num\n",
    "        return False"
   ]
  },
  {
   "cell_type": "code",
   "execution_count": null,
   "metadata": {},
   "outputs": [],
   "source": []
  },
  {
   "cell_type": "code",
   "execution_count": null,
   "metadata": {},
   "outputs": [],
   "source": []
  },
  {
   "cell_type": "code",
   "execution_count": null,
   "metadata": {},
   "outputs": [],
   "source": [
    "class Solution:\n",
    "    # @param {integer[]} nums\n",
    "    # @param {integer} k\n",
    "    # @param {integer} t\n",
    "    # @return {boolean}\n",
    "    def containsNearbyAlmostDuplicate(self, nums, k, t):\n",
    "        if k < 1 or t < 0:\n",
    "            return False\n",
    "        numDict = collections.OrderedDict()\n",
    "        for x in range(len(nums)):\n",
    "            key = nums[x] / max(1, t)\n",
    "            for m in (key, key - 1, key + 1):\n",
    "                if m in numDict and abs(nums[x] - numDict[m]) <= t:\n",
    "                    return True\n",
    "            numDict[key] = nums[x]\n",
    "            if x >=  k:\n",
    "                numDict.popitem(last=False)\n",
    "        return False"
   ]
  },
  {
   "cell_type": "code",
   "execution_count": null,
   "metadata": {},
   "outputs": [],
   "source": []
  },
  {
   "cell_type": "code",
   "execution_count": null,
   "metadata": {},
   "outputs": [],
   "source": []
  },
  {
   "cell_type": "code",
   "execution_count": null,
   "metadata": {},
   "outputs": [],
   "source": []
  },
  {
   "cell_type": "code",
   "execution_count": null,
   "metadata": {},
   "outputs": [],
   "source": []
  },
  {
   "cell_type": "code",
   "execution_count": null,
   "metadata": {},
   "outputs": [],
   "source": []
  },
  {
   "cell_type": "code",
   "execution_count": null,
   "metadata": {},
   "outputs": [],
   "source": []
  },
  {
   "cell_type": "code",
   "execution_count": null,
   "metadata": {},
   "outputs": [],
   "source": []
  }
 ],
 "metadata": {
  "kernelspec": {
   "display_name": "Python 3",
   "language": "python",
   "name": "python3"
  },
  "language_info": {
   "codemirror_mode": {
    "name": "ipython",
    "version": 3
   },
   "file_extension": ".py",
   "mimetype": "text/x-python",
   "name": "python",
   "nbconvert_exporter": "python",
   "pygments_lexer": "ipython3",
   "version": "3.6.3"
  }
 },
 "nbformat": 4,
 "nbformat_minor": 2
}
