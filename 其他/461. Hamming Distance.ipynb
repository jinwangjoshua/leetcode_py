{
 "cells": [
  {
   "cell_type": "code",
   "execution_count": null,
   "metadata": {},
   "outputs": [],
   "source": [
    "\"\"\"The Hamming distance between two integers is the number of positions at which the corresponding bits are different.\n",
    "\n",
    "Given two integers x and y, calculate the Hamming distance.\n",
    "\n",
    "Note:\n",
    "0 ≤ x, y < 231.\n",
    "\n",
    "Example:\n",
    "\n",
    "Input: x = 1, y = 4\n",
    "\n",
    "Output: 2\n",
    "\n",
    "Explanation:\n",
    "1   (0 0 0 1)\n",
    "4   (0 1 0 0)\n",
    "       ↑   ↑\n",
    "\n",
    "The above arrows point to positions where the corresponding bits are different.\"\"\""
   ]
  },
  {
   "cell_type": "code",
   "execution_count": 34,
   "metadata": {},
   "outputs": [
    {
     "name": "stdout",
     "output_type": "stream",
     "text": [
      "001 100\n"
     ]
    },
    {
     "data": {
      "text/plain": [
       "2"
      ]
     },
     "execution_count": 34,
     "metadata": {},
     "output_type": "execute_result"
    }
   ],
   "source": [
    "#使用bin，变成等长之后，按照str一个一个比较\n",
    "\n",
    "class Solution(object):\n",
    "    def hammingDistance(self, x, y):\n",
    "        \"\"\"\n",
    "        :type x: int\n",
    "        :type y: int\n",
    "        :rtype: int\n",
    "        \"\"\"\n",
    "        ham = 0\n",
    "        strx = bin(x)[2:]\n",
    "        stry = bin(y)[2:]\n",
    "        if len(strx) >= len(stry):\n",
    "            stry = '0'* (len(strx)-len(stry)) + stry\n",
    "        else:\n",
    "            strx = '0'*(len(stry)-len(strx)) + strx\n",
    "        \n",
    "        print(strx, stry)\n",
    "        \n",
    "        \n",
    "        for i in range(len(strx)):\n",
    "            if strx[i] != stry[i]:\n",
    "                ham += 1\n",
    "        return ham\n",
    "    \n",
    "Solution().hammingDistance(1, 4)     "
   ]
  },
  {
   "cell_type": "code",
   "execution_count": 43,
   "metadata": {},
   "outputs": [],
   "source": [
    "class Solution(object):\n",
    "    def hammingDistance(self, x, y):\n",
    "        \"\"\"\n",
    "        :type x: int\n",
    "        :type y: int\n",
    "        :rtype: int\n",
    "        \"\"\"\n",
    "        return bin(x ^ y).count('1')   #count函数真好使！！！"
   ]
  },
  {
   "cell_type": "code",
   "execution_count": null,
   "metadata": {},
   "outputs": [],
   "source": []
  },
  {
   "cell_type": "code",
   "execution_count": null,
   "metadata": {},
   "outputs": [],
   "source": []
  },
  {
   "cell_type": "code",
   "execution_count": null,
   "metadata": {},
   "outputs": [],
   "source": []
  },
  {
   "cell_type": "code",
   "execution_count": null,
   "metadata": {},
   "outputs": [],
   "source": []
  },
  {
   "cell_type": "code",
   "execution_count": null,
   "metadata": {},
   "outputs": [],
   "source": []
  }
 ],
 "metadata": {
  "kernelspec": {
   "display_name": "Python 3",
   "language": "python",
   "name": "python3"
  },
  "language_info": {
   "codemirror_mode": {
    "name": "ipython",
    "version": 3
   },
   "file_extension": ".py",
   "mimetype": "text/x-python",
   "name": "python",
   "nbconvert_exporter": "python",
   "pygments_lexer": "ipython3",
   "version": "3.6.3"
  }
 },
 "nbformat": 4,
 "nbformat_minor": 2
}
