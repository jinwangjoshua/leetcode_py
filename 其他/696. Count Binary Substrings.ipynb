{
 "cells": [
  {
   "cell_type": "code",
   "execution_count": null,
   "metadata": {},
   "outputs": [],
   "source": [
    "\"\"\"\n",
    "Give a string s, count the number of non-empty (contiguous) substrings that have the same number of 0's and 1's, and all the 0's and all the 1's in these substrings are grouped consecutively.\n",
    "\n",
    "Substrings that occur multiple times are counted the number of times they occur.\n",
    "\n",
    "Example 1:\n",
    "Input: \"00110011\"\n",
    "Output: 6\n",
    "Explanation: There are 6 substrings that have equal number of consecutive 1's and 0's: \"0011\", \"01\", \"1100\", \"10\", \"0011\", and \"01\".\n",
    "\n",
    "Notice that some of these substrings repeat and are counted the number of times they occur.\n",
    "\n",
    "Also, \"00110011\" is not a valid substring because all the 0's (and 1's) are not grouped together.\n",
    "Example 2:\n",
    "Input: \"10101\"\n",
    "Output: 4\n",
    "Explanation: There are 4 substrings: \"10\", \"01\", \"10\", \"01\" that have equal number of consecutive 1's and 0's.\n",
    "Note:\n",
    "\n",
    "s.length will be between 1 and 50,000.\n",
    "s will only consist of \"0\" or \"1\" characters.\n",
    "一直理解题意错误，让我们数有几个相等的子字符串;并且0和1要连续出现，也就是说0011，而不能有1010或者1001\n",
    "\n",
    "\n",
    "\"\"\""
   ]
  },
  {
   "cell_type": "code",
   "execution_count": 33,
   "metadata": {},
   "outputs": [
    {
     "name": "stdout",
     "output_type": "stream",
     "text": [
      "[1, 7, 2, 4]\n",
      "[(1, 7), (7, 2), (2, 4)]\n"
     ]
    },
    {
     "data": {
      "text/plain": [
       "5"
      ]
     },
     "execution_count": 33,
     "metadata": {},
     "output_type": "execute_result"
    }
   ],
   "source": [
    "# 思路： \n",
    "# 可以先将连续的 ”0“ 和 ”1“ 分离，然后再依次找个两个中的最小值就可\n",
    "\n",
    "# ‘00001111’ => [4, 4] => min(4, 4) => 4 \n",
    "# ‘00110’ => [2, 2, 1] => min(2, 2) + min(2, 1) => 3 \n",
    "# ‘10101’ => [1, 1, 1, 1, 1] => 4\n",
    "\n",
    "\n",
    "s = '10000000110000'\n",
    "class Solution:\n",
    "    def countBinarySubstrings(self, s):\n",
    "        \"\"\"\n",
    "        :type s: str\n",
    "        :rtype: int\n",
    "        \"\"\"\n",
    "        l=[]\n",
    "        for i in s.replace(\"01\",\"0 1\").replace(\"10\",\"1 0\").split():\n",
    "            l.append(len(i))\n",
    "        print(l)\n",
    "        print([(a,b) for a,b in zip(l,l[1:])])\n",
    "        return sum([min(a,b) for a,b in zip(l,l[1:])])\n",
    "Solution().countBinarySubstrings(s)"
   ]
  },
  {
   "cell_type": "code",
   "execution_count": 9,
   "metadata": {},
   "outputs": [
    {
     "name": "stdout",
     "output_type": "stream",
     "text": [
      "0\n",
      "[0, 1]\n",
      "0\n",
      "[0, 2]\n",
      "1\n",
      "[1, 2]\n",
      "2\n",
      "[2, 2]\n",
      "3\n",
      "[2, 1]\n",
      "4\n",
      "[2, 2]\n",
      "5\n",
      "[1, 2]\n",
      "6\n",
      "[2, 2]\n",
      "7\n",
      "[2, 1]\n",
      "8\n",
      "[2, 2]\n"
     ]
    },
    {
     "data": {
      "text/plain": [
       "8"
      ]
     },
     "execution_count": 9,
     "metadata": {},
     "output_type": "execute_result"
    }
   ],
   "source": [
    "\n",
    "class Solution(object):\n",
    "    def countBinarySubstrings(self, s):\n",
    "        \"\"\"\n",
    "        :type s: str\n",
    "        :rtype: int\n",
    "        \"\"\"\n",
    "        size = len(s)\n",
    "        cnt = [0, 0]\n",
    "        last = None\n",
    "        ans = 0\n",
    "        for c in s:\n",
    "            c = int(c)\n",
    "            \n",
    "            if c != last: \n",
    "                cnt[c] = 0\n",
    "            cnt[c] += 1\n",
    "            if cnt[c] <= cnt[1 - c]: \n",
    "                ans += 1\n",
    "            print(ans)\n",
    "            print(cnt)\n",
    "            last = c\n",
    "            \n",
    "        return ans\n",
    "    \n",
    "Solution().countBinarySubstrings('1100110011')"
   ]
  },
  {
   "cell_type": "code",
   "execution_count": null,
   "metadata": {},
   "outputs": [],
   "source": []
  },
  {
   "cell_type": "code",
   "execution_count": null,
   "metadata": {},
   "outputs": [],
   "source": []
  }
 ],
 "metadata": {
  "kernelspec": {
   "display_name": "Python 3",
   "language": "python",
   "name": "python3"
  },
  "language_info": {
   "codemirror_mode": {
    "name": "ipython",
    "version": 3
   },
   "file_extension": ".py",
   "mimetype": "text/x-python",
   "name": "python",
   "nbconvert_exporter": "python",
   "pygments_lexer": "ipython3",
   "version": "3.6.3"
  }
 },
 "nbformat": 4,
 "nbformat_minor": 2
}
