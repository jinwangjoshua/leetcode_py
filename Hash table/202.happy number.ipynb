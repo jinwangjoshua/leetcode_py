{
 "cells": [
  {
   "cell_type": "code",
   "execution_count": 1,
   "metadata": {},
   "outputs": [
    {
     "data": {
      "text/plain": [
       "'\\nWrite an algorithm to determine if a number is \"happy\".\\n\\nA happy number is a number defined by the following process: Starting with any positive integer, replace the number by the sum of the squares of its digits, and repeat the process until the number equals 1 (where it will stay), or it loops endlessly in a cycle which does not include 1. Those numbers for which this process ends in 1 are happy numbers.\\n\\nExample: \\n\\nInput: 19\\nOutput: true\\nExplanation: \\n12 + 92 = 82\\n82 + 22 = 68\\n62 + 82 = 100\\n12 + 02 + 02 = 1\\n'"
      ]
     },
     "execution_count": 1,
     "metadata": {},
     "output_type": "execute_result"
    }
   ],
   "source": [
    "\"\"\"\n",
    "Write an algorithm to determine if a number is \"happy\".\n",
    "\n",
    "A happy number is a number defined by the following process: \n",
    "Starting with any positive integer, \n",
    "replace the number by the sum of the squares of its digits, \n",
    "and repeat the process until the number equals 1 (where it will stay), \n",
    "or it loops endlessly in a cycle which does not include 1. \n",
    "Those numbers for which this process ends in 1 are happy numbers.\n",
    "\n",
    "Example: \n",
    "\n",
    "Input: 19\n",
    "Output: true\n",
    "Explanation: \n",
    "12 + 92 = 82\n",
    "82 + 22 = 68\n",
    "62 + 82 = 100\n",
    "12 + 02 + 02 = 1\n",
    "\"\"\""
   ]
  },
  {
   "cell_type": "code",
   "execution_count": 7,
   "metadata": {},
   "outputs": [
    {
     "name": "stdout",
     "output_type": "stream",
     "text": [
      "{81, 90}\n",
      "{65, 81, 90}\n",
      "{65, 81, 90, 61}\n",
      "{65, 37, 81, 90, 61}\n",
      "{65, 58, 37, 81, 90, 61}\n",
      "{65, 58, 37, 81, 89, 90, 61}\n",
      "{65, 58, 37, 81, 145, 89, 90, 61}\n",
      "{65, 58, 37, 42, 81, 145, 89, 90, 61}\n",
      "{65, 58, 37, 42, 81, 145, 20, 89, 90, 61}\n",
      "{65, 58, 37, 4, 42, 81, 145, 20, 89, 90, 61}\n",
      "{65, 58, 37, 4, 42, 16, 81, 145, 20, 89, 90, 61}\n"
     ]
    },
    {
     "data": {
      "text/plain": [
       "False"
      ]
     },
     "execution_count": 7,
     "metadata": {},
     "output_type": "execute_result"
    }
   ],
   "source": [
    "class Solution2:\n",
    "    # @param {integer} n\n",
    "    # @return {boolean}\n",
    "    def isHappy(self, n):\n",
    "        appeared = set()\n",
    "        appeared.add(n)\n",
    "        while True:\n",
    "            digits = [int(c) for c in str(n)]  #精彩\n",
    "            newval = sum([digit**2 for digit in digits])\n",
    "            if newval ==1:\n",
    "                return True\n",
    "            if newval in appeared:   #防止循环的出现，漂亮; 否则继续做下去\n",
    "                return False\n",
    "            appeared.add(newval)\n",
    "            n = newval    #更新\n",
    "            print(appeared)\n",
    "            \n",
    "Solution2().isHappy(90)"
   ]
  },
  {
   "cell_type": "code",
   "execution_count": 9,
   "metadata": {},
   "outputs": [
    {
     "data": {
      "text/plain": [
       "False"
      ]
     },
     "execution_count": 9,
     "metadata": {},
     "output_type": "execute_result"
    }
   ],
   "source": [
    "def isHappy(num):\n",
    "    appeared = set()\n",
    "    appeared.add(num)\n",
    "    while True:\n",
    "        digits = [int(c) for c in str(num)]\n",
    "        newval = sum([digit**2 for digit in digits])\n",
    "        if newval ==1:\n",
    "            return True\n",
    "        if newval in appeared:\n",
    "            return False\n",
    "        appeared.add(newval)\n",
    "        num = newval\n",
    "isHappy(90)"
   ]
  },
  {
   "cell_type": "code",
   "execution_count": null,
   "metadata": {},
   "outputs": [],
   "source": []
  }
 ],
 "metadata": {
  "kernelspec": {
   "display_name": "Python 3",
   "language": "python",
   "name": "python3"
  },
  "language_info": {
   "codemirror_mode": {
    "name": "ipython",
    "version": 3
   },
   "file_extension": ".py",
   "mimetype": "text/x-python",
   "name": "python",
   "nbconvert_exporter": "python",
   "pygments_lexer": "ipython3",
   "version": "3.6.3"
  }
 },
 "nbformat": 4,
 "nbformat_minor": 2
}
