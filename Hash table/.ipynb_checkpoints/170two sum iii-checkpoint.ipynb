{
 "cells": [
  {
   "cell_type": "code",
   "execution_count": null,
   "metadata": {},
   "outputs": [],
   "source": [
    "\"\"\"\n",
    "\n",
    "Design and implement a TwoSum class. It should support the following operations: add and find.\n",
    "\n",
    "add - Add the number to an internal data structure.\n",
    "find - Find if there exists any pair of numbers which sum is equal to the value.\n",
    "\n",
    "For example,\n",
    "add(1); add(3); add(5);\n",
    "find(4) -> true\n",
    "find(7) -> false\n",
    "\"\"\""
   ]
  },
  {
   "cell_type": "code",
   "execution_count": 8,
   "metadata": {},
   "outputs": [
    {
     "name": "stdout",
     "output_type": "stream",
     "text": [
      "None\n"
     ]
    }
   ],
   "source": [
    "from collections import defaultdict\n",
    "\n",
    "\"\"\"\n",
    "综述：\n",
    "\n",
    "这里的defaultdict(function_factory)构建的是一个类似dictionary的对象，\n",
    "其中keys的值，自行确定赋值，但是values的类型，是function_factory的类实例，\n",
    "而且具有默认值。比如default(int)则创建一个类似dictionary对象，\n",
    "里面任何的values都是int的实例，而且就算是一个不存在的key, \n",
    "d[key] 也有一个默认值，这个默认值是int()的默认值0.\n",
    "\"\"\"\n",
    "\n",
    "class TwoSum(object):\n",
    "\n",
    "    def __init__(self):\n",
    "        \"\"\"\n",
    "        initialize your data structure here\n",
    "        \"\"\"\n",
    "        self.numbers = defaultdict(int)\n",
    "\n",
    "    def add(self, number):\n",
    "        \"\"\"\n",
    "        Add the number to an internal data structure.\n",
    "        :rtype: nothing\n",
    "        \"\"\"\n",
    "        self.numbers[number]+=1\n",
    "\n",
    "    def find(self, value):\n",
    "        \"\"\"\n",
    "        Find if there exists any pair of numbers which sum is equal to the value.\n",
    "        :type value: int\n",
    "        :rtype: bool\n",
    "        \"\"\"\n",
    "        for n in self.numbers:\n",
    "            m = value-n\n",
    "            if m!=n and m in self.numbers:\n",
    "                return True\n",
    "            if m==n and self.numbers[n]>1:\n",
    "                return True\n",
    "        return False\n",
    "                \n",
    "\n",
    "# Your TwoSum object will be instantiated and called as such:\n",
    "twoSum = TwoSum()\n",
    "print(twoSum.add(1))\n",
    "# twoSum.add(3)\n",
    "# twoSum.find(3)"
   ]
  },
  {
   "cell_type": "code",
   "execution_count": null,
   "metadata": {},
   "outputs": [],
   "source": [
    "\"\"\"\n",
    "Premium Question\n",
    "\"\"\"\n",
    "from collections import defaultdict\n",
    "\n",
    "__author__ = 'Daniel'\n",
    "\n",
    "\n",
    "class TwoSum(object):\n",
    "    def __init__(self):\n",
    "        \"\"\"\n",
    "        initialize your data structure here\n",
    "        \"\"\"\n",
    "        self.hash_map = defaultdict(int)\n",
    "\n",
    "    def add(self, number):\n",
    "        \"\"\"\n",
    "        Add the number to an internal data structure.\n",
    "        :rtype: nothing\n",
    "        \"\"\"\n",
    "        self.hash_map[number] += 1\n",
    "\n",
    "    def find(self, value):\n",
    "        \"\"\"\n",
    "        Find if there exists any pair of numbers which sum is equal to the value.\n",
    "        :type value: int\n",
    "        :rtype: bool\n",
    "        \"\"\"\n",
    "        return any(\n",
    "            value-k in self.hash_map and (value-k != k or self.hash_map[k] > 1)\n",
    "            for k in self.hash_map\n",
    "        )\n",
    "\n",
    "    def find_TLE(self, value):\n",
    "        \"\"\"\n",
    "        Find if there exists any pair of numbers which sum is equal to the value.\n",
    "        :type value: int\n",
    "        :rtype: bool\n",
    "        \"\"\"\n",
    "        for k in self.hash_map.keys():\n",
    "            target = value - k\n",
    "            if target in self.hash_map and (target != k or self.hash_map[target] > 1):\n",
    "                return True\n",
    "\n",
    "        return False"
   ]
  },
  {
   "cell_type": "code",
   "execution_count": null,
   "metadata": {},
   "outputs": [],
   "source": []
  }
 ],
 "metadata": {
  "kernelspec": {
   "display_name": "Python 3",
   "language": "python",
   "name": "python3"
  },
  "language_info": {
   "codemirror_mode": {
    "name": "ipython",
    "version": 3
   },
   "file_extension": ".py",
   "mimetype": "text/x-python",
   "name": "python",
   "nbconvert_exporter": "python",
   "pygments_lexer": "ipython3",
   "version": "3.6.3"
  }
 },
 "nbformat": 4,
 "nbformat_minor": 2
}
