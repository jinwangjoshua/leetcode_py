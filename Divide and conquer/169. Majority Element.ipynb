{
 "cells": [
  {
   "cell_type": "code",
   "execution_count": null,
   "metadata": {},
   "outputs": [],
   "source": [
    "\"\"\"Given an array of size n, find the majority element. The majority element is the element that appears more than ⌊ n/2 ⌋ times.\n",
    "\n",
    "You may assume that the array is non-empty and the majority element always exist in the array.\n",
    "\n",
    "Example 1:\n",
    "\n",
    "Input: [3,2,3]\n",
    "Output: 3\n",
    "Example 2:\n",
    "\n",
    "Input: [2,2,1,1,1,2,2]\n",
    "Output: 2\n",
    "\"\"\""
   ]
  },
  {
   "cell_type": "code",
   "execution_count": 11,
   "metadata": {},
   "outputs": [
    {
     "data": {
      "text/plain": [
       "3"
      ]
     },
     "execution_count": 11,
     "metadata": {},
     "output_type": "execute_result"
    }
   ],
   "source": [
    "#先排序，取中间那一个：缺点没有考虑到没有的情况\n",
    "#Moore's Voting Algorithm\n",
    "\n",
    "#Boyer-Moore算法，设置两个变量majority和count，都设为0.依次遍历list。\n",
    "#如果count为0，则重选majority；如果当前数字和majority相等，count加一，否则减一。\n",
    "class Solution:\n",
    "    def majorityElement(self, nums):\n",
    "        \"\"\"\n",
    "        Algorithm:\n",
    "        O(n lgn) sort and take the middle one\n",
    "        O(n) Moore's Voting Algorithm\n",
    "        :type nums: list[int]\n",
    "        :rtype int\n",
    "        \"\"\"\n",
    "        mjr = nums[0]\n",
    "        cnt = 0\n",
    "        for i, v in enumerate(nums):\n",
    "            \n",
    "            if mjr == v:\n",
    "                cnt += 1\n",
    "            else:\n",
    "                cnt -= 1\n",
    "\n",
    "            if cnt < 0: #开始切换mjr\n",
    "                mjr = v\n",
    "                cnt = 1\n",
    "            \n",
    "\n",
    "        return mjr\n",
    "\n",
    "Solution().majorityElement([2,2,2,1,1,5,6,7,3,3,3,3])"
   ]
  },
  {
   "cell_type": "code",
   "execution_count": null,
   "metadata": {},
   "outputs": [],
   "source": [
    "class Solution:\n",
    "    def majorityElement(self, nums):\n",
    "        maj = nums[0]\n",
    "        cnt = 0\n",
    "        for num in nums:\n",
    "            if maj == num:\n",
    "                cnt +=1\n",
    "            else:\n",
    "                cnt -=1\n",
    "            if cnt<0: #重新开始\n",
    "                maj = num\n",
    "                cnt = 1\n",
    "        return maj\n",
    "\n"
   ]
  },
  {
   "cell_type": "code",
   "execution_count": null,
   "metadata": {},
   "outputs": [],
   "source": [
    "class Solution:\n",
    "    def majorityElement(self, nums):\n",
    "        \"\"\"\n",
    "        :type nums: List[int]\n",
    "        :rtype: int\n",
    "        \"\"\"\n",
    "        "
   ]
  },
  {
   "cell_type": "code",
   "execution_count": null,
   "metadata": {},
   "outputs": [],
   "source": []
  },
  {
   "cell_type": "code",
   "execution_count": null,
   "metadata": {},
   "outputs": [],
   "source": []
  },
  {
   "cell_type": "code",
   "execution_count": null,
   "metadata": {},
   "outputs": [],
   "source": []
  },
  {
   "cell_type": "code",
   "execution_count": null,
   "metadata": {},
   "outputs": [],
   "source": []
  }
 ],
 "metadata": {
  "kernelspec": {
   "display_name": "Python 3",
   "language": "python",
   "name": "python3"
  },
  "language_info": {
   "codemirror_mode": {
    "name": "ipython",
    "version": 3
   },
   "file_extension": ".py",
   "mimetype": "text/x-python",
   "name": "python",
   "nbconvert_exporter": "python",
   "pygments_lexer": "ipython3",
   "version": "3.6.3"
  }
 },
 "nbformat": 4,
 "nbformat_minor": 2
}
