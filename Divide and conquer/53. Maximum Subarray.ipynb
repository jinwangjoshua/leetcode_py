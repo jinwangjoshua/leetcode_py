{
 "cells": [
  {
   "cell_type": "code",
   "execution_count": null,
   "metadata": {},
   "outputs": [],
   "source": [
    "\"\"\"Given an integer array nums, find the contiguous subarray (containing at least one number) \n",
    "which has the largest sum and return its sum.\n",
    "\n",
    "Example:\n",
    "\n",
    "Input: [-2,1,-3,4,-1,2,1,-5,4],\n",
    "Output: 6\n",
    "Explanation: [4,-1,2,1] has the largest sum = 6.\n",
    "Follow up:\n",
    "\n",
    "If you have figured out the O(n) solution, \n",
    "try coding another solution using the divide and conquer approach, which is more subtle.\"\"\""
   ]
  },
  {
   "cell_type": "code",
   "execution_count": 36,
   "metadata": {},
   "outputs": [
    {
     "data": {
      "text/plain": [
       "6"
      ]
     },
     "execution_count": 36,
     "metadata": {},
     "output_type": "execute_result"
    }
   ],
   "source": [
    "#用两个变量分别记录最大和最小\n",
    "#然后用一个实时记录max\n",
    "\n",
    "class Solution:\n",
    "\n",
    "    def maxSubArray(self, nums):\n",
    "        if nums is None or len(nums) == 0:\n",
    "            return 0\n",
    "        maxSum = nums[0]\n",
    "        minSum = 0\n",
    "        sum1 = 0\n",
    "        for num in nums:\n",
    "            sum1 += num\n",
    "            if sum1 - minSum > maxSum:   #上限是实实在在到上限\n",
    "                maxSum = sum1 - minSum\n",
    "            if sum1 < minSum:\n",
    "                minSum = sum1   \n",
    "#             print(sum1, minSum, maxSum)   \n",
    "        return maxSum\n",
    "#其实这个下限是从一开始以来到中间某一个n下限（从），sum是从一开始以来的和，那么sum-minsum就是中间某个n开始到现在最大\n",
    "         \n",
    "    \n",
    "Solution().maxSubArray([-2,1,-3,4,-1,2,1,-5,4])"
   ]
  },
  {
   "cell_type": "code",
   "execution_count": null,
   "metadata": {},
   "outputs": [],
   "source": [
    "class Solution:\n",
    "    def maxSubArray(self, nums):\n",
    "        if nums is None or len(nums)==0:\n",
    "            return 0\n",
    "        maxSum = nums[0]\n",
    "        minSum = 0\n",
    "        sum1 = 0\n",
    "        for num in nums:\n",
    "            sum1 += num\n",
    "            if sum1 - minSum >= maxSum:\n",
    "                maxSum = sum1 - minSum\n",
    "            if sum1 < minSum:\n",
    "                minSum = sum1\n",
    "        \n",
    "        return maxSum\n",
    "                "
   ]
  },
  {
   "cell_type": "code",
   "execution_count": null,
   "metadata": {},
   "outputs": [],
   "source": []
  },
  {
   "cell_type": "code",
   "execution_count": null,
   "metadata": {},
   "outputs": [],
   "source": []
  },
  {
   "cell_type": "code",
   "execution_count": null,
   "metadata": {},
   "outputs": [],
   "source": []
  },
  {
   "cell_type": "code",
   "execution_count": null,
   "metadata": {},
   "outputs": [],
   "source": [
    "\n",
    "\"\"\"事实上，当我们令currSum为当前最大子数组的和，maxSum为最后要返回的最大子数组的和，当我们往后扫描时，\n",
    "\n",
    "对第j+1个元素有两种选择：要么放入前面找到的子数组，要么做为新子数组的第一个元素；\n",
    "如果currSum加上当前元素a[j]后不小于a[j]，则令currSum加上a[j]，否则currSum重新赋值，置为下一个元素，即currSum = a[j]。\n",
    "同时，当currSum > maxSum，则更新maxSum = currSum，否则保持原值，不更新。\"\"\""
   ]
  },
  {
   "cell_type": "code",
   "execution_count": null,
   "metadata": {},
   "outputs": [],
   "source": []
  }
 ],
 "metadata": {
  "kernelspec": {
   "display_name": "Python 3",
   "language": "python",
   "name": "python3"
  },
  "language_info": {
   "codemirror_mode": {
    "name": "ipython",
    "version": 3
   },
   "file_extension": ".py",
   "mimetype": "text/x-python",
   "name": "python",
   "nbconvert_exporter": "python",
   "pygments_lexer": "ipython3",
   "version": "3.6.3"
  }
 },
 "nbformat": 4,
 "nbformat_minor": 2
}
