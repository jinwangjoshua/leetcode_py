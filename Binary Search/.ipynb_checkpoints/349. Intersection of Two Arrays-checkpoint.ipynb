{
 "cells": [
  {
   "cell_type": "code",
   "execution_count": null,
   "metadata": {},
   "outputs": [],
   "source": [
    "\"\"\"Given two arrays, write a function to compute their intersection.\n",
    "\n",
    "Example:\n",
    "Given nums1 = [1, 2, 2, 1], nums2 = [2, 2], return [2].\n",
    "\n",
    "Note:\n",
    "Each element in the result must be unique.\n",
    "The result can be in any order.\"\"\""
   ]
  },
  {
   "cell_type": "code",
   "execution_count": null,
   "metadata": {},
   "outputs": [],
   "source": [
    "#最好的方法，排序之后二分查找\n",
    "\n",
    "    def intersection_3(self, nums1, nums2):\n",
    "        # idea: binary search + hash set\n",
    "        result = set()\n",
    "        if len(nums1) > len(nums2):\n",
    "            s_nums = nums2\n",
    "            b_nums = nums1\n",
    "        else:\n",
    "            s_nums = nums1\n",
    "            b_nums = nums2\n",
    "\n",
    "        s_nums.sort()\n",
    "        for num in b_nums:\n",
    "            if self.binary_seach(s_nums, num):\n",
    "                result.add(num)\n",
    "        return list(result)\n",
    "\n",
    "\n",
    "    def binary_seach(self, nums, target):\n",
    "        if not nums or len(nums) == 0:\n",
    "            return False\n",
    "\n",
    "        start, end = 0, len(nums) -1\n",
    "        while start + 1 < end:\n",
    "            middle = start + (end - start) // 2\n",
    "\n",
    "            if nums[middle] <= target:\n",
    "                start = middle\n",
    "            elif nums[middle] > target:\n",
    "                end = middle\n",
    "\n",
    "        if nums[end] == target or nums[start] == target:\n",
    "            return True\n",
    "        return False\n",
    "#用字母顺序更好，因为就不用管数字是不是整数了"
   ]
  },
  {
   "cell_type": "code",
   "execution_count": 10,
   "metadata": {},
   "outputs": [
    {
     "data": {
      "text/plain": [
       "False"
      ]
     },
     "execution_count": 10,
     "metadata": {},
     "output_type": "execute_result"
    }
   ],
   "source": [
    "def bs(nums, target):\n",
    "    if not nums or len(nums)==0:\n",
    "        return False\n",
    "    \n",
    "    start, end = 0, len(nums)\n",
    "    while start + 1< end:\n",
    "        mid =  int((start+end)/2)\n",
    "        if nums[mid] == target:\n",
    "            return True\n",
    "        elif nums[mid] <target:\n",
    "            start = mid\n",
    "        elif nums[mid] > target:\n",
    "            end = mid\n",
    "    if nums[start]==target or nums[end-1]== target:\n",
    "        return True\n",
    "    return False\n",
    "bs([1,2,34],5)\n",
    "        "
   ]
  },
  {
   "cell_type": "code",
   "execution_count": null,
   "metadata": {},
   "outputs": [],
   "source": []
  },
  {
   "cell_type": "code",
   "execution_count": 3,
   "metadata": {},
   "outputs": [],
   "source": [
    "class Solution:\n",
    "    def intersection(self, nums1, nums2):\n",
    "        \"\"\"\n",
    "        :type nums1: List[int]\n",
    "        :type nums2: List[int]\n",
    "        :rtype: List[int]\n",
    "        \"\"\"\n",
    "        re = set()\n",
    "        for i in nums2:\n",
    "            if i in nums1:\n",
    "                re.add(i)\n",
    "        return list(re)"
   ]
  },
  {
   "cell_type": "code",
   "execution_count": 2,
   "metadata": {},
   "outputs": [
    {
     "data": {
      "text/plain": [
       "['s', 's']"
      ]
     },
     "execution_count": 2,
     "metadata": {},
     "output_type": "execute_result"
    }
   ],
   "source": [
    "\"\"\"使用了四個解法來完成\n",
    "\n",
    "hash set.\n",
    "python build in set operation.\n",
    "binary search + hash set.\n",
    "sort + two pointers\n",
    "\"\"\"\n",
    "\n",
    "\n",
    "class Solution:\n",
    "\n",
    "    \"\"\"\n",
    "    @param: nums1: an integer array\n",
    "    @param: nums2: an integer array\n",
    "    @return: an integer array\n",
    "    \"\"\"\n",
    "    def intersection_1(self, nums1, nums2):\n",
    "        # idea: hash set\n",
    "        unique = set(nums1)\n",
    "        result = []\n",
    "        for num in nums2:\n",
    "            if num in unique:\n",
    "                result.append(num)\n",
    "                unique.discard(num)\n",
    "        return result\n",
    "\n",
    "\n",
    "    def intersection_2(self, nums1, nums2):\n",
    "        return list(set(nums1) & set(nums2))\n",
    "\n",
    "\n",
    "    def intersection_3(self, nums1, nums2):\n",
    "        # idea: binary search + hash set\n",
    "        result = set()\n",
    "        if len(nums1) > len(nums2):\n",
    "            s_nums = nums2\n",
    "            b_nums = nums1\n",
    "        else:\n",
    "            s_nums = nums1\n",
    "            b_nums = nums2\n",
    "\n",
    "        s_nums.sort()\n",
    "        for num in b_nums:\n",
    "            if self.binary_seach(s_nums, num):\n",
    "                result.add(num)\n",
    "        return list(result)\n",
    "\n",
    "\n",
    "    def binary_seach(self, nums, target):\n",
    "        if not nums or len(nums) == 0:\n",
    "            return False\n",
    "\n",
    "        start, end = 0, len(nums) -1\n",
    "        while start + 1 < end:\n",
    "            middle = start + (end - start) // 2\n",
    "\n",
    "            if nums[middle] <= target:\n",
    "                start = middle\n",
    "            elif nums[middle] > target:\n",
    "                end = middle\n",
    "\n",
    "        if nums[end] == target or nums[start] == target:\n",
    "            return True\n",
    "        return False\n",
    "\n",
    "\n",
    "    def intersection_4(self, nums1, nums2):\n",
    "        # idea: two pointers \n",
    "        nums1.sort()\n",
    "        nums2.sort()\n",
    "        result = []\n",
    "\n",
    "        i, j = 0, 0\n",
    "        while i < len(nums1) and j < len(nums2):\n",
    "            if nums1[i] == nums2[j]:\n",
    "                result.append(nums1[i])\n",
    "                i += 1\n",
    "                j += 1\n",
    "                while i < len(nums1) and nums1[i] == nums1[i - 1]:\n",
    "                    i += 1\n",
    "                while j < len(nums2) and nums2[j] == nums2[j - 1]:\n",
    "                    j += 1\n",
    "                    \n",
    "            elif nums1[i] > nums2[j]:\n",
    "                j += 1\n",
    "            else:\n",
    "                i += 1\n",
    "\n",
    "        return result"
   ]
  },
  {
   "cell_type": "code",
   "execution_count": null,
   "metadata": {},
   "outputs": [],
   "source": []
  },
  {
   "cell_type": "code",
   "execution_count": null,
   "metadata": {},
   "outputs": [],
   "source": []
  }
 ],
 "metadata": {
  "kernelspec": {
   "display_name": "Python 3",
   "language": "python",
   "name": "python3"
  },
  "language_info": {
   "codemirror_mode": {
    "name": "ipython",
    "version": 3
   },
   "file_extension": ".py",
   "mimetype": "text/x-python",
   "name": "python",
   "nbconvert_exporter": "python",
   "pygments_lexer": "ipython3",
   "version": "3.6.3"
  }
 },
 "nbformat": 4,
 "nbformat_minor": 2
}
