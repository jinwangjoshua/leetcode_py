{
 "cells": [
  {
   "cell_type": "code",
   "execution_count": null,
   "metadata": {},
   "outputs": [],
   "source": [
    "\"\"\"An image is represented by a 2-D array of integers, each integer representing the pixel value of the image (from 0 to 65535).\n",
    "\n",
    "Given a coordinate (sr, sc) representing the starting pixel (row and column) of the flood fill, and a pixel value newColor, \"flood fill\" the image.\n",
    "\n",
    "To perform a \"flood fill\", consider the starting pixel, plus any pixels connected 4-directionally to the starting pixel of the same color as the starting pixel, plus any pixels connected 4-directionally to those pixels (also with the same color as the starting pixel), and so on. Replace the color of all of the aforementioned pixels with the newColor.\n",
    "\n",
    "At the end, return the modified image.\n",
    "\n",
    "Example 1:\n",
    "Input: \n",
    "image = [[1,1,1],[1,1,0],[1,0,1]]\n",
    "sr = 1, sc = 1, newColor = 2\n",
    "Output: [[2,2,2],[2,2,0],[2,0,1]]\n",
    "Explanation: \n",
    "From the center of the image (with position (sr, sc) = (1, 1)), all pixels connected \n",
    "by a path of the same color as the starting pixel are colored with the new color.\n",
    "Note the bottom corner is not colored 2, because it is not 4-directionally connected\n",
    "to the starting pixel.\"\"\""
   ]
  },
  {
   "cell_type": "code",
   "execution_count": 31,
   "metadata": {},
   "outputs": [],
   "source": [
    "# 洪水填充算法:就是把和给定的点联通的区域全部染色\n",
    "\n",
    "# 解题思路：\n",
    "# 模板题，BFS或者DFS均可\n",
    "\n",
    "# Python代码（BFS）：\n",
    "class Solution(object):\n",
    "    def floodFill(self, image, sr, sc, newColor):\n",
    "        \"\"\"\n",
    "        :type image: List[List[int]]\n",
    "        :type sr: int\n",
    "        :type sc: int\n",
    "        :type newColor: int\n",
    "        :rtype: List[List[int]]\n",
    "        \"\"\"\n",
    "        dxs = [1, 0, -1, 0]\n",
    "        dys = [0, 1, 0, -1]\n",
    "        queue = [(sr, sc)]\n",
    "        oldColor = image[sr][sc]\n",
    "        image[sr][sc] = newColor    #先把第一个点填充了\n",
    "        while queue:\n",
    "            print(queue)\n",
    "            x, y = queue.pop(0)   #把老的pop出去\n",
    "            for dx, dy in zip(dxs, dys):\n",
    "                nx, ny = x + dx, y + dy\n",
    "                if 0 <= nx < len(image) and 0 <= ny < len(image[0]):   #这个是给定的\n",
    "                    if image[nx][ny] != newColor and image[nx][ny] == oldColor:\n",
    "                        image[nx][ny] = newColor\n",
    "                        queue.append((nx, ny))\n",
    "        return image\n",
    "# Solution().floodFill([[1,1,1],[1,1,0],[1,0,1]],1,1,2)"
   ]
  },
  {
   "cell_type": "code",
   "execution_count": null,
   "metadata": {},
   "outputs": [],
   "source": [
    "class Solution():\n",
    "    def floodFill(self, image, sr, sc, newColor):\n",
    "        queue = [(sr, sc)]\n",
    "        oldColor = image[sr][sc]\n",
    "        image[sr][sc] = newColor\n",
    "        while queue:\n",
    "            x, y = queue.pop(0)\n",
    "            for dx, dy in [(1,0),(0,1),(-1,0),(0,-1)]:\n",
    "                nx, ny = x + dx, y + dy\n",
    "                if 0 <= nx <len(image) and 0<= ny<len(image[0]):\n",
    "                    if image[nx][ny] != newColor and image[nx][ny] == oldColor:\n",
    "                        image[nx][ny] = newColor\n",
    "                        queue.append((nx, ny))\n",
    "        return image"
   ]
  },
  {
   "cell_type": "code",
   "execution_count": 32,
   "metadata": {},
   "outputs": [
    {
     "name": "stdout",
     "output_type": "stream",
     "text": [
      "1 0\n",
      "0 1\n",
      "-1 0\n",
      "0 -1\n"
     ]
    }
   ],
   "source": [
    "for dx, dy in [(1,0),(0,1),(-1,0),(0,-1)]:\n",
    "    print(dx,  dy)"
   ]
  },
  {
   "cell_type": "code",
   "execution_count": null,
   "metadata": {},
   "outputs": [],
   "source": []
  },
  {
   "cell_type": "code",
   "execution_count": null,
   "metadata": {},
   "outputs": [],
   "source": []
  },
  {
   "cell_type": "code",
   "execution_count": null,
   "metadata": {},
   "outputs": [],
   "source": []
  },
  {
   "cell_type": "code",
   "execution_count": null,
   "metadata": {},
   "outputs": [],
   "source": []
  },
  {
   "cell_type": "code",
   "execution_count": null,
   "metadata": {},
   "outputs": [],
   "source": []
  },
  {
   "cell_type": "code",
   "execution_count": null,
   "metadata": {},
   "outputs": [],
   "source": []
  }
 ],
 "metadata": {
  "kernelspec": {
   "display_name": "Python 3",
   "language": "python",
   "name": "python3"
  },
  "language_info": {
   "codemirror_mode": {
    "name": "ipython",
    "version": 3
   },
   "file_extension": ".py",
   "mimetype": "text/x-python",
   "name": "python",
   "nbconvert_exporter": "python",
   "pygments_lexer": "ipython3",
   "version": "3.6.3"
  }
 },
 "nbformat": 4,
 "nbformat_minor": 2
}
