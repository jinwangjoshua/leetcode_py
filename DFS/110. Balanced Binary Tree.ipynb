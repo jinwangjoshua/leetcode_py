{
 "cells": [
  {
   "cell_type": "code",
   "execution_count": null,
   "metadata": {},
   "outputs": [],
   "source": [
    "\"\"\"Given a binary tree, determine if it is height-balanced.\n",
    "\n",
    "For this problem, a height-balanced binary tree is defined as:\n",
    "\n",
    "a binary tree in which the depth of the two subtrees of every node never differ by more than 1.\n",
    "\n",
    "Example 1:\n",
    "\n",
    "Given the following tree [3,9,20,null,null,15,7]:\n",
    "\n",
    "    3\n",
    "   / \\\n",
    "  9  20\n",
    "    /  \\\n",
    "   15   7\"\"\""
   ]
  },
  {
   "cell_type": "code",
   "execution_count": null,
   "metadata": {},
   "outputs": [],
   "source": [
    "\"\"\"\n",
    "Definition of TreeNode:\n",
    "class TreeNode:\n",
    "    def __init__(self, val):\n",
    "        this.val = val\n",
    "        this.left, this.right = None, None\n",
    "\"\"\"\n",
    "class Solution:\n",
    "    \"\"\"\n",
    "    @param root: The root of binary tree.\n",
    "    @return: True if this Binary tree is Balanced, or false.\n",
    "    \"\"\"\n",
    "    def isBalanced(self, root):\n",
    "        balanced, _ = self.validate(root)\n",
    "        return balanced\n",
    "        \n",
    "    def validate(self, root):\n",
    "        if root is None:\n",
    "            return True, 0\n",
    "            \n",
    "        balanced, leftHeight = self.validate(root.left)\n",
    "        if not balanced:\n",
    "            return False, 0\n",
    "        balanced, rightHeight = self.validate(root.right)\n",
    "        if not balanced:\n",
    "            return False, 0\n",
    "            \n",
    "        return abs(leftHeight - rightHeight) <= 1, max(leftHeight, rightHeight) + 1"
   ]
  },
  {
   "cell_type": "code",
   "execution_count": null,
   "metadata": {},
   "outputs": [],
   "source": [
    "class Solution:\n",
    "    def isBalanced(self, root):\n",
    "        balanced, _ = self.validate(root)\n",
    "        return balanced\n",
    "    def validate(self, root):\n",
    "        if root is None:\n",
    "            return True, 0\n",
    "        balanced, leftHeight = self.validate(root.left)\n",
    "        if not balanced:\n",
    "            return False, 0\n",
    "        balanced, rightHeight = self.validate(root.right)\n",
    "        if not balanced:\n",
    "            return False, 0\n",
    "        \n",
    "        return abs(leftHeight - rightHeight)<=1, max(leftHeight, rightHeight) + 1 \n",
    "    "
   ]
  },
  {
   "cell_type": "code",
   "execution_count": null,
   "metadata": {},
   "outputs": [],
   "source": []
  },
  {
   "cell_type": "code",
   "execution_count": null,
   "metadata": {},
   "outputs": [],
   "source": []
  },
  {
   "cell_type": "code",
   "execution_count": null,
   "metadata": {},
   "outputs": [],
   "source": []
  },
  {
   "cell_type": "code",
   "execution_count": null,
   "metadata": {},
   "outputs": [],
   "source": []
  },
  {
   "cell_type": "code",
   "execution_count": null,
   "metadata": {},
   "outputs": [],
   "source": []
  }
 ],
 "metadata": {
  "kernelspec": {
   "display_name": "Python 3",
   "language": "python",
   "name": "python3"
  },
  "language_info": {
   "codemirror_mode": {
    "name": "ipython",
    "version": 3
   },
   "file_extension": ".py",
   "mimetype": "text/x-python",
   "name": "python",
   "nbconvert_exporter": "python",
   "pygments_lexer": "ipython3",
   "version": "3.6.3"
  }
 },
 "nbformat": 4,
 "nbformat_minor": 2
}
