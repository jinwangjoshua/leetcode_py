{
 "cells": [
  {
   "cell_type": "code",
   "execution_count": null,
   "metadata": {},
   "outputs": [],
   "source": [
    "\"\"\"Given a binary tree, return all root-to-leaf paths.\n",
    "\n",
    "Note: A leaf is a node with no children.\n",
    "\n",
    "Example:\n",
    "\n",
    "Input:\n",
    "\n",
    "   1\n",
    " /   \\\n",
    "2     3\n",
    " \\\n",
    "  5\n",
    "\n",
    "Output: [\"1->2->5\", \"1->3\"]\n",
    "\n",
    "Explanation: All root-to-leaf paths are: 1->2->5, 1->3\"\"\""
   ]
  },
  {
   "cell_type": "code",
   "execution_count": null,
   "metadata": {},
   "outputs": [],
   "source": [
    "#dfs树的遍历\n",
    "\n",
    "# Definition for a binary tree node.\n",
    "# class TreeNode:\n",
    "#     def __init__(self, x):\n",
    "#         self.val = x\n",
    "#         self.left = None\n",
    "#         self.right = None\n",
    "#重点 ans需要self\n",
    "class Solution:\n",
    "    # @param {TreeNode} root\n",
    "    # @return {string[]}\n",
    "    def binaryTreePaths(self, root):\n",
    "        self.ans = []\n",
    "        if root is None:\n",
    "            return self.ans\n",
    "        def dfs(root, path):\n",
    "            if root.left is None and root.right is None:\n",
    "                self.ans += path,\n",
    "            if root.left:\n",
    "                dfs(root.left, path + \"->\" + str(root.left.val))\n",
    "            if root.right:\n",
    "                dfs(root.right, path + \"->\" + str(root.right.val))\n",
    "        dfs(root, str(root.val))\n",
    "        return self.ans"
   ]
  },
  {
   "cell_type": "code",
   "execution_count": null,
   "metadata": {},
   "outputs": [],
   "source": [
    "class Solution:\n",
    "    def binaryTreePaths(self, root):\n",
    "        self.ans = []\n",
    "        if root is None:\n",
    "            return self.ans\n",
    "        def dfs(root, path):\n",
    "            if root.left is None and root.right is None:\n",
    "                self.ans += path, #为什么这个逗号加不加就不一样\n",
    "            if root.left:\n",
    "                dfs(root.left, path+'->'+str(root.left.val))\n",
    "            if root.right:\n",
    "                dfs(root.right, path+'->'+str(root.right.val))\n",
    "        dfs(root, str(root.val))\n",
    "        return self.ans\n",
    "        "
   ]
  },
  {
   "cell_type": "code",
   "execution_count": null,
   "metadata": {},
   "outputs": [],
   "source": [
    "# 这个是bfs\n",
    "\n",
    "\n",
    "# Definition for a binary tree node.\n",
    "# class TreeNode:\n",
    "#     def __init__(self, x):\n",
    "#         self.val = x\n",
    "#         self.left = None\n",
    "#         self.right = None\n",
    "\n",
    "class Solution:\n",
    "    # @param {TreeNode} root\n",
    "    # @return {string[]}\n",
    "    def binaryTreePaths(self, root):\n",
    "        from collections import deque\n",
    "        if root is None:\n",
    "            return []\n",
    "        queue = deque( [ [root, str(root.val)] ] )\n",
    "        ans = []\n",
    "        while queue:\n",
    "            front, path = queue.popleft()\n",
    "            if front.left is None and front.right is None:\n",
    "                ans += path,\n",
    "                continue\n",
    "            if front.left:\n",
    "                queue += [front.left, path + \"->\" + str(front.left.val)],\n",
    "            if front.right:\n",
    "                queue += [front.right, path + \"->\" + str(front.right.val)],\n",
    "        return ans"
   ]
  },
  {
   "cell_type": "code",
   "execution_count": null,
   "metadata": {},
   "outputs": [],
   "source": []
  },
  {
   "cell_type": "code",
   "execution_count": null,
   "metadata": {},
   "outputs": [],
   "source": []
  }
 ],
 "metadata": {
  "kernelspec": {
   "display_name": "Python 3",
   "language": "python",
   "name": "python3"
  },
  "language_info": {
   "codemirror_mode": {
    "name": "ipython",
    "version": 3
   },
   "file_extension": ".py",
   "mimetype": "text/x-python",
   "name": "python",
   "nbconvert_exporter": "python",
   "pygments_lexer": "ipython3",
   "version": "3.6.3"
  }
 },
 "nbformat": 4,
 "nbformat_minor": 2
}
