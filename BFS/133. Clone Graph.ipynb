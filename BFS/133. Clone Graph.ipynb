{
 "cells": [
  {
   "cell_type": "code",
   "execution_count": null,
   "metadata": {},
   "outputs": [],
   "source": [
    "\"\"\"Clone an undirected graph. Each node in the graph contains a label and a list of its neighbors.\n",
    "\n",
    "\n",
    "OJ's undirected graph serialization:\n",
    "Nodes are labeled uniquely.\n",
    "\n",
    "We use # as a separator for each node, and , as a separator for node label and each neighbor of the node.\n",
    "As an example, consider the serialized graph {0,1,2#1,2#2,2}.\n",
    "\n",
    "The graph has a total of three nodes, and therefore contains three parts as separated by #.\n",
    "\n",
    "First node is labeled as 0. Connect node 0 to both nodes 1 and 2.\n",
    "Second node is labeled as 1. Connect node 1 to node 2.\n",
    "Third node is labeled as 2. Connect node 2 to node 2 (itself), thus forming a self-cycle.\n",
    "Visually, the graph looks like the following:\n",
    "\n",
    "       1\n",
    "      / \\\n",
    "     /   \\\n",
    "    0 --- 2\n",
    "         / \\\n",
    "         \\_/\n",
    "\"\"\""
   ]
  },
  {
   "cell_type": "code",
   "execution_count": null,
   "metadata": {},
   "outputs": [],
   "source": [
    "class Solution:\n",
    "    # @param node, a undirected graph node\n",
    "    # @return a undirected graph node\n",
    "    def cloneGraph(self, node):\n",
    "        if node is None:\n",
    "            return None\n",
    "        needle = UndirectedGraphNode(node.label)\n",
    "        nodeDict = {node.label : needle}\n",
    "        stack = [node]\n",
    "        while stack:\n",
    "            top = stack.pop()\n",
    "            cnode = nodeDict[top.label]\n",
    "            for n in top.neighbors:\n",
    "                if n.label not in nodeDict:\n",
    "                    nodeDict[n.label] = UndirectedGraphNode(n.label)\n",
    "                    stack.append(n)\n",
    "                cnode.neighbors.append(nodeDict[n.label])\n",
    "        return needle"
   ]
  },
  {
   "cell_type": "code",
   "execution_count": null,
   "metadata": {},
   "outputs": [],
   "source": [
    "class Solution:\n",
    "    def cloneGraph(self, node):\n",
    "        if node is None:\n",
    "            return None\n",
    "        needle = UndirectedGraphNode(node.label)\n",
    "        nodeDict = {node.label:needle}\n",
    "        stack = []\n",
    "        while stack:\n",
    "            top = stack.pop()\n",
    "            cnode = nodeDict[top.label]\n",
    "            for n in top.neighbors:\n",
    "                if n.label not in nodeDict:\n",
    "                    nodeDict[n.label] = UndirectedGraphNode(n.label)\n",
    "                    stack.append(n)\n",
    "                cnode.neighbors.append(nodeDict[n.label])\n",
    "        return needle"
   ]
  },
  {
   "cell_type": "code",
   "execution_count": null,
   "metadata": {},
   "outputs": [],
   "source": []
  },
  {
   "cell_type": "code",
   "execution_count": null,
   "metadata": {},
   "outputs": [],
   "source": []
  },
  {
   "cell_type": "code",
   "execution_count": null,
   "metadata": {},
   "outputs": [],
   "source": []
  },
  {
   "cell_type": "code",
   "execution_count": null,
   "metadata": {},
   "outputs": [],
   "source": []
  },
  {
   "cell_type": "code",
   "execution_count": null,
   "metadata": {},
   "outputs": [],
   "source": []
  },
  {
   "cell_type": "code",
   "execution_count": null,
   "metadata": {},
   "outputs": [],
   "source": []
  }
 ],
 "metadata": {
  "kernelspec": {
   "display_name": "Python 3",
   "language": "python",
   "name": "python3"
  },
  "language_info": {
   "codemirror_mode": {
    "name": "ipython",
    "version": 3
   },
   "file_extension": ".py",
   "mimetype": "text/x-python",
   "name": "python",
   "nbconvert_exporter": "python",
   "pygments_lexer": "ipython3",
   "version": "3.6.3"
  }
 },
 "nbformat": 4,
 "nbformat_minor": 2
}
