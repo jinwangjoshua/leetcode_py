{
 "cells": [
  {
   "cell_type": "code",
   "execution_count": null,
   "metadata": {},
   "outputs": [],
   "source": [
    "\"\"\"Given a binary tree, return the bottom-up level order traversal of its nodes' values. (ie, from left to right, level by level from leaf to root).\n",
    "\n",
    "For example:\n",
    "Given binary tree [3,9,20,null,null,15,7],\n",
    "    3\n",
    "   / \\\n",
    "  9  20\n",
    "    /  \\\n",
    "   15   7\n",
    "return its bottom-up level order traversal as:\n",
    "[\n",
    "  [15,7],\n",
    "  [9,20],\n",
    "  [3]\n",
    "]\n",
    "\"\"\""
   ]
  },
  {
   "cell_type": "code",
   "execution_count": null,
   "metadata": {},
   "outputs": [],
   "source": [
    "# Definition for a binary tree node.\n",
    "# class TreeNode:\n",
    "#     def __init__(self, x):\n",
    "#         self.val = x\n",
    "#         self.left = None\n",
    "#         self.right = None\n",
    "\n",
    "\n",
    "class Solution:\n",
    "    \"\"\"\n",
    "    @param root: The root of binary tree.\n",
    "    @return: buttom-up level order in a list of lists of integers\n",
    "    \"\"\"\n",
    "    def levelOrderBottom(self, root):\n",
    "        # write your code here\n",
    "        results = []\n",
    "        if not root:\n",
    "            return results\n",
    "        q = [root]\n",
    "        while q:\n",
    "            new_q = []\n",
    "            results.append([n.val for n in q])\n",
    "            for node in q:\n",
    "                if node.left:\n",
    "                    new_q.append(node.left)\n",
    "                if node.right:\n",
    "                    new_q.append(node.right)\n",
    "            q = new_q\n",
    "        return list(reversed(results))"
   ]
  },
  {
   "cell_type": "code",
   "execution_count": 4,
   "metadata": {},
   "outputs": [],
   "source": [
    "class Solution:\n",
    "    def levelOrderBottom(self, root):\n",
    "        results = []\n",
    "        if not root:\n",
    "            return results\n",
    "        q = [root]\n",
    "        while q:\n",
    "            new_q = []\n",
    "            results.append([n.val for n in q])\n",
    "            for node in q:\n",
    "                if node.left:\n",
    "                    new_q.append(node.left)\n",
    "                if node.right:\n",
    "                    new_q.append(node.right)\n",
    "            q = new_q\n",
    "        return list(reversed(results))"
   ]
  },
  {
   "cell_type": "code",
   "execution_count": null,
   "metadata": {},
   "outputs": [],
   "source": []
  },
  {
   "cell_type": "code",
   "execution_count": null,
   "metadata": {},
   "outputs": [],
   "source": [
    "class Solution:\n",
    "    \"\"\"\n",
    "    @param: root: A tree\n",
    "    @return: buttom-up level order a list of lists of integer\n",
    "    \"\"\"\n",
    "    def levelOrderBottom(self, root):\n",
    "        ans = []\n",
    "        if not root:\n",
    "            return ans\n",
    "\n",
    "        preorder = [(root, 1)]\n",
    "        self.dfs(root, ans, preorder, 0)\n",
    "\n",
    "        \"\"\"\n",
    "        cannot do append in dfs,\n",
    "        since it may be the deepest node is at right child\n",
    "        \"\"\"\n",
    "        height = len(ans)\n",
    "        for node, level in preorder:\n",
    "            ans[height - level].append(node.val)\n",
    "\n",
    "        return ans\n",
    "\n",
    "    def dfs(self, node, ans, preorder, parent_at):\n",
    "        if len(ans) < preorder[parent_at][1]:\n",
    "            ans.append([])\n",
    "\n",
    "        depth = preorder[parent_at][1] + 1\n",
    "\n",
    "        if node.left:\n",
    "            preorder.append((node.left, depth))\n",
    "            self.dfs(node.left, ans, preorder, len(preorder) - 1)\n",
    "\n",
    "        if node.right:\n",
    "            preorder.append((node.right, depth))\n",
    "            self.dfs(node.right, ans, preorder, len(preorder) - 1)"
   ]
  },
  {
   "cell_type": "code",
   "execution_count": null,
   "metadata": {},
   "outputs": [],
   "source": []
  },
  {
   "cell_type": "code",
   "execution_count": null,
   "metadata": {},
   "outputs": [],
   "source": []
  },
  {
   "cell_type": "code",
   "execution_count": null,
   "metadata": {},
   "outputs": [],
   "source": []
  },
  {
   "cell_type": "code",
   "execution_count": null,
   "metadata": {},
   "outputs": [],
   "source": []
  },
  {
   "cell_type": "code",
   "execution_count": null,
   "metadata": {},
   "outputs": [],
   "source": []
  }
 ],
 "metadata": {
  "kernelspec": {
   "display_name": "Python 3",
   "language": "python",
   "name": "python3"
  },
  "language_info": {
   "codemirror_mode": {
    "name": "ipython",
    "version": 3
   },
   "file_extension": ".py",
   "mimetype": "text/x-python",
   "name": "python",
   "nbconvert_exporter": "python",
   "pygments_lexer": "ipython3",
   "version": "3.6.3"
  }
 },
 "nbformat": 4,
 "nbformat_minor": 2
}
