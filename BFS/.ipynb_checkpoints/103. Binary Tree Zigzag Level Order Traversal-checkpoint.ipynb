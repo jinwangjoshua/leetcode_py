{
 "cells": [
  {
   "cell_type": "code",
   "execution_count": null,
   "metadata": {},
   "outputs": [],
   "source": [
    "\"\"\"Given a binary tree, return the zigzag level order traversal of its nodes' values. (ie, from left to right, then right to left for the next level and alternate between).\n",
    "\n",
    "For example:\n",
    "Given binary tree [3,9,20,null,null,15,7],\n",
    "    3\n",
    "   / \\\n",
    "  9  20\n",
    "    /  \\\n",
    "   15   7\n",
    "return its zigzag level order traversal as:\n",
    "[\n",
    "  [3],\n",
    "  [20,9],\n",
    "  [15,7]\n",
    "]\"\"\""
   ]
  },
  {
   "cell_type": "code",
   "execution_count": null,
   "metadata": {},
   "outputs": [],
   "source": [
    "class Solution:\n",
    "    \"\"\"\n",
    "    @param root: The root of binary tree.\n",
    "    @return: A list of list of integer include \n",
    "             the zig zag level order traversal of its nodes' values\n",
    "    \"\"\"\n",
    "    def preorder(self, root, level, res):\n",
    "        if root:\n",
    "            if len(res) < level+1: res.append([])   #初始化\n",
    "            if level % 2 == 0: \n",
    "                res[level].append(root.val)\n",
    "            else: \n",
    "                res[level].insert(0, root.val)\n",
    "            self.preorder(root.left, level+1, res)\n",
    "            self.preorder(root.right, level+1, res)\n",
    "    \n",
    "    def zigzagLevelOrder(self, root):\n",
    "        self.results = []\n",
    "        self.preorder(root, 0, self.results)\n",
    "        return self.results"
   ]
  },
  {
   "cell_type": "code",
   "execution_count": null,
   "metadata": {},
   "outputs": [],
   "source": []
  },
  {
   "cell_type": "code",
   "execution_count": null,
   "metadata": {},
   "outputs": [],
   "source": []
  },
  {
   "cell_type": "code",
   "execution_count": null,
   "metadata": {},
   "outputs": [],
   "source": [
    "class Solution:\n",
    "    \"\"\"\n",
    "    @param: root: A Tree\n",
    "    @return: A list of lists of integer include the zigzag level order traversal of its nodes' values.\n",
    "    \"\"\"\n",
    "    def zigzagLevelOrder(self, root):\n",
    "        # write your code here\n",
    "        if root is None:\n",
    "            return []\n",
    "        # 根据count来追踪层，偶数层则反转\n",
    "        count = 1\n",
    "        result = []\n",
    "        \n",
    "        import Queue\n",
    "        q = Queue.Queue()\n",
    "        q.put(root)\n",
    "        \n",
    "        while not q.empty():\n",
    "            size = q.qsize()\n",
    "            sub = []\n",
    "            for i in range(size):\n",
    "                node = q.get()\n",
    "                sub.append(node.val)\n",
    "                if node.left:\n",
    "                    q.put(node.left)\n",
    "                if node.right:\n",
    "                    q.put(node.right)\n",
    "\n",
    "            if count%2 == 0:\n",
    "                sub = sub[::-1]\n",
    "            count+=1\n",
    "            result.append(sub)\n",
    "            \n",
    "        return result"
   ]
  },
  {
   "cell_type": "code",
   "execution_count": null,
   "metadata": {},
   "outputs": [],
   "source": []
  },
  {
   "cell_type": "code",
   "execution_count": null,
   "metadata": {},
   "outputs": [],
   "source": []
  },
  {
   "cell_type": "code",
   "execution_count": null,
   "metadata": {},
   "outputs": [],
   "source": []
  },
  {
   "cell_type": "code",
   "execution_count": null,
   "metadata": {},
   "outputs": [],
   "source": []
  },
  {
   "cell_type": "code",
   "execution_count": null,
   "metadata": {},
   "outputs": [],
   "source": []
  },
  {
   "cell_type": "code",
   "execution_count": null,
   "metadata": {},
   "outputs": [],
   "source": []
  },
  {
   "cell_type": "code",
   "execution_count": null,
   "metadata": {},
   "outputs": [],
   "source": []
  }
 ],
 "metadata": {
  "kernelspec": {
   "display_name": "Python 3",
   "language": "python",
   "name": "python3"
  },
  "language_info": {
   "codemirror_mode": {
    "name": "ipython",
    "version": 3
   },
   "file_extension": ".py",
   "mimetype": "text/x-python",
   "name": "python",
   "nbconvert_exporter": "python",
   "pygments_lexer": "ipython3",
   "version": "3.6.3"
  }
 },
 "nbformat": 4,
 "nbformat_minor": 2
}
