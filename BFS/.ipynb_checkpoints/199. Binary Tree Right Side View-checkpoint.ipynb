{
 "cells": [
  {
   "cell_type": "code",
   "execution_count": 1,
   "metadata": {},
   "outputs": [
    {
     "data": {
      "text/plain": [
       "'\\nGiven a binary tree, imagine yourself standing on the right side of it, return the values of the nodes you can see ordered from top to bottom.\\n\\nExample:\\n\\nInput: [1,2,3,null,5,null,4]\\nOutput: [1, 3, 4]\\nExplanation:\\n\\n   1            <---\\n /   2     3         <---\\n \\\\       5     4       <---'"
      ]
     },
     "execution_count": 1,
     "metadata": {},
     "output_type": "execute_result"
    }
   ],
   "source": [
    "\"\"\"\n",
    "Given a binary tree, imagine yourself standing on the right side of it, \n",
    "return the values of the nodes you can see ordered from top to bottom.\n",
    "\n",
    "Example:\n",
    "\n",
    "Input: [1,2,3,null,5,null,4]\n",
    "Output: [1, 3, 4]\n",
    "Explanation:\n",
    "\n",
    "   1            <---\n",
    " /   \\\n",
    "2     3         <---\n",
    " \\     \\\n",
    "  5     4       <---\"\"\""
   ]
  },
  {
   "cell_type": "code",
   "execution_count": null,
   "metadata": {},
   "outputs": [],
   "source": [
    "#解题思路：\n",
    "# 二叉树的层次遍历，每层按照从右向左的顺序依次访问节点\n",
    "# Definition for a  binary tree node\n",
    "# class TreeNode:\n",
    "#     def __init__(self, x):\n",
    "#         self.val = x\n",
    "#         self.left = None\n",
    "#         self.right = None\n",
    "\n",
    "class Solution:\n",
    "    # @param root, a tree node\n",
    "    # @return a list of integers\n",
    "    def rightSideView(self, root):\n",
    "        ans = []\n",
    "        if root is None:\n",
    "            return ans\n",
    "        queue = [root]\n",
    "        while queue:\n",
    "            size = len(queue)\n",
    "            for r in range(size):\n",
    "                top = queue.pop(0)\n",
    "                if r == 0:\n",
    "                    ans.append(top.val)\n",
    "                if top.right:\n",
    "                    queue.append(top.right)\n",
    "                if top.left:\n",
    "                    queue.append(top.left)\n",
    "        return ans"
   ]
  },
  {
   "cell_type": "code",
   "execution_count": null,
   "metadata": {},
   "outputs": [],
   "source": [
    "#在一层遍历基础上加一个最后一句\n",
    "\n",
    "# Definition for a binary tree node.\n",
    "# class TreeNode(object):\n",
    "#     def __init__(self, x):\n",
    "#         self.val = x\n",
    "#         self.left = None\n",
    "#         self.right = None\n",
    "\n",
    "class Solution(object):\n",
    "    def rightSideView(self, root):\n",
    "        \"\"\"\n",
    "        :type root: TreeNode\n",
    "        :rtype: List[int]\n",
    "        \"\"\"\n",
    "\n",
    "        # write your code here\n",
    "        self.results = []\n",
    "        if not root:\n",
    "            return self.results\n",
    "        q = [root]\n",
    "        while q:\n",
    "            new_q = []\n",
    "            self.results.append([n.val for n in q])\n",
    "            for node in q:\n",
    "                if node.left:\n",
    "                    new_q.append(node.left)\n",
    "                if node.right:\n",
    "                    new_q.append(node.right)\n",
    "            q = new_q\n",
    "            x = [nod[-1] for nod in self.results]\n",
    "            \n",
    "        return x"
   ]
  },
  {
   "cell_type": "code",
   "execution_count": null,
   "metadata": {},
   "outputs": [],
   "source": []
  },
  {
   "cell_type": "code",
   "execution_count": null,
   "metadata": {},
   "outputs": [],
   "source": []
  },
  {
   "cell_type": "code",
   "execution_count": null,
   "metadata": {},
   "outputs": [],
   "source": []
  },
  {
   "cell_type": "code",
   "execution_count": null,
   "metadata": {},
   "outputs": [],
   "source": []
  },
  {
   "cell_type": "code",
   "execution_count": null,
   "metadata": {},
   "outputs": [],
   "source": []
  }
 ],
 "metadata": {
  "kernelspec": {
   "display_name": "Python 3",
   "language": "python",
   "name": "python3"
  },
  "language_info": {
   "codemirror_mode": {
    "name": "ipython",
    "version": 3
   },
   "file_extension": ".py",
   "mimetype": "text/x-python",
   "name": "python",
   "nbconvert_exporter": "python",
   "pygments_lexer": "ipython3",
   "version": "3.6.3"
  }
 },
 "nbformat": 4,
 "nbformat_minor": 2
}
