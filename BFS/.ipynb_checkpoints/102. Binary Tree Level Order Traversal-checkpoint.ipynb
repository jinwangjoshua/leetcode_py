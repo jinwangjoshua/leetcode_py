{
 "cells": [
  {
   "cell_type": "code",
   "execution_count": null,
   "metadata": {},
   "outputs": [],
   "source": [
    "\"\"\"Given a binary tree, return the level order traversal of its nodes' values. \n",
    "(ie, from left to right, level by level).\n",
    "\n",
    "For example:\n",
    "Given binary tree [3,9,20,null,null,15,7],\n",
    "    3\n",
    "   / \\\n",
    "  9  20\n",
    "    /  \\\n",
    "   15   7\n",
    "return its level order traversal as:\n",
    "[\n",
    "  [3],\n",
    "  [9,20],\n",
    "  [15,7]\n",
    "]\"\"\""
   ]
  },
  {
   "cell_type": "code",
   "execution_count": null,
   "metadata": {},
   "outputs": [],
   "source": [
    "class Solution:\n",
    "    \"\"\"\n",
    "    @param root: The root of binary tree.\n",
    "    @return: Level order in a list of lists of integers\n",
    "    \"\"\"\n",
    "    def levelOrder(self, root):\n",
    "        # write your code here\n",
    "        self.results = []\n",
    "        if not root:\n",
    "            return self.results\n",
    "        q = [root]\n",
    "        while q:\n",
    "            new_q = []\n",
    "            self.results.append([n.val for n in q])\n",
    "            for node in q:\n",
    "                if node.left:\n",
    "                    new_q.append(node.left)\n",
    "                if node.right:\n",
    "                    new_q.append(node.right)\n",
    "            q = new_q\n",
    "        return self.results"
   ]
  },
  {
   "cell_type": "code",
   "execution_count": null,
   "metadata": {},
   "outputs": [],
   "source": [
    "class Solution:\n",
    "    def levelOrder(self, root):\n",
    "        results = []\n",
    "        if not root:\n",
    "            return results\n",
    "        q = [root]\n",
    "        while q:\n",
    "            new_q = []\n",
    "            self.results.append([n.val for n in q])\n",
    "            for node in q:\n",
    "                if node.left:\n",
    "                    new_q.append(node.left)\n",
    "                if node.right:\n",
    "                    new_q.append(node.right)\n",
    "            q = new_q\n",
    "        return results\n",
    "        "
   ]
  },
  {
   "cell_type": "code",
   "execution_count": null,
   "metadata": {},
   "outputs": [],
   "source": []
  },
  {
   "cell_type": "code",
   "execution_count": null,
   "metadata": {},
   "outputs": [],
   "source": []
  },
  {
   "cell_type": "code",
   "execution_count": null,
   "metadata": {},
   "outputs": [],
   "source": []
  },
  {
   "cell_type": "code",
   "execution_count": null,
   "metadata": {},
   "outputs": [],
   "source": []
  },
  {
   "cell_type": "code",
   "execution_count": null,
   "metadata": {},
   "outputs": [],
   "source": []
  }
 ],
 "metadata": {
  "kernelspec": {
   "display_name": "Python 3",
   "language": "python",
   "name": "python3"
  },
  "language_info": {
   "codemirror_mode": {
    "name": "ipython",
    "version": 3
   },
   "file_extension": ".py",
   "mimetype": "text/x-python",
   "name": "python",
   "nbconvert_exporter": "python",
   "pygments_lexer": "ipython3",
   "version": "3.6.3"
  }
 },
 "nbformat": 4,
 "nbformat_minor": 2
}
