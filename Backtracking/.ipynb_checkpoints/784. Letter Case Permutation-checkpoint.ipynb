{
 "cells": [
  {
   "cell_type": "code",
   "execution_count": null,
   "metadata": {},
   "outputs": [],
   "source": [
    "\"\"\"Given a string S, we can transform every letter individually to be lowercase or uppercase to create another string.  \n",
    "Return a list of all possible strings we could create.\n",
    "\n",
    "Examples:\n",
    "Input: S = \"a1b2\"\n",
    "Output: [\"a1b2\", \"a1B2\", \"A1b2\", \"A1B2\"]\n",
    "\n",
    "Input: S = \"3z4\"\n",
    "Output: [\"3z4\", \"3Z4\"]\n",
    "\n",
    "Input: S = \"12345\"\n",
    "Output: [\"12345\"]\n",
    "Note:\n",
    "\n",
    "S will be a string with length at most 12.\n",
    "S will consist only of letters or digits.\n",
    "\n",
    "感觉所谓回溯法就是尝试各种组合\n",
    "\n",
    "\"\"\""
   ]
  },
  {
   "cell_type": "code",
   "execution_count": 9,
   "metadata": {},
   "outputs": [],
   "source": [
    "#回溯法\n",
    "class Solution(object):\n",
    "    def letterCasePermutation(self, S):\n",
    "        \"\"\"\n",
    "        :type S: str\n",
    "        :rtype: List[str]\n",
    "        \"\"\"\n",
    "        res = []\n",
    "        self.dfs(S, 0, res, '')\n",
    "        return res\n",
    "\n",
    "    def dfs(self, string, index, res, path):\n",
    "        if index == len(string):\n",
    "            res.append(path)\n",
    "            return\n",
    "        else:   \n",
    "            if string[index].isalpha():  #isalpha是字母\n",
    "                self.dfs(string, index + 1, res, path + string[index].upper())\n",
    "                self.dfs(string, index + 1, res, path + string[index].lower())\n",
    "            else:  #是数字\n",
    "                self.dfs(string, index + 1, res, path + string[index])\n",
    "                \n",
    "                \n",
    "# Solution().letterCasePermutation('dsde2')"
   ]
  },
  {
   "cell_type": "code",
   "execution_count": 10,
   "metadata": {},
   "outputs": [],
   "source": [
    "\n",
    "#用递归，很直观http://bookshadow.com/weblog/2018/02/18/leetcode-letter-case-permutation/\n",
    "class Solution(object):\n",
    "    def letterCasePermutation(self, S):\n",
    "        \"\"\"\n",
    "        :type S: str\n",
    "        :rtype: List[str]\n",
    "        \"\"\"\n",
    "        if not S: return [S]\n",
    "        rest = self.letterCasePermutation(S[1:])\n",
    "        if S[0].isalpha():\n",
    "            return [S[0].lower() + s for s in rest] + [S[0].upper() + s for s in rest]   #list也可以直接相加\n",
    "        return [S[0] + s for s in rest]"
   ]
  },
  {
   "cell_type": "code",
   "execution_count": 14,
   "metadata": {},
   "outputs": [],
   "source": [
    "class Solution():\n",
    "    def letterCaseMutation():\n",
    "        if not S: return S\n",
    "        rest =self.letterCaseMutation(S[1:])\n",
    "        if S[0].isalpha():\n",
    "            return [s[0].upper() + s for s in rest] + [s[0].upper() + s for s in rest]\n",
    "        \n",
    "        return [S[0] + s for s in rest]"
   ]
  },
  {
   "cell_type": "code",
   "execution_count": 15,
   "metadata": {},
   "outputs": [
    {
     "data": {
      "text/plain": [
       "[1, 2]"
      ]
     },
     "execution_count": 15,
     "metadata": {},
     "output_type": "execute_result"
    }
   ],
   "source": []
  },
  {
   "cell_type": "code",
   "execution_count": null,
   "metadata": {},
   "outputs": [],
   "source": []
  },
  {
   "cell_type": "code",
   "execution_count": null,
   "metadata": {},
   "outputs": [],
   "source": []
  },
  {
   "cell_type": "code",
   "execution_count": null,
   "metadata": {},
   "outputs": [],
   "source": []
  },
  {
   "cell_type": "code",
   "execution_count": null,
   "metadata": {},
   "outputs": [],
   "source": []
  }
 ],
 "metadata": {
  "kernelspec": {
   "display_name": "Python 3",
   "language": "python",
   "name": "python3"
  },
  "language_info": {
   "codemirror_mode": {
    "name": "ipython",
    "version": 3
   },
   "file_extension": ".py",
   "mimetype": "text/x-python",
   "name": "python",
   "nbconvert_exporter": "python",
   "pygments_lexer": "ipython3",
   "version": "3.6.3"
  }
 },
 "nbformat": 4,
 "nbformat_minor": 2
}
