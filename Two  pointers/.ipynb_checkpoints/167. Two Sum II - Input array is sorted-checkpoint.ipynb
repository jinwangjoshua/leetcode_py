{
 "cells": [
  {
   "cell_type": "code",
   "execution_count": 1,
   "metadata": {},
   "outputs": [
    {
     "data": {
      "text/plain": [
       "'Given an array of integers that is already sorted in ascending order, find two numbers such that they add up to a specific target number.\\n\\nThe function twoSum should return indices of the two numbers such that they add up to the target, where index1 must be less than index2.\\n\\nNote:\\n\\nYour returned answers (both index1 and index2) are not zero-based.\\nYou may assume that each input would have exactly one solution and you may not use the same element twice.\\nExample:\\n\\nInput: numbers = [2,7,11,15], target = 9\\nOutput: [1,2]\\nExplanation: The sum of 2 and 7 is 9. Therefore index1 = 1, index2 = 2.\\n'"
      ]
     },
     "execution_count": 1,
     "metadata": {},
     "output_type": "execute_result"
    }
   ],
   "source": [
    "\"\"\"Given an array of integers that is already sorted in ascending order, find two numbers such that they add up to a specific target number.\n",
    "\n",
    "The function twoSum should return indices of the two numbers such that they add up to the target, where index1 must be less than index2.\n",
    "\n",
    "Note:\n",
    "\n",
    "Your returned answers (both index1 and index2) are not zero-based.\n",
    "You may assume that each input would have exactly one solution and you may not use the same element twice.\n",
    "Example:\n",
    "\n",
    "Input: numbers = [2,7,11,15], target = 9\n",
    "Output: [1,2]\n",
    "Explanation: The sum of 2 and 7 is 9. Therefore index1 = 1, index2 = 2.\n",
    "\"\"\""
   ]
  },
  {
   "cell_type": "code",
   "execution_count": 20,
   "metadata": {},
   "outputs": [
    {
     "data": {
      "text/plain": [
       "[1, 2]"
      ]
     },
     "execution_count": 20,
     "metadata": {},
     "output_type": "execute_result"
    }
   ],
   "source": [
    "class Solution:\n",
    "    def twoSum(self, numbers, target):\n",
    "        \"\"\"\n",
    "        :type numbers: List[int]\n",
    "        :type target: int\n",
    "        :rtype: List[int]\n",
    "        \"\"\"\n",
    "        \n",
    "        if target < numbers[0]:\n",
    "            return False\n",
    "\n",
    "        start, end = 0, len(numbers)-1\n",
    "        while start<end:\n",
    "            if numbers[start] + numbers[end] > target:\n",
    "                end -= 1\n",
    "            elif numbers[start] + numbers[end] < target:\n",
    "                start += 1\n",
    "            else:\n",
    "                return [start+1, end+1]\n",
    "            \n",
    "        return False\n",
    "\n",
    "            \n",
    "Solution().twoSum([-1, 0], -1)"
   ]
  },
  {
   "cell_type": "code",
   "execution_count": null,
   "metadata": {},
   "outputs": [],
   "source": [
    "#和我的解法是一样的\n",
    "\n",
    "class Solution:\n",
    "    \"\"\"\n",
    "    @param nums {int[]} n array of Integer\n",
    "    @param target {int} = nums[index1] + nums[index2]\n",
    "    @return {int[]} [index1 + 1, index2 + 1] (index1 < index2)\n",
    "    \"\"\"\n",
    "    def twoSum(self, nums, target):\n",
    "        # Write your code here\n",
    "        l, r = 0, len(nums)-1\n",
    "        while l < r:\n",
    "            value = nums[l] + nums[r]\n",
    "            if value == target:\n",
    "                return [l + 1, r + 1]\n",
    "            elif value < target:\n",
    "                l += 1\n",
    "            else:\n",
    "                r -= 1\n",
    "        return []"
   ]
  },
  {
   "cell_type": "code",
   "execution_count": null,
   "metadata": {},
   "outputs": [],
   "source": []
  },
  {
   "cell_type": "code",
   "execution_count": null,
   "metadata": {},
   "outputs": [],
   "source": []
  },
  {
   "cell_type": "code",
   "execution_count": null,
   "metadata": {},
   "outputs": [],
   "source": []
  },
  {
   "cell_type": "code",
   "execution_count": null,
   "metadata": {},
   "outputs": [],
   "source": []
  }
 ],
 "metadata": {
  "kernelspec": {
   "display_name": "Python 3",
   "language": "python",
   "name": "python3"
  },
  "language_info": {
   "codemirror_mode": {
    "name": "ipython",
    "version": 3
   },
   "file_extension": ".py",
   "mimetype": "text/x-python",
   "name": "python",
   "nbconvert_exporter": "python",
   "pygments_lexer": "ipython3",
   "version": "3.6.3"
  }
 },
 "nbformat": 4,
 "nbformat_minor": 2
}
