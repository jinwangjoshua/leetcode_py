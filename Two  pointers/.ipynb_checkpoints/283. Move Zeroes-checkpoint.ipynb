{
 "cells": [
  {
   "cell_type": "code",
   "execution_count": null,
   "metadata": {},
   "outputs": [],
   "source": [
    "\"\"\"Given an array nums, write a function to move all 0's \n",
    "to the end of it while maintaining the relative order of the non-zero elements.\n",
    "\n",
    "Example:\n",
    "\n",
    "Input: [0,1,0,3,12]\n",
    "Output: [1,3,12,0,0]\n",
    "Note:\n",
    "\n",
    "You must do this in-place without making a copy of the array.\n",
    "Minimize the total number of operations.\n",
    "\n",
    "#n难点，保持顺序\n",
    "\n",
    "\"\"\""
   ]
  },
  {
   "cell_type": "code",
   "execution_count": 16,
   "metadata": {},
   "outputs": [
    {
     "data": {
      "text/plain": [
       "[12, 1, 3, 0, 0]"
      ]
     },
     "execution_count": 16,
     "metadata": {},
     "output_type": "execute_result"
    }
   ],
   "source": [
    "class Solution:\n",
    "    def moveZeroes(self, nums):\n",
    "        \"\"\"\n",
    "        :type nums: List[int]\n",
    "        :rtype: void Do not return anything, modify nums in-place instead.\n",
    "        \"\"\"\n",
    "        if len(nums) == 0 | 1:\n",
    "            return nums\n",
    "        start, end = 0, len(nums)-1\n",
    "        \n",
    "        while start<end:\n",
    "            if nums[start]==0 and nums[end]!=0:\n",
    "                nums[start], nums[end] =  nums[end],  nums[start]\n",
    "                end -= 1\n",
    "                start += 1\n",
    "            elif nums[start]==0 and nums[end]==0:\n",
    "                end -= 1\n",
    "            elif nums[start] != 0 and nums[end] != 0:\n",
    "                start += 1\n",
    "            else: #elif nums[start] != 0 and nums[end] == 0:\n",
    "                end -= 1\n",
    "                start += 1\n",
    "        \n",
    "        return nums\n",
    "\n",
    "        \n",
    "        \n",
    "Solution().moveZeroes([0, 1,0,3,12])"
   ]
  },
  {
   "cell_type": "code",
   "execution_count": 18,
   "metadata": {},
   "outputs": [],
   "source": [
    "#把所有非零从前到后捋一遍；0之后的反而直接都是0\n",
    "\n",
    "\n",
    "#其实这里的i就是一个慢速指针的作用\n",
    "class Solution(object):\n",
    "    def moveZeroes(self, nums):\n",
    "        \"\"\"\n",
    "        :type nums: List[int]\n",
    "        :rtype: void Do not return anything, modify nums in-place instead.\n",
    "        \"\"\"\n",
    "        i = 0\n",
    "        for num in nums:\n",
    "            if num != 0:\n",
    "                nums[i] = num\n",
    "                i += 1\n",
    "\n",
    "        for j in range(i, len(nums)):\n",
    "            nums[j] = 0  #后面直接全部置零\n",
    "#         return nums\n",
    "            \n",
    "Solution().moveZeroes([0, 1,0,12,3])"
   ]
  },
  {
   "cell_type": "code",
   "execution_count": null,
   "metadata": {},
   "outputs": [],
   "source": [
    "#\n",
    "def moveZeros(nums):\n",
    "    i　= 0\n",
    "    for num in nums:\n",
    "        if num != 0:\n",
    "            nums[i] = num\n",
    "            i += 1\n",
    "    for j in range(i, len(nums)):\n",
    "        nums[j] = 0#b"
   ]
  },
  {
   "cell_type": "code",
   "execution_count": null,
   "metadata": {},
   "outputs": [],
   "source": []
  },
  {
   "cell_type": "code",
   "execution_count": 21,
   "metadata": {},
   "outputs": [
    {
     "name": "stdout",
     "output_type": "stream",
     "text": [
      "[0, 1, 0, 12, 3]\n",
      "[1, 0, 0, 12, 3]\n",
      "[1, 12, 0, 0, 3]\n"
     ]
    }
   ],
   "source": [
    "#two pointer:只不过不是前后两端，而是一块一慢两个数组\n",
    "\n",
    "class Solution(object):\n",
    "    def moveZeroes(self, nums):\n",
    "        \"\"\"\n",
    "        :type nums: List[int]\n",
    "        :rtype: void Do not return anything, modify nums in-place instead.\n",
    "        \"\"\"\n",
    "        slow = fast = 0\n",
    "        while fast < len(nums):\n",
    "            if nums[fast] != 0:\n",
    "                print(nums)\n",
    "                if slow != fast:\n",
    "                    nums[slow] = nums[fast]\n",
    "                    nums[fast] = 0 #很重要，把非零搬到前面自己就置零，放完屁就跑\n",
    "                slow += 1   #平时慢速指针是不动的，有情况就转换，因为slow往前走过的路都是fast走过的，已经被清零了，所以用slow和fast交换\n",
    "            fast += 1   #啥情况没有快指针继续往前动\n",
    "            \n",
    "            \n",
    "Solution().moveZeroes([0, 1,0,12,3])"
   ]
  },
  {
   "cell_type": "code",
   "execution_count": null,
   "metadata": {},
   "outputs": [],
   "source": [
    "def moveZeroes(self, nums):\n",
    "    slow = fast =0\n",
    "    while fast < len(nums):\n",
    "        if nums[fast] != 0:\n",
    "            nums[slow] = nums[fast]\n",
    "            nums[fast] = 0\n",
    "            \n",
    "            slow += 1\n",
    "            \n",
    "        fast +=1"
   ]
  },
  {
   "cell_type": "code",
   "execution_count": null,
   "metadata": {},
   "outputs": [],
   "source": []
  },
  {
   "cell_type": "code",
   "execution_count": null,
   "metadata": {},
   "outputs": [],
   "source": []
  },
  {
   "cell_type": "code",
   "execution_count": null,
   "metadata": {},
   "outputs": [],
   "source": []
  },
  {
   "cell_type": "code",
   "execution_count": null,
   "metadata": {},
   "outputs": [],
   "source": []
  },
  {
   "cell_type": "code",
   "execution_count": null,
   "metadata": {},
   "outputs": [],
   "source": []
  },
  {
   "cell_type": "code",
   "execution_count": null,
   "metadata": {},
   "outputs": [],
   "source": []
  },
  {
   "cell_type": "code",
   "execution_count": null,
   "metadata": {},
   "outputs": [],
   "source": []
  },
  {
   "cell_type": "code",
   "execution_count": null,
   "metadata": {},
   "outputs": [],
   "source": []
  },
  {
   "cell_type": "code",
   "execution_count": null,
   "metadata": {},
   "outputs": [],
   "source": []
  },
  {
   "cell_type": "code",
   "execution_count": null,
   "metadata": {},
   "outputs": [],
   "source": []
  },
  {
   "cell_type": "code",
   "execution_count": null,
   "metadata": {},
   "outputs": [],
   "source": []
  },
  {
   "cell_type": "code",
   "execution_count": null,
   "metadata": {},
   "outputs": [],
   "source": []
  }
 ],
 "metadata": {
  "kernelspec": {
   "display_name": "Python 3",
   "language": "python",
   "name": "python3"
  },
  "language_info": {
   "codemirror_mode": {
    "name": "ipython",
    "version": 3
   },
   "file_extension": ".py",
   "mimetype": "text/x-python",
   "name": "python",
   "nbconvert_exporter": "python",
   "pygments_lexer": "ipython3",
   "version": "3.6.3"
  }
 },
 "nbformat": 4,
 "nbformat_minor": 2
}
