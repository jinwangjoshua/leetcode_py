{
 "cells": [
  {
   "cell_type": "code",
   "execution_count": null,
   "metadata": {},
   "outputs": [],
   "source": [
    "\"\"\"Implement strStr().\n",
    "\n",
    "Return the index of the first occurrence of needle in haystack, or -1 if needle is not part of haystack.\n",
    "\n",
    "问题在于判断后者是否在前者里面，而不是第一个字母是否在；\n",
    "注意\n",
    "\"mississippi\"\n",
    "\"issip\"\n",
    "应该是4不该是1\n",
    "\n",
    "Example 1:\n",
    "\n",
    "Input: haystack = \"hello\", needle = \"ll\"\n",
    "Output: 2\n",
    "Example 2:\n",
    "\n",
    "Input: haystack = \"aaaaa\", needle = \"bba\"\n",
    "Output: -1\n",
    "Clarification:\n",
    "\n",
    "What should we return when needle is an empty string? This is a great question to ask during an interview.\n",
    "\n",
    "For the purpose of this problem, we will return 0 when needle is an empty string. \n",
    "This is consistent to C's strstr() and Java's indexOf().\"\"\""
   ]
  },
  {
   "cell_type": "code",
   "execution_count": 34,
   "metadata": {},
   "outputs": [
    {
     "data": {
      "text/plain": [
       "4"
      ]
     },
     "execution_count": 34,
     "metadata": {},
     "output_type": "execute_result"
    }
   ],
   "source": [
    "#和下面原理是一样的，但是比较能够理解\n",
    "\n",
    "class Solution:\n",
    "    def strStr(self, haystack, needle):\n",
    "        \"\"\"\n",
    "        Algorithm:\n",
    "        two pointers\n",
    "        :param haystack: str\n",
    "        :param needle: str\n",
    "        :return: str or None\n",
    "        \"\"\"\n",
    "        l_hay = len(haystack)\n",
    "        l_ndl = len(needle)\n",
    "        if l_ndl == 0:\n",
    "            return 0\n",
    "        if l_ndl>l_hay:\n",
    "            return -1\n",
    "        for i in range(l_hay-l_ndl+1):  # i+l_ndl <= l_hay\n",
    "            if haystack[i:i+l_ndl]==needle:\n",
    "                return i\n",
    "        return -1\n",
    "    \n",
    "Solution().strStr('mississippi', 'issip')"
   ]
  },
  {
   "cell_type": "code",
   "execution_count": 32,
   "metadata": {},
   "outputs": [
    {
     "name": "stdout",
     "output_type": "stream",
     "text": [
      "i\n",
      "p\n",
      "i\n",
      "i\n"
     ]
    },
    {
     "data": {
      "text/plain": [
       "4"
      ]
     },
     "execution_count": 32,
     "metadata": {},
     "output_type": "execute_result"
    }
   ],
   "source": [
    "class Solution:\n",
    "    def strStr(self, source, target):\n",
    "        if source is None or target is None:\n",
    "            return -1\n",
    "        len_s = len(source)  #长的str\n",
    "        len_t = len(target)   #短的string\n",
    "        if len_t == 0:\n",
    "            return 0\n",
    "        if len_t>len_s:\n",
    "            return -1\n",
    "        \n",
    "        for i in range(len_s - len_t + 1):  #长的长度减去短的长度\n",
    "            j = 0\n",
    "            while (j < len_t):\n",
    "                if source[i + j] != target[j]:\n",
    "                    print(target[j])\n",
    "                    break\n",
    "                j += 1\n",
    "            if j == len_t:\n",
    "                return i\n",
    "        return -1\n",
    "    \n",
    "            \n",
    "            \n",
    "#复杂度有点高\n",
    "Solution().strStr('mississippi', 'issip')"
   ]
  },
  {
   "cell_type": "code",
   "execution_count": null,
   "metadata": {},
   "outputs": [],
   "source": []
  },
  {
   "cell_type": "code",
   "execution_count": null,
   "metadata": {},
   "outputs": [],
   "source": []
  }
 ],
 "metadata": {
  "kernelspec": {
   "display_name": "Python 3",
   "language": "python",
   "name": "python3"
  },
  "language_info": {
   "codemirror_mode": {
    "name": "ipython",
    "version": 3
   },
   "file_extension": ".py",
   "mimetype": "text/x-python",
   "name": "python",
   "nbconvert_exporter": "python",
   "pygments_lexer": "ipython3",
   "version": "3.6.3"
  }
 },
 "nbformat": 4,
 "nbformat_minor": 2
}
