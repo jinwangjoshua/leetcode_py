{
 "cells": [
  {
   "cell_type": "code",
   "execution_count": 1,
   "metadata": {},
   "outputs": [
    {
     "data": {
      "text/plain": [
       "'Given two sorted integer arrays nums1 and nums2, merge nums2 into nums1 as one sorted array.\\n\\nNote:\\n\\nThe number of elements initialized in nums1 and nums2 are m and n respectively.\\nYou may assume that nums1 has enough space (size that is greater or equal to m + n) \\nto hold additional elements from nums2.\\nExample:\\n\\nInput:\\nnums1 = [1,2,3,0,0,0], m = 3\\nnums2 = [2,5,6],       n = 3\\n\\nOutput: [1,2,2,3,5,6]'"
      ]
     },
     "execution_count": 1,
     "metadata": {},
     "output_type": "execute_result"
    }
   ],
   "source": [
    "\"\"\"Given two sorted integer arrays nums1 and nums2, merge nums2 into nums1 as one sorted array.\n",
    "\n",
    "Note:\n",
    "\n",
    "The number of elements initialized in nums1 and nums2 are m and n respectively.\n",
    "You may assume that nums1 has enough space (size that is greater or equal to m + n) \n",
    "to hold additional elements from nums2.\n",
    "Example:\n",
    "\n",
    "Input:\n",
    "nums1 = [1,2,3,0,0,0], m = 3\n",
    "nums2 = [2,5,6],       n = 3\n",
    "\n",
    "Output: [1,2,2,3,5,6]\"\"\""
   ]
  },
  {
   "cell_type": "code",
   "execution_count": 2,
   "metadata": {},
   "outputs": [],
   "source": [
    "#这也太耍赖了\n",
    "#既然给了mn，先暴力合并，再sort()函数；感觉这个有点侮辱出题人智商了\n",
    "\n",
    "# class Solution:\n",
    "#     def merge(self, A, m, B, n):\n",
    "#         for i in range(n):\n",
    "#             A[i+m] = B[i]\n",
    "#         A.sort()"
   ]
  },
  {
   "cell_type": "code",
   "execution_count": 3,
   "metadata": {},
   "outputs": [
    {
     "data": {
      "text/plain": [
       "[1, 2, 3, 5, 6]"
      ]
     },
     "execution_count": 3,
     "metadata": {},
     "output_type": "execute_result"
    }
   ],
   "source": [
    "\n",
    "class Solution:\n",
    "    \"\"\"\n",
    "    @param: A: sorted integer array A which has m elements, but size of A is m+n\n",
    "    @param: m: An integer\n",
    "    @param: B: sorted integer array B which has n elements\n",
    "    @param: n: An integer\n",
    "    @return: nothing\n",
    "    \"\"\"\n",
    "    def merge(self, A, m, B, n):\n",
    "        D=A[:m]   #q前几个非零整数\n",
    "        p1=len(D)\n",
    "        p2=len(B)\n",
    "        i,j=0,0\n",
    "        C=[]\n",
    "        while (i<p1) and (j<p2):\n",
    "            if D[i]<B[j]:\n",
    "                C.append(D[i])\n",
    "                i+=1\n",
    "            else:\n",
    "                C.append(B[j])\n",
    "                j+=1\n",
    "                \n",
    "        #一长一短，还剩下一些长度时候\n",
    "        while i < p1:\n",
    "            C.append(D[i])\n",
    "            i += 1\n",
    "        while j < p2:\n",
    "            C.append(B[j])\n",
    "            j += 1\n",
    "        \n",
    "        return C\n",
    "            \n",
    "Solution().merge([1,2,3,0,0,0],3,[5,6],2)"
   ]
  },
  {
   "cell_type": "code",
   "execution_count": 7,
   "metadata": {},
   "outputs": [
    {
     "data": {
      "text/plain": [
       "[1, 2, 3, 5, 6]"
      ]
     },
     "execution_count": 7,
     "metadata": {},
     "output_type": "execute_result"
    }
   ],
   "source": [
    "def merge2arrays(A,m,B,n):\n",
    "    D = A[:m]\n",
    "    len_A = len(D)   #或者m\n",
    "    len_B = len(B)   #或者n\n",
    "    \n",
    "    global i, j, C\n",
    "    i=j=0\n",
    "    C=[]\n",
    "    \n",
    "    while (i<len_A) and (j<len_B):\n",
    "        if D[i] <= B[j]:\n",
    "            C.append(D[i])\n",
    "            i += 1\n",
    "        else:\n",
    "            C.append(B[j])\n",
    "            j += 1\n",
    "    while i<m:\n",
    "        C.append(D[i])\n",
    "        i += 1\n",
    "    while j<n:\n",
    "        C.append(B[j])\n",
    "        j += 1\n",
    "        \n",
    "    return C\n",
    "        \n",
    "merge2arrays([1,2,3,0,0,0],3,[5,6],2)"
   ]
  },
  {
   "cell_type": "code",
   "execution_count": null,
   "metadata": {},
   "outputs": [],
   "source": []
  },
  {
   "cell_type": "code",
   "execution_count": null,
   "metadata": {},
   "outputs": [],
   "source": []
  },
  {
   "cell_type": "code",
   "execution_count": null,
   "metadata": {},
   "outputs": [],
   "source": []
  }
 ],
 "metadata": {
  "kernelspec": {
   "display_name": "Python 3",
   "language": "python",
   "name": "python3"
  },
  "language_info": {
   "codemirror_mode": {
    "name": "ipython",
    "version": 3
   },
   "file_extension": ".py",
   "mimetype": "text/x-python",
   "name": "python",
   "nbconvert_exporter": "python",
   "pygments_lexer": "ipython3",
   "version": "3.6.3"
  }
 },
 "nbformat": 4,
 "nbformat_minor": 2
}
